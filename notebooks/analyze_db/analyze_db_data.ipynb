{
 "cells": [
  {
   "cell_type": "code",
   "execution_count": 9,
   "id": "df04470a-4b15-4548-b648-efd78b30b2a6",
   "metadata": {},
   "outputs": [],
   "source": [
    "import sys\n",
    "import yaml\n",
    "import time\n",
    "from pathlib import Path\n",
    "\n",
    "import pandas as pd\n",
    "import connectorx as cx\n",
    "from sqlalchemy import create_engine\n",
    "\n",
    "import seaborn as sns\n",
    "import matplotlib.pyplot as plt\n",
    "import plotly.express as px\n",
    "import plotly.graph_objects as go\n",
    "\n",
    "# custom\n",
    "sys.path.append(str(Path('../..').resolve()))\n",
    "from src.pipeline.clients import get_db_client\n",
    "from src.utils.db_operator import SQLQueryOperator"
   ]
  },
  {
   "cell_type": "code",
   "execution_count": 2,
   "id": "2a5fc811-aeb2-428a-a9ed-28050af67bdc",
   "metadata": {},
   "outputs": [],
   "source": [
    "sql = SQLQueryOperator(config_path='../../source_config.yaml')"
   ]
  },
  {
   "cell_type": "markdown",
   "id": "81efa031-22e2-4cb7-a107-0801c860082a",
   "metadata": {},
   "source": [
    "### Timespan data collection"
   ]
  },
  {
   "cell_type": "code",
   "execution_count": 3,
   "id": "44a7ff7e-d781-4e49-958c-0fefeb7bf3ce",
   "metadata": {},
   "outputs": [
    {
     "name": "stdout",
     "output_type": "stream",
     "text": [
      "Retrieved 1 datapoints in 0.307 seconds\n"
     ]
    },
    {
     "data": {
      "text/html": [
       "<div>\n",
       "<style scoped>\n",
       "    .dataframe tbody tr th:only-of-type {\n",
       "        vertical-align: middle;\n",
       "    }\n",
       "\n",
       "    .dataframe tbody tr th {\n",
       "        vertical-align: top;\n",
       "    }\n",
       "\n",
       "    .dataframe thead th {\n",
       "        text-align: right;\n",
       "    }\n",
       "</style>\n",
       "<table border=\"1\" class=\"dataframe\">\n",
       "  <thead>\n",
       "    <tr style=\"text-align: right;\">\n",
       "      <th></th>\n",
       "      <th>max</th>\n",
       "      <th>min</th>\n",
       "    </tr>\n",
       "  </thead>\n",
       "  <tbody>\n",
       "    <tr>\n",
       "      <th>0</th>\n",
       "      <td>2022-09-30 08:35:10</td>\n",
       "      <td>2021-06-20 14:48:58</td>\n",
       "    </tr>\n",
       "  </tbody>\n",
       "</table>\n",
       "</div>"
      ],
      "text/plain": [
       "                  max                 min\n",
       "0 2022-09-30 08:35:10 2021-06-20 14:48:58"
      ]
     },
     "execution_count": 3,
     "metadata": {},
     "output_type": "execute_result"
    }
   ],
   "source": [
    "dates_min_max = sql(\"\"\"select max(time), min(time) from prod.files_image\"\"\")\n",
    "dates_min_max"
   ]
  },
  {
   "cell_type": "code",
   "execution_count": 4,
   "id": "71a835b7-ab73-4d91-8f7e-54a16e586560",
   "metadata": {},
   "outputs": [
    {
     "data": {
      "text/plain": [
       "Timedelta('466 days 17:46:12')"
      ]
     },
     "execution_count": 4,
     "metadata": {},
     "output_type": "execute_result"
    }
   ],
   "source": [
    "dates_min_max['max'].iloc[0] - dates_min_max['min'].iloc[0]"
   ]
  },
  {
   "cell_type": "markdown",
   "id": "77678646-2998-4577-95d0-130084079d99",
   "metadata": {},
   "source": [
    "### Image Recordings per day"
   ]
  },
  {
   "cell_type": "code",
   "execution_count": 5,
   "id": "c6adcc03-e27f-40e8-822e-317d783577be",
   "metadata": {},
   "outputs": [
    {
     "name": "stdout",
     "output_type": "stream",
     "text": [
      "Retrieved 195 datapoints in 1.528 seconds\n"
     ]
    },
    {
     "data": {
      "text/html": [
       "<div>\n",
       "<style scoped>\n",
       "    .dataframe tbody tr th:only-of-type {\n",
       "        vertical-align: middle;\n",
       "    }\n",
       "\n",
       "    .dataframe tbody tr th {\n",
       "        vertical-align: top;\n",
       "    }\n",
       "\n",
       "    .dataframe thead th {\n",
       "        text-align: right;\n",
       "    }\n",
       "</style>\n",
       "<table border=\"1\" class=\"dataframe\">\n",
       "  <thead>\n",
       "    <tr style=\"text-align: right;\">\n",
       "      <th></th>\n",
       "      <th>count</th>\n",
       "    </tr>\n",
       "    <tr>\n",
       "      <th>date_time</th>\n",
       "      <th></th>\n",
       "    </tr>\n",
       "  </thead>\n",
       "  <tbody>\n",
       "    <tr>\n",
       "      <th>2021-06-19 22:00:00</th>\n",
       "      <td>2</td>\n",
       "    </tr>\n",
       "    <tr>\n",
       "      <th>2021-06-20 22:00:00</th>\n",
       "      <td>11685</td>\n",
       "    </tr>\n",
       "  </tbody>\n",
       "</table>\n",
       "</div>"
      ],
      "text/plain": [
       "                     count\n",
       "date_time                 \n",
       "2021-06-19 22:00:00      2\n",
       "2021-06-20 22:00:00  11685"
      ]
     },
     "execution_count": 5,
     "metadata": {},
     "output_type": "execute_result"
    }
   ],
   "source": [
    "data = sql(\n",
    "    \"\"\"\n",
    "    SELECT date_trunc('day', time) as date_time, count(object_name) from prod.files_image\n",
    "    GROUP by date_time\n",
    "    ORDER BY date_time\n",
    "    \"\"\")\n",
    "data = data.set_index('date_time')\n",
    "data.head(2)"
   ]
  },
  {
   "cell_type": "code",
   "execution_count": 61,
   "id": "3d93441e-4dab-42a3-8f2c-87b96a9b1bc3",
   "metadata": {},
   "outputs": [],
   "source": [
    "paired_palette = {\"colors\":[{\"value\":\"rgba(166, 206, 227, 1)\"},{\"value\":\"rgba(31, 120, 180, 1)\"},\n",
    "                            {\"value\":\"rgba(178, 223, 138, 1)\"},{\"value\":\"rgba(51, 160, 44, 1)\"},\n",
    "                            {\"value\":\"rgba(251, 154, 153, 1)\"},{\"value\":\"rgba(227, 26, 28, 1)\"},\n",
    "                            {\"value\":\"rgba(253, 191, 111, 1)\"},{\"value\":\"rgba(255, 127, 0, 1)\"},\n",
    "                            {\"value\":\"rgba(202, 178, 214, 1)\"},{\"value\":\"rgba(106, 61, 154, 1)\"},\n",
    "                            {\"value\":\"rgba(255, 255, 153, 1)\"},{\"value\":\"rgba(177, 89, 40, 1)\"}]}\n",
    "paired_palette = [c['value'] for c in paired_palette['colors']]"
   ]
  },
  {
   "cell_type": "code",
   "execution_count": 63,
   "id": "4a70a070-9949-4efe-b317-91446e0bcb71",
   "metadata": {},
   "outputs": [
    {
     "data": {
      "application/vnd.plotly.v1+json": {
       "config": {
        "plotlyServerURL": "https://plot.ly"
       },
       "data": [
        {
         "line": {
          "color": "rgba(166, 206, 227, 1)",
          "shape": "hv"
         },
         "name": "Per Day",
         "type": "scatter",
         "x": [
          "2021-06-19T22:00:00",
          "2021-06-20T22:00:00",
          "2021-06-21T22:00:00",
          "2021-06-22T22:00:00",
          "2021-06-23T22:00:00",
          "2021-06-24T22:00:00",
          "2021-06-25T22:00:00",
          "2021-06-26T22:00:00",
          "2021-06-27T22:00:00",
          "2021-06-28T22:00:00",
          "2021-06-29T22:00:00",
          "2021-06-30T22:00:00",
          "2021-07-01T22:00:00",
          "2021-07-02T22:00:00",
          "2021-07-03T22:00:00",
          "2021-07-04T22:00:00",
          "2021-07-05T22:00:00",
          "2021-07-06T22:00:00",
          "2021-07-07T22:00:00",
          "2021-07-08T22:00:00",
          "2021-07-09T22:00:00",
          "2021-07-10T22:00:00",
          "2021-07-11T22:00:00",
          "2021-07-12T22:00:00",
          "2021-07-13T22:00:00",
          "2021-07-14T22:00:00",
          "2021-07-15T22:00:00",
          "2021-07-16T22:00:00",
          "2021-07-17T22:00:00",
          "2021-07-18T22:00:00",
          "2021-07-19T22:00:00",
          "2021-07-20T22:00:00",
          "2021-07-21T22:00:00",
          "2021-07-22T22:00:00",
          "2021-07-23T22:00:00",
          "2021-07-24T22:00:00",
          "2021-07-25T22:00:00",
          "2021-07-26T22:00:00",
          "2021-07-27T22:00:00",
          "2021-07-28T22:00:00",
          "2021-07-29T22:00:00",
          "2021-07-30T22:00:00",
          "2021-07-31T22:00:00",
          "2021-08-01T22:00:00",
          "2021-08-02T22:00:00",
          "2021-08-05T22:00:00",
          "2021-08-11T22:00:00",
          "2021-08-12T22:00:00",
          "2021-08-13T22:00:00",
          "2021-08-14T22:00:00",
          "2021-08-15T22:00:00",
          "2021-08-20T22:00:00",
          "2021-08-23T22:00:00",
          "2022-05-11T22:00:00",
          "2022-05-12T22:00:00",
          "2022-05-13T22:00:00",
          "2022-05-14T22:00:00",
          "2022-05-15T22:00:00",
          "2022-05-16T22:00:00",
          "2022-05-17T22:00:00",
          "2022-05-18T22:00:00",
          "2022-05-19T22:00:00",
          "2022-05-20T22:00:00",
          "2022-05-21T22:00:00",
          "2022-05-22T22:00:00",
          "2022-05-23T22:00:00",
          "2022-05-24T22:00:00",
          "2022-05-25T22:00:00",
          "2022-05-26T22:00:00",
          "2022-05-27T22:00:00",
          "2022-05-28T22:00:00",
          "2022-05-29T22:00:00",
          "2022-05-30T22:00:00",
          "2022-05-31T22:00:00",
          "2022-06-01T22:00:00",
          "2022-06-02T22:00:00",
          "2022-06-03T22:00:00",
          "2022-06-04T22:00:00",
          "2022-06-05T22:00:00",
          "2022-06-06T22:00:00",
          "2022-06-07T22:00:00",
          "2022-06-08T22:00:00",
          "2022-06-09T22:00:00",
          "2022-06-10T22:00:00",
          "2022-06-11T22:00:00",
          "2022-06-12T22:00:00",
          "2022-06-13T22:00:00",
          "2022-06-14T22:00:00",
          "2022-06-15T22:00:00",
          "2022-06-16T22:00:00",
          "2022-06-17T22:00:00",
          "2022-06-18T22:00:00",
          "2022-06-19T22:00:00",
          "2022-06-20T22:00:00",
          "2022-06-21T22:00:00",
          "2022-06-22T22:00:00",
          "2022-06-23T22:00:00",
          "2022-06-24T22:00:00",
          "2022-06-25T22:00:00",
          "2022-06-26T22:00:00",
          "2022-06-27T22:00:00",
          "2022-06-28T22:00:00",
          "2022-06-29T22:00:00",
          "2022-06-30T22:00:00",
          "2022-07-01T22:00:00",
          "2022-07-02T22:00:00",
          "2022-07-03T22:00:00",
          "2022-07-04T22:00:00",
          "2022-07-05T22:00:00",
          "2022-07-06T22:00:00",
          "2022-07-07T22:00:00",
          "2022-07-08T22:00:00",
          "2022-07-09T22:00:00",
          "2022-07-10T22:00:00",
          "2022-07-11T22:00:00",
          "2022-07-12T22:00:00",
          "2022-07-13T22:00:00",
          "2022-07-14T22:00:00",
          "2022-07-15T22:00:00",
          "2022-07-16T22:00:00",
          "2022-07-17T22:00:00",
          "2022-07-18T22:00:00",
          "2022-07-19T22:00:00",
          "2022-07-20T22:00:00",
          "2022-07-21T22:00:00",
          "2022-07-22T22:00:00",
          "2022-07-23T22:00:00",
          "2022-07-24T22:00:00",
          "2022-07-25T22:00:00",
          "2022-07-26T22:00:00",
          "2022-07-27T22:00:00",
          "2022-07-28T22:00:00",
          "2022-07-29T22:00:00",
          "2022-07-30T22:00:00",
          "2022-07-31T22:00:00",
          "2022-08-01T22:00:00",
          "2022-08-02T22:00:00",
          "2022-08-03T22:00:00",
          "2022-08-04T22:00:00",
          "2022-08-05T22:00:00",
          "2022-08-06T22:00:00",
          "2022-08-07T22:00:00",
          "2022-08-08T22:00:00",
          "2022-08-09T22:00:00",
          "2022-08-10T22:00:00",
          "2022-08-11T22:00:00",
          "2022-08-12T22:00:00",
          "2022-08-13T22:00:00",
          "2022-08-14T22:00:00",
          "2022-08-15T22:00:00",
          "2022-08-16T22:00:00",
          "2022-08-17T22:00:00",
          "2022-08-18T22:00:00",
          "2022-08-19T22:00:00",
          "2022-08-20T22:00:00",
          "2022-08-21T22:00:00",
          "2022-08-22T22:00:00",
          "2022-08-23T22:00:00",
          "2022-08-24T22:00:00",
          "2022-08-25T22:00:00",
          "2022-08-26T22:00:00",
          "2022-08-27T22:00:00",
          "2022-08-28T22:00:00",
          "2022-08-29T22:00:00",
          "2022-08-30T22:00:00",
          "2022-08-31T22:00:00",
          "2022-09-01T22:00:00",
          "2022-09-02T22:00:00",
          "2022-09-03T22:00:00",
          "2022-09-04T22:00:00",
          "2022-09-05T22:00:00",
          "2022-09-06T22:00:00",
          "2022-09-07T22:00:00",
          "2022-09-08T22:00:00",
          "2022-09-09T22:00:00",
          "2022-09-10T22:00:00",
          "2022-09-11T22:00:00",
          "2022-09-12T22:00:00",
          "2022-09-13T22:00:00",
          "2022-09-14T22:00:00",
          "2022-09-15T22:00:00",
          "2022-09-16T22:00:00",
          "2022-09-17T22:00:00",
          "2022-09-18T22:00:00",
          "2022-09-19T22:00:00",
          "2022-09-20T22:00:00",
          "2022-09-21T22:00:00",
          "2022-09-22T22:00:00",
          "2022-09-23T22:00:00",
          "2022-09-24T22:00:00",
          "2022-09-25T22:00:00",
          "2022-09-26T22:00:00",
          "2022-09-27T22:00:00",
          "2022-09-28T22:00:00",
          "2022-09-29T22:00:00"
         ],
         "y": [
          2,
          11685,
          10794,
          14391,
          14511,
          40630,
          7191,
          5752,
          4316,
          4318,
          4315,
          4318,
          5412,
          5758,
          4318,
          4318,
          4318,
          4317,
          4317,
          4321,
          5743,
          5754,
          5754,
          2878,
          2879,
          2878,
          2879,
          2879,
          1440,
          4093,
          6962,
          9077,
          8241,
          8635,
          5759,
          5757,
          5756,
          5751,
          7196,
          8570,
          5757,
          2877,
          1439,
          1439,
          1439,
          1,
          3018,
          2878,
          2876,
          2878,
          2118,
          1,
          2,
          560,
          3693,
          4316,
          4316,
          4316,
          4316,
          4316,
          4316,
          4962,
          11508,
          11504,
          11504,
          11508,
          12773,
          15759,
          15760,
          15784,
          15786,
          15645,
          15669,
          15705,
          15682,
          15325,
          16770,
          12066,
          12037,
          16810,
          17618,
          17902,
          17495,
          12106,
          12100,
          10788,
          16590,
          17566,
          19258,
          19290,
          15983,
          11787,
          9757,
          14942,
          15129,
          13044,
          15058,
          15105,
          13912,
          15134,
          15146,
          17057,
          17251,
          19236,
          18093,
          17752,
          14932,
          12834,
          7289,
          9299,
          9302,
          7872,
          9285,
          7557,
          7060,
          7760,
          8192,
          8483,
          3516,
          7869,
          7388,
          7479,
          7434,
          7872,
          7780,
          7890,
          8043,
          15201,
          17562,
          16500,
          15692,
          17881,
          17616,
          16438,
          13803,
          18151,
          15195,
          13180,
          8039,
          17381,
          13897,
          15293,
          14512,
          10519,
          10007,
          10715,
          15930,
          13970,
          17220,
          15826,
          28140,
          32832,
          46322,
          45961,
          41249,
          45124,
          43159,
          43944,
          46339,
          49625,
          41512,
          41570,
          7497,
          7490,
          9271,
          8920,
          9084,
          9701,
          9659,
          9654,
          9649,
          9661,
          9647,
          9656,
          9652,
          9644,
          9606,
          9609,
          9588,
          9574,
          9564,
          9641,
          9662,
          3937,
          3901,
          3907,
          3920,
          2853,
          3910,
          3905,
          3914,
          3917,
          3918,
          3932,
          106
         ]
        },
        {
         "line": {
          "color": "rgba(31, 120, 180, 1)"
         },
         "name": "SMA 10 Days",
         "type": "scatter",
         "x": [
          "2021-06-19T00:00:00",
          "2021-06-29T00:00:00",
          "2021-07-09T00:00:00",
          "2021-07-19T00:00:00",
          "2021-07-29T00:00:00",
          "2021-08-08T00:00:00",
          "2021-08-18T00:00:00",
          "2021-08-28T00:00:00",
          "2021-09-07T00:00:00",
          "2021-09-17T00:00:00",
          "2021-09-27T00:00:00",
          "2021-10-07T00:00:00",
          "2021-10-17T00:00:00",
          "2021-10-27T00:00:00",
          "2021-11-06T00:00:00",
          "2021-11-16T00:00:00",
          "2021-11-26T00:00:00",
          "2021-12-06T00:00:00",
          "2021-12-16T00:00:00",
          "2021-12-26T00:00:00",
          "2022-01-05T00:00:00",
          "2022-01-15T00:00:00",
          "2022-01-25T00:00:00",
          "2022-02-04T00:00:00",
          "2022-02-14T00:00:00",
          "2022-02-24T00:00:00",
          "2022-03-06T00:00:00",
          "2022-03-16T00:00:00",
          "2022-03-26T00:00:00",
          "2022-04-05T00:00:00",
          "2022-04-15T00:00:00",
          "2022-04-25T00:00:00",
          "2022-05-05T00:00:00",
          "2022-05-15T00:00:00",
          "2022-05-25T00:00:00",
          "2022-06-04T00:00:00",
          "2022-06-14T00:00:00",
          "2022-06-24T00:00:00",
          "2022-07-04T00:00:00",
          "2022-07-14T00:00:00",
          "2022-07-24T00:00:00",
          "2022-08-03T00:00:00",
          "2022-08-13T00:00:00",
          "2022-08-23T00:00:00",
          "2022-09-02T00:00:00",
          "2022-09-12T00:00:00",
          "2022-09-22T00:00:00"
         ],
         "y": [
          11359,
          4571.2,
          3717.7,
          7170.4,
          2158.6666666666665,
          2753.6,
          1.5,
          0,
          0,
          0,
          0,
          0,
          0,
          0,
          0,
          0,
          0,
          0,
          0,
          0,
          0,
          0,
          0,
          0,
          0,
          0,
          0,
          0,
          0,
          0,
          0,
          0,
          3221.25,
          8102.3,
          15788.5,
          14551.2,
          15181.4,
          16361.8,
          8645,
          7375.4,
          16403.9,
          12947.3,
          32980.3,
          26525.2,
          9652.9,
          7330.3,
          3306.875
         ]
        }
       ],
       "layout": {
        "autosize": true,
        "template": {
         "data": {
          "bar": [
           {
            "error_x": {
             "color": "rgb(36,36,36)"
            },
            "error_y": {
             "color": "rgb(36,36,36)"
            },
            "marker": {
             "line": {
              "color": "white",
              "width": 0.5
             },
             "pattern": {
              "fillmode": "overlay",
              "size": 10,
              "solidity": 0.2
             }
            },
            "type": "bar"
           }
          ],
          "barpolar": [
           {
            "marker": {
             "line": {
              "color": "white",
              "width": 0.5
             },
             "pattern": {
              "fillmode": "overlay",
              "size": 10,
              "solidity": 0.2
             }
            },
            "type": "barpolar"
           }
          ],
          "carpet": [
           {
            "aaxis": {
             "endlinecolor": "rgb(36,36,36)",
             "gridcolor": "white",
             "linecolor": "white",
             "minorgridcolor": "white",
             "startlinecolor": "rgb(36,36,36)"
            },
            "baxis": {
             "endlinecolor": "rgb(36,36,36)",
             "gridcolor": "white",
             "linecolor": "white",
             "minorgridcolor": "white",
             "startlinecolor": "rgb(36,36,36)"
            },
            "type": "carpet"
           }
          ],
          "choropleth": [
           {
            "colorbar": {
             "outlinewidth": 1,
             "tickcolor": "rgb(36,36,36)",
             "ticks": "outside"
            },
            "type": "choropleth"
           }
          ],
          "contour": [
           {
            "colorbar": {
             "outlinewidth": 1,
             "tickcolor": "rgb(36,36,36)",
             "ticks": "outside"
            },
            "colorscale": [
             [
              0,
              "#440154"
             ],
             [
              0.1111111111111111,
              "#482878"
             ],
             [
              0.2222222222222222,
              "#3e4989"
             ],
             [
              0.3333333333333333,
              "#31688e"
             ],
             [
              0.4444444444444444,
              "#26828e"
             ],
             [
              0.5555555555555556,
              "#1f9e89"
             ],
             [
              0.6666666666666666,
              "#35b779"
             ],
             [
              0.7777777777777778,
              "#6ece58"
             ],
             [
              0.8888888888888888,
              "#b5de2b"
             ],
             [
              1,
              "#fde725"
             ]
            ],
            "type": "contour"
           }
          ],
          "contourcarpet": [
           {
            "colorbar": {
             "outlinewidth": 1,
             "tickcolor": "rgb(36,36,36)",
             "ticks": "outside"
            },
            "type": "contourcarpet"
           }
          ],
          "heatmap": [
           {
            "colorbar": {
             "outlinewidth": 1,
             "tickcolor": "rgb(36,36,36)",
             "ticks": "outside"
            },
            "colorscale": [
             [
              0,
              "#440154"
             ],
             [
              0.1111111111111111,
              "#482878"
             ],
             [
              0.2222222222222222,
              "#3e4989"
             ],
             [
              0.3333333333333333,
              "#31688e"
             ],
             [
              0.4444444444444444,
              "#26828e"
             ],
             [
              0.5555555555555556,
              "#1f9e89"
             ],
             [
              0.6666666666666666,
              "#35b779"
             ],
             [
              0.7777777777777778,
              "#6ece58"
             ],
             [
              0.8888888888888888,
              "#b5de2b"
             ],
             [
              1,
              "#fde725"
             ]
            ],
            "type": "heatmap"
           }
          ],
          "heatmapgl": [
           {
            "colorbar": {
             "outlinewidth": 1,
             "tickcolor": "rgb(36,36,36)",
             "ticks": "outside"
            },
            "colorscale": [
             [
              0,
              "#440154"
             ],
             [
              0.1111111111111111,
              "#482878"
             ],
             [
              0.2222222222222222,
              "#3e4989"
             ],
             [
              0.3333333333333333,
              "#31688e"
             ],
             [
              0.4444444444444444,
              "#26828e"
             ],
             [
              0.5555555555555556,
              "#1f9e89"
             ],
             [
              0.6666666666666666,
              "#35b779"
             ],
             [
              0.7777777777777778,
              "#6ece58"
             ],
             [
              0.8888888888888888,
              "#b5de2b"
             ],
             [
              1,
              "#fde725"
             ]
            ],
            "type": "heatmapgl"
           }
          ],
          "histogram": [
           {
            "marker": {
             "line": {
              "color": "white",
              "width": 0.6
             }
            },
            "type": "histogram"
           }
          ],
          "histogram2d": [
           {
            "colorbar": {
             "outlinewidth": 1,
             "tickcolor": "rgb(36,36,36)",
             "ticks": "outside"
            },
            "colorscale": [
             [
              0,
              "#440154"
             ],
             [
              0.1111111111111111,
              "#482878"
             ],
             [
              0.2222222222222222,
              "#3e4989"
             ],
             [
              0.3333333333333333,
              "#31688e"
             ],
             [
              0.4444444444444444,
              "#26828e"
             ],
             [
              0.5555555555555556,
              "#1f9e89"
             ],
             [
              0.6666666666666666,
              "#35b779"
             ],
             [
              0.7777777777777778,
              "#6ece58"
             ],
             [
              0.8888888888888888,
              "#b5de2b"
             ],
             [
              1,
              "#fde725"
             ]
            ],
            "type": "histogram2d"
           }
          ],
          "histogram2dcontour": [
           {
            "colorbar": {
             "outlinewidth": 1,
             "tickcolor": "rgb(36,36,36)",
             "ticks": "outside"
            },
            "colorscale": [
             [
              0,
              "#440154"
             ],
             [
              0.1111111111111111,
              "#482878"
             ],
             [
              0.2222222222222222,
              "#3e4989"
             ],
             [
              0.3333333333333333,
              "#31688e"
             ],
             [
              0.4444444444444444,
              "#26828e"
             ],
             [
              0.5555555555555556,
              "#1f9e89"
             ],
             [
              0.6666666666666666,
              "#35b779"
             ],
             [
              0.7777777777777778,
              "#6ece58"
             ],
             [
              0.8888888888888888,
              "#b5de2b"
             ],
             [
              1,
              "#fde725"
             ]
            ],
            "type": "histogram2dcontour"
           }
          ],
          "mesh3d": [
           {
            "colorbar": {
             "outlinewidth": 1,
             "tickcolor": "rgb(36,36,36)",
             "ticks": "outside"
            },
            "type": "mesh3d"
           }
          ],
          "parcoords": [
           {
            "line": {
             "colorbar": {
              "outlinewidth": 1,
              "tickcolor": "rgb(36,36,36)",
              "ticks": "outside"
             }
            },
            "type": "parcoords"
           }
          ],
          "pie": [
           {
            "automargin": true,
            "type": "pie"
           }
          ],
          "scatter": [
           {
            "fillpattern": {
             "fillmode": "overlay",
             "size": 10,
             "solidity": 0.2
            },
            "type": "scatter"
           }
          ],
          "scatter3d": [
           {
            "line": {
             "colorbar": {
              "outlinewidth": 1,
              "tickcolor": "rgb(36,36,36)",
              "ticks": "outside"
             }
            },
            "marker": {
             "colorbar": {
              "outlinewidth": 1,
              "tickcolor": "rgb(36,36,36)",
              "ticks": "outside"
             }
            },
            "type": "scatter3d"
           }
          ],
          "scattercarpet": [
           {
            "marker": {
             "colorbar": {
              "outlinewidth": 1,
              "tickcolor": "rgb(36,36,36)",
              "ticks": "outside"
             }
            },
            "type": "scattercarpet"
           }
          ],
          "scattergeo": [
           {
            "marker": {
             "colorbar": {
              "outlinewidth": 1,
              "tickcolor": "rgb(36,36,36)",
              "ticks": "outside"
             }
            },
            "type": "scattergeo"
           }
          ],
          "scattergl": [
           {
            "marker": {
             "colorbar": {
              "outlinewidth": 1,
              "tickcolor": "rgb(36,36,36)",
              "ticks": "outside"
             }
            },
            "type": "scattergl"
           }
          ],
          "scattermapbox": [
           {
            "marker": {
             "colorbar": {
              "outlinewidth": 1,
              "tickcolor": "rgb(36,36,36)",
              "ticks": "outside"
             }
            },
            "type": "scattermapbox"
           }
          ],
          "scatterpolar": [
           {
            "marker": {
             "colorbar": {
              "outlinewidth": 1,
              "tickcolor": "rgb(36,36,36)",
              "ticks": "outside"
             }
            },
            "type": "scatterpolar"
           }
          ],
          "scatterpolargl": [
           {
            "marker": {
             "colorbar": {
              "outlinewidth": 1,
              "tickcolor": "rgb(36,36,36)",
              "ticks": "outside"
             }
            },
            "type": "scatterpolargl"
           }
          ],
          "scatterternary": [
           {
            "marker": {
             "colorbar": {
              "outlinewidth": 1,
              "tickcolor": "rgb(36,36,36)",
              "ticks": "outside"
             }
            },
            "type": "scatterternary"
           }
          ],
          "surface": [
           {
            "colorbar": {
             "outlinewidth": 1,
             "tickcolor": "rgb(36,36,36)",
             "ticks": "outside"
            },
            "colorscale": [
             [
              0,
              "#440154"
             ],
             [
              0.1111111111111111,
              "#482878"
             ],
             [
              0.2222222222222222,
              "#3e4989"
             ],
             [
              0.3333333333333333,
              "#31688e"
             ],
             [
              0.4444444444444444,
              "#26828e"
             ],
             [
              0.5555555555555556,
              "#1f9e89"
             ],
             [
              0.6666666666666666,
              "#35b779"
             ],
             [
              0.7777777777777778,
              "#6ece58"
             ],
             [
              0.8888888888888888,
              "#b5de2b"
             ],
             [
              1,
              "#fde725"
             ]
            ],
            "type": "surface"
           }
          ],
          "table": [
           {
            "cells": {
             "fill": {
              "color": "rgb(237,237,237)"
             },
             "line": {
              "color": "white"
             }
            },
            "header": {
             "fill": {
              "color": "rgb(217,217,217)"
             },
             "line": {
              "color": "white"
             }
            },
            "type": "table"
           }
          ]
         },
         "layout": {
          "annotationdefaults": {
           "arrowhead": 0,
           "arrowwidth": 1
          },
          "autotypenumbers": "strict",
          "coloraxis": {
           "colorbar": {
            "outlinewidth": 1,
            "tickcolor": "rgb(36,36,36)",
            "ticks": "outside"
           }
          },
          "colorscale": {
           "diverging": [
            [
             0,
             "rgb(103,0,31)"
            ],
            [
             0.1,
             "rgb(178,24,43)"
            ],
            [
             0.2,
             "rgb(214,96,77)"
            ],
            [
             0.3,
             "rgb(244,165,130)"
            ],
            [
             0.4,
             "rgb(253,219,199)"
            ],
            [
             0.5,
             "rgb(247,247,247)"
            ],
            [
             0.6,
             "rgb(209,229,240)"
            ],
            [
             0.7,
             "rgb(146,197,222)"
            ],
            [
             0.8,
             "rgb(67,147,195)"
            ],
            [
             0.9,
             "rgb(33,102,172)"
            ],
            [
             1,
             "rgb(5,48,97)"
            ]
           ],
           "sequential": [
            [
             0,
             "#440154"
            ],
            [
             0.1111111111111111,
             "#482878"
            ],
            [
             0.2222222222222222,
             "#3e4989"
            ],
            [
             0.3333333333333333,
             "#31688e"
            ],
            [
             0.4444444444444444,
             "#26828e"
            ],
            [
             0.5555555555555556,
             "#1f9e89"
            ],
            [
             0.6666666666666666,
             "#35b779"
            ],
            [
             0.7777777777777778,
             "#6ece58"
            ],
            [
             0.8888888888888888,
             "#b5de2b"
            ],
            [
             1,
             "#fde725"
            ]
           ],
           "sequentialminus": [
            [
             0,
             "#440154"
            ],
            [
             0.1111111111111111,
             "#482878"
            ],
            [
             0.2222222222222222,
             "#3e4989"
            ],
            [
             0.3333333333333333,
             "#31688e"
            ],
            [
             0.4444444444444444,
             "#26828e"
            ],
            [
             0.5555555555555556,
             "#1f9e89"
            ],
            [
             0.6666666666666666,
             "#35b779"
            ],
            [
             0.7777777777777778,
             "#6ece58"
            ],
            [
             0.8888888888888888,
             "#b5de2b"
            ],
            [
             1,
             "#fde725"
            ]
           ]
          },
          "colorway": [
           "#1F77B4",
           "#FF7F0E",
           "#2CA02C",
           "#D62728",
           "#9467BD",
           "#8C564B",
           "#E377C2",
           "#7F7F7F",
           "#BCBD22",
           "#17BECF"
          ],
          "font": {
           "color": "rgb(36,36,36)"
          },
          "geo": {
           "bgcolor": "white",
           "lakecolor": "white",
           "landcolor": "white",
           "showlakes": true,
           "showland": true,
           "subunitcolor": "white"
          },
          "hoverlabel": {
           "align": "left"
          },
          "hovermode": "closest",
          "mapbox": {
           "style": "light"
          },
          "paper_bgcolor": "white",
          "plot_bgcolor": "white",
          "polar": {
           "angularaxis": {
            "gridcolor": "rgb(232,232,232)",
            "linecolor": "rgb(36,36,36)",
            "showgrid": false,
            "showline": true,
            "ticks": "outside"
           },
           "bgcolor": "white",
           "radialaxis": {
            "gridcolor": "rgb(232,232,232)",
            "linecolor": "rgb(36,36,36)",
            "showgrid": false,
            "showline": true,
            "ticks": "outside"
           }
          },
          "scene": {
           "xaxis": {
            "backgroundcolor": "white",
            "gridcolor": "rgb(232,232,232)",
            "gridwidth": 2,
            "linecolor": "rgb(36,36,36)",
            "showbackground": true,
            "showgrid": false,
            "showline": true,
            "ticks": "outside",
            "zeroline": false,
            "zerolinecolor": "rgb(36,36,36)"
           },
           "yaxis": {
            "backgroundcolor": "white",
            "gridcolor": "rgb(232,232,232)",
            "gridwidth": 2,
            "linecolor": "rgb(36,36,36)",
            "showbackground": true,
            "showgrid": false,
            "showline": true,
            "ticks": "outside",
            "zeroline": false,
            "zerolinecolor": "rgb(36,36,36)"
           },
           "zaxis": {
            "backgroundcolor": "white",
            "gridcolor": "rgb(232,232,232)",
            "gridwidth": 2,
            "linecolor": "rgb(36,36,36)",
            "showbackground": true,
            "showgrid": false,
            "showline": true,
            "ticks": "outside",
            "zeroline": false,
            "zerolinecolor": "rgb(36,36,36)"
           }
          },
          "shapedefaults": {
           "fillcolor": "black",
           "line": {
            "width": 0
           },
           "opacity": 0.3
          },
          "ternary": {
           "aaxis": {
            "gridcolor": "rgb(232,232,232)",
            "linecolor": "rgb(36,36,36)",
            "showgrid": false,
            "showline": true,
            "ticks": "outside"
           },
           "baxis": {
            "gridcolor": "rgb(232,232,232)",
            "linecolor": "rgb(36,36,36)",
            "showgrid": false,
            "showline": true,
            "ticks": "outside"
           },
           "bgcolor": "white",
           "caxis": {
            "gridcolor": "rgb(232,232,232)",
            "linecolor": "rgb(36,36,36)",
            "showgrid": false,
            "showline": true,
            "ticks": "outside"
           }
          },
          "title": {
           "x": 0.05
          },
          "xaxis": {
           "automargin": true,
           "gridcolor": "rgb(232,232,232)",
           "linecolor": "rgb(36,36,36)",
           "showgrid": false,
           "showline": true,
           "ticks": "outside",
           "title": {
            "standoff": 15
           },
           "zeroline": false,
           "zerolinecolor": "rgb(36,36,36)"
          },
          "yaxis": {
           "automargin": true,
           "gridcolor": "rgb(232,232,232)",
           "linecolor": "rgb(36,36,36)",
           "showgrid": false,
           "showline": true,
           "ticks": "outside",
           "title": {
            "standoff": 15
           },
           "zeroline": false,
           "zerolinecolor": "rgb(36,36,36)"
          }
         }
        },
        "title": {
         "text": "Recorded Images per Day"
        },
        "xaxis": {
         "autorange": true,
         "range": [
          "2021-06-19",
          "2022-09-29 22:00"
         ],
         "type": "date"
        },
        "yaxis": {
         "autorange": true,
         "range": [
          -2756.9444444444443,
          52381.944444444445
         ],
         "type": "linear"
        }
       }
      },
      "image/png": "[encoded data removed]",
      "text/html": [
       "<div>                            <div id=\"b8e5a36d-b9d2-4438-a31c-c1c6848f5f27\" class=\"plotly-graph-div\" style=\"height:525px; width:100%;\"></div>            <script type=\"text/javascript\">                require([\"plotly\"], function(Plotly) {                    window.PLOTLYENV=window.PLOTLYENV || {};                                    if (document.getElementById(\"b8e5a36d-b9d2-4438-a31c-c1c6848f5f27\")) {                    Plotly.newPlot(                        \"b8e5a36d-b9d2-4438-a31c-c1c6848f5f27\",                        [{\"line\":{\"color\":\"rgba(166, 206, 227, 1)\",\"shape\":\"hv\"},\"name\":\"Per Day\",\"x\":[\"2021-06-19T22:00:00\",\"2021-06-20T22:00:00\",\"2021-06-21T22:00:00\",\"2021-06-22T22:00:00\",\"2021-06-23T22:00:00\",\"2021-06-24T22:00:00\",\"2021-06-25T22:00:00\",\"2021-06-26T22:00:00\",\"2021-06-27T22:00:00\",\"2021-06-28T22:00:00\",\"2021-06-29T22:00:00\",\"2021-06-30T22:00:00\",\"2021-07-01T22:00:00\",\"2021-07-02T22:00:00\",\"2021-07-03T22:00:00\",\"2021-07-04T22:00:00\",\"2021-07-05T22:00:00\",\"2021-07-06T22:00:00\",\"2021-07-07T22:00:00\",\"2021-07-08T22:00:00\",\"2021-07-09T22:00:00\",\"2021-07-10T22:00:00\",\"2021-07-11T22:00:00\",\"2021-07-12T22:00:00\",\"2021-07-13T22:00:00\",\"2021-07-14T22:00:00\",\"2021-07-15T22:00:00\",\"2021-07-16T22:00:00\",\"2021-07-17T22:00:00\",\"2021-07-18T22:00:00\",\"2021-07-19T22:00:00\",\"2021-07-20T22:00:00\",\"2021-07-21T22:00:00\",\"2021-07-22T22:00:00\",\"2021-07-23T22:00:00\",\"2021-07-24T22:00:00\",\"2021-07-25T22:00:00\",\"2021-07-26T22:00:00\",\"2021-07-27T22:00:00\",\"2021-07-28T22:00:00\",\"2021-07-29T22:00:00\",\"2021-07-30T22:00:00\",\"2021-07-31T22:00:00\",\"2021-08-01T22:00:00\",\"2021-08-02T22:00:00\",\"2021-08-05T22:00:00\",\"2021-08-11T22:00:00\",\"2021-08-12T22:00:00\",\"2021-08-13T22:00:00\",\"2021-08-14T22:00:00\",\"2021-08-15T22:00:00\",\"2021-08-20T22:00:00\",\"2021-08-23T22:00:00\",\"2022-05-11T22:00:00\",\"2022-05-12T22:00:00\",\"2022-05-13T22:00:00\",\"2022-05-14T22:00:00\",\"2022-05-15T22:00:00\",\"2022-05-16T22:00:00\",\"2022-05-17T22:00:00\",\"2022-05-18T22:00:00\",\"2022-05-19T22:00:00\",\"2022-05-20T22:00:00\",\"2022-05-21T22:00:00\",\"2022-05-22T22:00:00\",\"2022-05-23T22:00:00\",\"2022-05-24T22:00:00\",\"2022-05-25T22:00:00\",\"2022-05-26T22:00:00\",\"2022-05-27T22:00:00\",\"2022-05-28T22:00:00\",\"2022-05-29T22:00:00\",\"2022-05-30T22:00:00\",\"2022-05-31T22:00:00\",\"2022-06-01T22:00:00\",\"2022-06-02T22:00:00\",\"2022-06-03T22:00:00\",\"2022-06-04T22:00:00\",\"2022-06-05T22:00:00\",\"2022-06-06T22:00:00\",\"2022-06-07T22:00:00\",\"2022-06-08T22:00:00\",\"2022-06-09T22:00:00\",\"2022-06-10T22:00:00\",\"2022-06-11T22:00:00\",\"2022-06-12T22:00:00\",\"2022-06-13T22:00:00\",\"2022-06-14T22:00:00\",\"2022-06-15T22:00:00\",\"2022-06-16T22:00:00\",\"2022-06-17T22:00:00\",\"2022-06-18T22:00:00\",\"2022-06-19T22:00:00\",\"2022-06-20T22:00:00\",\"2022-06-21T22:00:00\",\"2022-06-22T22:00:00\",\"2022-06-23T22:00:00\",\"2022-06-24T22:00:00\",\"2022-06-25T22:00:00\",\"2022-06-26T22:00:00\",\"2022-06-27T22:00:00\",\"2022-06-28T22:00:00\",\"2022-06-29T22:00:00\",\"2022-06-30T22:00:00\",\"2022-07-01T22:00:00\",\"2022-07-02T22:00:00\",\"2022-07-03T22:00:00\",\"2022-07-04T22:00:00\",\"2022-07-05T22:00:00\",\"2022-07-06T22:00:00\",\"2022-07-07T22:00:00\",\"2022-07-08T22:00:00\",\"2022-07-09T22:00:00\",\"2022-07-10T22:00:00\",\"2022-07-11T22:00:00\",\"2022-07-12T22:00:00\",\"2022-07-13T22:00:00\",\"2022-07-14T22:00:00\",\"2022-07-15T22:00:00\",\"2022-07-16T22:00:00\",\"2022-07-17T22:00:00\",\"2022-07-18T22:00:00\",\"2022-07-19T22:00:00\",\"2022-07-20T22:00:00\",\"2022-07-21T22:00:00\",\"2022-07-22T22:00:00\",\"2022-07-23T22:00:00\",\"2022-07-24T22:00:00\",\"2022-07-25T22:00:00\",\"2022-07-26T22:00:00\",\"2022-07-27T22:00:00\",\"2022-07-28T22:00:00\",\"2022-07-29T22:00:00\",\"2022-07-30T22:00:00\",\"2022-07-31T22:00:00\",\"2022-08-01T22:00:00\",\"2022-08-02T22:00:00\",\"2022-08-03T22:00:00\",\"2022-08-04T22:00:00\",\"2022-08-05T22:00:00\",\"2022-08-06T22:00:00\",\"2022-08-07T22:00:00\",\"2022-08-08T22:00:00\",\"2022-08-09T22:00:00\",\"2022-08-10T22:00:00\",\"2022-08-11T22:00:00\",\"2022-08-12T22:00:00\",\"2022-08-13T22:00:00\",\"2022-08-14T22:00:00\",\"2022-08-15T22:00:00\",\"2022-08-16T22:00:00\",\"2022-08-17T22:00:00\",\"2022-08-18T22:00:00\",\"2022-08-19T22:00:00\",\"2022-08-20T22:00:00\",\"2022-08-21T22:00:00\",\"2022-08-22T22:00:00\",\"2022-08-23T22:00:00\",\"2022-08-24T22:00:00\",\"2022-08-25T22:00:00\",\"2022-08-26T22:00:00\",\"2022-08-27T22:00:00\",\"2022-08-28T22:00:00\",\"2022-08-29T22:00:00\",\"2022-08-30T22:00:00\",\"2022-08-31T22:00:00\",\"2022-09-01T22:00:00\",\"2022-09-02T22:00:00\",\"2022-09-03T22:00:00\",\"2022-09-04T22:00:00\",\"2022-09-05T22:00:00\",\"2022-09-06T22:00:00\",\"2022-09-07T22:00:00\",\"2022-09-08T22:00:00\",\"2022-09-09T22:00:00\",\"2022-09-10T22:00:00\",\"2022-09-11T22:00:00\",\"2022-09-12T22:00:00\",\"2022-09-13T22:00:00\",\"2022-09-14T22:00:00\",\"2022-09-15T22:00:00\",\"2022-09-16T22:00:00\",\"2022-09-17T22:00:00\",\"2022-09-18T22:00:00\",\"2022-09-19T22:00:00\",\"2022-09-20T22:00:00\",\"2022-09-21T22:00:00\",\"2022-09-22T22:00:00\",\"2022-09-23T22:00:00\",\"2022-09-24T22:00:00\",\"2022-09-25T22:00:00\",\"2022-09-26T22:00:00\",\"2022-09-27T22:00:00\",\"2022-09-28T22:00:00\",\"2022-09-29T22:00:00\"],\"y\":[2,11685,10794,14391,14511,40630,7191,5752,4316,4318,4315,4318,5412,5758,4318,4318,4318,4317,4317,4321,5743,5754,5754,2878,2879,2878,2879,2879,1440,4093,6962,9077,8241,8635,5759,5757,5756,5751,7196,8570,5757,2877,1439,1439,1439,1,3018,2878,2876,2878,2118,1,2,560,3693,4316,4316,4316,4316,4316,4316,4962,11508,11504,11504,11508,12773,15759,15760,15784,15786,15645,15669,15705,15682,15325,16770,12066,12037,16810,17618,17902,17495,12106,12100,10788,16590,17566,19258,19290,15983,11787,9757,14942,15129,13044,15058,15105,13912,15134,15146,17057,17251,19236,18093,17752,14932,12834,7289,9299,9302,7872,9285,7557,7060,7760,8192,8483,3516,7869,7388,7479,7434,7872,7780,7890,8043,15201,17562,16500,15692,17881,17616,16438,13803,18151,15195,13180,8039,17381,13897,15293,14512,10519,10007,10715,15930,13970,17220,15826,28140,32832,46322,45961,41249,45124,43159,43944,46339,49625,41512,41570,7497,7490,9271,8920,9084,9701,9659,9654,9649,9661,9647,9656,9652,9644,9606,9609,9588,9574,9564,9641,9662,3937,3901,3907,3920,2853,3910,3905,3914,3917,3918,3932,106],\"type\":\"scatter\"},{\"line\":{\"color\":\"rgba(31, 120, 180, 1)\"},\"name\":\"SMA 10 Days\",\"x\":[\"2021-06-19T00:00:00\",\"2021-06-29T00:00:00\",\"2021-07-09T00:00:00\",\"2021-07-19T00:00:00\",\"2021-07-29T00:00:00\",\"2021-08-08T00:00:00\",\"2021-08-18T00:00:00\",\"2021-08-28T00:00:00\",\"2021-09-07T00:00:00\",\"2021-09-17T00:00:00\",\"2021-09-27T00:00:00\",\"2021-10-07T00:00:00\",\"2021-10-17T00:00:00\",\"2021-10-27T00:00:00\",\"2021-11-06T00:00:00\",\"2021-11-16T00:00:00\",\"2021-11-26T00:00:00\",\"2021-12-06T00:00:00\",\"2021-12-16T00:00:00\",\"2021-12-26T00:00:00\",\"2022-01-05T00:00:00\",\"2022-01-15T00:00:00\",\"2022-01-25T00:00:00\",\"2022-02-04T00:00:00\",\"2022-02-14T00:00:00\",\"2022-02-24T00:00:00\",\"2022-03-06T00:00:00\",\"2022-03-16T00:00:00\",\"2022-03-26T00:00:00\",\"2022-04-05T00:00:00\",\"2022-04-15T00:00:00\",\"2022-04-25T00:00:00\",\"2022-05-05T00:00:00\",\"2022-05-15T00:00:00\",\"2022-05-25T00:00:00\",\"2022-06-04T00:00:00\",\"2022-06-14T00:00:00\",\"2022-06-24T00:00:00\",\"2022-07-04T00:00:00\",\"2022-07-14T00:00:00\",\"2022-07-24T00:00:00\",\"2022-08-03T00:00:00\",\"2022-08-13T00:00:00\",\"2022-08-23T00:00:00\",\"2022-09-02T00:00:00\",\"2022-09-12T00:00:00\",\"2022-09-22T00:00:00\"],\"y\":[11359.0,4571.2,3717.7,7170.4,2158.6666666666665,2753.6,1.5,0.0,0.0,0.0,0.0,0.0,0.0,0.0,0.0,0.0,0.0,0.0,0.0,0.0,0.0,0.0,0.0,0.0,0.0,0.0,0.0,0.0,0.0,0.0,0.0,0.0,3221.25,8102.3,15788.5,14551.2,15181.4,16361.8,8645.0,7375.4,16403.9,12947.3,32980.3,26525.2,9652.9,7330.3,3306.875],\"type\":\"scatter\"}],                        {\"template\":{\"data\":{\"barpolar\":[{\"marker\":{\"line\":{\"color\":\"white\",\"width\":0.5},\"pattern\":{\"fillmode\":\"overlay\",\"size\":10,\"solidity\":0.2}},\"type\":\"barpolar\"}],\"bar\":[{\"error_x\":{\"color\":\"rgb(36,36,36)\"},\"error_y\":{\"color\":\"rgb(36,36,36)\"},\"marker\":{\"line\":{\"color\":\"white\",\"width\":0.5},\"pattern\":{\"fillmode\":\"overlay\",\"size\":10,\"solidity\":0.2}},\"type\":\"bar\"}],\"carpet\":[{\"aaxis\":{\"endlinecolor\":\"rgb(36,36,36)\",\"gridcolor\":\"white\",\"linecolor\":\"white\",\"minorgridcolor\":\"white\",\"startlinecolor\":\"rgb(36,36,36)\"},\"baxis\":{\"endlinecolor\":\"rgb(36,36,36)\",\"gridcolor\":\"white\",\"linecolor\":\"white\",\"minorgridcolor\":\"white\",\"startlinecolor\":\"rgb(36,36,36)\"},\"type\":\"carpet\"}],\"choropleth\":[{\"colorbar\":{\"outlinewidth\":1,\"tickcolor\":\"rgb(36,36,36)\",\"ticks\":\"outside\"},\"type\":\"choropleth\"}],\"contourcarpet\":[{\"colorbar\":{\"outlinewidth\":1,\"tickcolor\":\"rgb(36,36,36)\",\"ticks\":\"outside\"},\"type\":\"contourcarpet\"}],\"contour\":[{\"colorbar\":{\"outlinewidth\":1,\"tickcolor\":\"rgb(36,36,36)\",\"ticks\":\"outside\"},\"colorscale\":[[0.0,\"#440154\"],[0.1111111111111111,\"#482878\"],[0.2222222222222222,\"#3e4989\"],[0.3333333333333333,\"#31688e\"],[0.4444444444444444,\"#26828e\"],[0.5555555555555556,\"#1f9e89\"],[0.6666666666666666,\"#35b779\"],[0.7777777777777778,\"#6ece58\"],[0.8888888888888888,\"#b5de2b\"],[1.0,\"#fde725\"]],\"type\":\"contour\"}],\"heatmapgl\":[{\"colorbar\":{\"outlinewidth\":1,\"tickcolor\":\"rgb(36,36,36)\",\"ticks\":\"outside\"},\"colorscale\":[[0.0,\"#440154\"],[0.1111111111111111,\"#482878\"],[0.2222222222222222,\"#3e4989\"],[0.3333333333333333,\"#31688e\"],[0.4444444444444444,\"#26828e\"],[0.5555555555555556,\"#1f9e89\"],[0.6666666666666666,\"#35b779\"],[0.7777777777777778,\"#6ece58\"],[0.8888888888888888,\"#b5de2b\"],[1.0,\"#fde725\"]],\"type\":\"heatmapgl\"}],\"heatmap\":[{\"colorbar\":{\"outlinewidth\":1,\"tickcolor\":\"rgb(36,36,36)\",\"ticks\":\"outside\"},\"colorscale\":[[0.0,\"#440154\"],[0.1111111111111111,\"#482878\"],[0.2222222222222222,\"#3e4989\"],[0.3333333333333333,\"#31688e\"],[0.4444444444444444,\"#26828e\"],[0.5555555555555556,\"#1f9e89\"],[0.6666666666666666,\"#35b779\"],[0.7777777777777778,\"#6ece58\"],[0.8888888888888888,\"#b5de2b\"],[1.0,\"#fde725\"]],\"type\":\"heatmap\"}],\"histogram2dcontour\":[{\"colorbar\":{\"outlinewidth\":1,\"tickcolor\":\"rgb(36,36,36)\",\"ticks\":\"outside\"},\"colorscale\":[[0.0,\"#440154\"],[0.1111111111111111,\"#482878\"],[0.2222222222222222,\"#3e4989\"],[0.3333333333333333,\"#31688e\"],[0.4444444444444444,\"#26828e\"],[0.5555555555555556,\"#1f9e89\"],[0.6666666666666666,\"#35b779\"],[0.7777777777777778,\"#6ece58\"],[0.8888888888888888,\"#b5de2b\"],[1.0,\"#fde725\"]],\"type\":\"histogram2dcontour\"}],\"histogram2d\":[{\"colorbar\":{\"outlinewidth\":1,\"tickcolor\":\"rgb(36,36,36)\",\"ticks\":\"outside\"},\"colorscale\":[[0.0,\"#440154\"],[0.1111111111111111,\"#482878\"],[0.2222222222222222,\"#3e4989\"],[0.3333333333333333,\"#31688e\"],[0.4444444444444444,\"#26828e\"],[0.5555555555555556,\"#1f9e89\"],[0.6666666666666666,\"#35b779\"],[0.7777777777777778,\"#6ece58\"],[0.8888888888888888,\"#b5de2b\"],[1.0,\"#fde725\"]],\"type\":\"histogram2d\"}],\"histogram\":[{\"marker\":{\"line\":{\"color\":\"white\",\"width\":0.6}},\"type\":\"histogram\"}],\"mesh3d\":[{\"colorbar\":{\"outlinewidth\":1,\"tickcolor\":\"rgb(36,36,36)\",\"ticks\":\"outside\"},\"type\":\"mesh3d\"}],\"parcoords\":[{\"line\":{\"colorbar\":{\"outlinewidth\":1,\"tickcolor\":\"rgb(36,36,36)\",\"ticks\":\"outside\"}},\"type\":\"parcoords\"}],\"pie\":[{\"automargin\":true,\"type\":\"pie\"}],\"scatter3d\":[{\"line\":{\"colorbar\":{\"outlinewidth\":1,\"tickcolor\":\"rgb(36,36,36)\",\"ticks\":\"outside\"}},\"marker\":{\"colorbar\":{\"outlinewidth\":1,\"tickcolor\":\"rgb(36,36,36)\",\"ticks\":\"outside\"}},\"type\":\"scatter3d\"}],\"scattercarpet\":[{\"marker\":{\"colorbar\":{\"outlinewidth\":1,\"tickcolor\":\"rgb(36,36,36)\",\"ticks\":\"outside\"}},\"type\":\"scattercarpet\"}],\"scattergeo\":[{\"marker\":{\"colorbar\":{\"outlinewidth\":1,\"tickcolor\":\"rgb(36,36,36)\",\"ticks\":\"outside\"}},\"type\":\"scattergeo\"}],\"scattergl\":[{\"marker\":{\"colorbar\":{\"outlinewidth\":1,\"tickcolor\":\"rgb(36,36,36)\",\"ticks\":\"outside\"}},\"type\":\"scattergl\"}],\"scattermapbox\":[{\"marker\":{\"colorbar\":{\"outlinewidth\":1,\"tickcolor\":\"rgb(36,36,36)\",\"ticks\":\"outside\"}},\"type\":\"scattermapbox\"}],\"scatterpolargl\":[{\"marker\":{\"colorbar\":{\"outlinewidth\":1,\"tickcolor\":\"rgb(36,36,36)\",\"ticks\":\"outside\"}},\"type\":\"scatterpolargl\"}],\"scatterpolar\":[{\"marker\":{\"colorbar\":{\"outlinewidth\":1,\"tickcolor\":\"rgb(36,36,36)\",\"ticks\":\"outside\"}},\"type\":\"scatterpolar\"}],\"scatter\":[{\"fillpattern\":{\"fillmode\":\"overlay\",\"size\":10,\"solidity\":0.2},\"type\":\"scatter\"}],\"scatterternary\":[{\"marker\":{\"colorbar\":{\"outlinewidth\":1,\"tickcolor\":\"rgb(36,36,36)\",\"ticks\":\"outside\"}},\"type\":\"scatterternary\"}],\"surface\":[{\"colorbar\":{\"outlinewidth\":1,\"tickcolor\":\"rgb(36,36,36)\",\"ticks\":\"outside\"},\"colorscale\":[[0.0,\"#440154\"],[0.1111111111111111,\"#482878\"],[0.2222222222222222,\"#3e4989\"],[0.3333333333333333,\"#31688e\"],[0.4444444444444444,\"#26828e\"],[0.5555555555555556,\"#1f9e89\"],[0.6666666666666666,\"#35b779\"],[0.7777777777777778,\"#6ece58\"],[0.8888888888888888,\"#b5de2b\"],[1.0,\"#fde725\"]],\"type\":\"surface\"}],\"table\":[{\"cells\":{\"fill\":{\"color\":\"rgb(237,237,237)\"},\"line\":{\"color\":\"white\"}},\"header\":{\"fill\":{\"color\":\"rgb(217,217,217)\"},\"line\":{\"color\":\"white\"}},\"type\":\"table\"}]},\"layout\":{\"annotationdefaults\":{\"arrowhead\":0,\"arrowwidth\":1},\"autotypenumbers\":\"strict\",\"coloraxis\":{\"colorbar\":{\"outlinewidth\":1,\"tickcolor\":\"rgb(36,36,36)\",\"ticks\":\"outside\"}},\"colorscale\":{\"diverging\":[[0.0,\"rgb(103,0,31)\"],[0.1,\"rgb(178,24,43)\"],[0.2,\"rgb(214,96,77)\"],[0.3,\"rgb(244,165,130)\"],[0.4,\"rgb(253,219,199)\"],[0.5,\"rgb(247,247,247)\"],[0.6,\"rgb(209,229,240)\"],[0.7,\"rgb(146,197,222)\"],[0.8,\"rgb(67,147,195)\"],[0.9,\"rgb(33,102,172)\"],[1.0,\"rgb(5,48,97)\"]],\"sequential\":[[0.0,\"#440154\"],[0.1111111111111111,\"#482878\"],[0.2222222222222222,\"#3e4989\"],[0.3333333333333333,\"#31688e\"],[0.4444444444444444,\"#26828e\"],[0.5555555555555556,\"#1f9e89\"],[0.6666666666666666,\"#35b779\"],[0.7777777777777778,\"#6ece58\"],[0.8888888888888888,\"#b5de2b\"],[1.0,\"#fde725\"]],\"sequentialminus\":[[0.0,\"#440154\"],[0.1111111111111111,\"#482878\"],[0.2222222222222222,\"#3e4989\"],[0.3333333333333333,\"#31688e\"],[0.4444444444444444,\"#26828e\"],[0.5555555555555556,\"#1f9e89\"],[0.6666666666666666,\"#35b779\"],[0.7777777777777778,\"#6ece58\"],[0.8888888888888888,\"#b5de2b\"],[1.0,\"#fde725\"]]},\"colorway\":[\"#1F77B4\",\"#FF7F0E\",\"#2CA02C\",\"#D62728\",\"#9467BD\",\"#8C564B\",\"#E377C2\",\"#7F7F7F\",\"#BCBD22\",\"#17BECF\"],\"font\":{\"color\":\"rgb(36,36,36)\"},\"geo\":{\"bgcolor\":\"white\",\"lakecolor\":\"white\",\"landcolor\":\"white\",\"showlakes\":true,\"showland\":true,\"subunitcolor\":\"white\"},\"hoverlabel\":{\"align\":\"left\"},\"hovermode\":\"closest\",\"mapbox\":{\"style\":\"light\"},\"paper_bgcolor\":\"white\",\"plot_bgcolor\":\"white\",\"polar\":{\"angularaxis\":{\"gridcolor\":\"rgb(232,232,232)\",\"linecolor\":\"rgb(36,36,36)\",\"showgrid\":false,\"showline\":true,\"ticks\":\"outside\"},\"bgcolor\":\"white\",\"radialaxis\":{\"gridcolor\":\"rgb(232,232,232)\",\"linecolor\":\"rgb(36,36,36)\",\"showgrid\":false,\"showline\":true,\"ticks\":\"outside\"}},\"scene\":{\"xaxis\":{\"backgroundcolor\":\"white\",\"gridcolor\":\"rgb(232,232,232)\",\"gridwidth\":2,\"linecolor\":\"rgb(36,36,36)\",\"showbackground\":true,\"showgrid\":false,\"showline\":true,\"ticks\":\"outside\",\"zeroline\":false,\"zerolinecolor\":\"rgb(36,36,36)\"},\"yaxis\":{\"backgroundcolor\":\"white\",\"gridcolor\":\"rgb(232,232,232)\",\"gridwidth\":2,\"linecolor\":\"rgb(36,36,36)\",\"showbackground\":true,\"showgrid\":false,\"showline\":true,\"ticks\":\"outside\",\"zeroline\":false,\"zerolinecolor\":\"rgb(36,36,36)\"},\"zaxis\":{\"backgroundcolor\":\"white\",\"gridcolor\":\"rgb(232,232,232)\",\"gridwidth\":2,\"linecolor\":\"rgb(36,36,36)\",\"showbackground\":true,\"showgrid\":false,\"showline\":true,\"ticks\":\"outside\",\"zeroline\":false,\"zerolinecolor\":\"rgb(36,36,36)\"}},\"shapedefaults\":{\"fillcolor\":\"black\",\"line\":{\"width\":0},\"opacity\":0.3},\"ternary\":{\"aaxis\":{\"gridcolor\":\"rgb(232,232,232)\",\"linecolor\":\"rgb(36,36,36)\",\"showgrid\":false,\"showline\":true,\"ticks\":\"outside\"},\"baxis\":{\"gridcolor\":\"rgb(232,232,232)\",\"linecolor\":\"rgb(36,36,36)\",\"showgrid\":false,\"showline\":true,\"ticks\":\"outside\"},\"bgcolor\":\"white\",\"caxis\":{\"gridcolor\":\"rgb(232,232,232)\",\"linecolor\":\"rgb(36,36,36)\",\"showgrid\":false,\"showline\":true,\"ticks\":\"outside\"}},\"title\":{\"x\":0.05},\"xaxis\":{\"automargin\":true,\"gridcolor\":\"rgb(232,232,232)\",\"linecolor\":\"rgb(36,36,36)\",\"showgrid\":false,\"showline\":true,\"ticks\":\"outside\",\"title\":{\"standoff\":15},\"zeroline\":false,\"zerolinecolor\":\"rgb(36,36,36)\"},\"yaxis\":{\"automargin\":true,\"gridcolor\":\"rgb(232,232,232)\",\"linecolor\":\"rgb(36,36,36)\",\"showgrid\":false,\"showline\":true,\"ticks\":\"outside\",\"title\":{\"standoff\":15},\"zeroline\":false,\"zerolinecolor\":\"rgb(36,36,36)\"}}},\"title\":{\"text\":\"Recorded Images per Day\"}},                        {\"responsive\": true}                    ).then(function(){\n",
       "                            \n",
       "var gd = document.getElementById('b8e5a36d-b9d2-4438-a31c-c1c6848f5f27');\n",
       "var x = new MutationObserver(function (mutations, observer) {{\n",
       "        var display = window.getComputedStyle(gd).display;\n",
       "        if (!display || display === 'none') {{\n",
       "            console.log([gd, 'removed!']);\n",
       "            Plotly.purge(gd);\n",
       "            observer.disconnect();\n",
       "        }}\n",
       "}});\n",
       "\n",
       "// Listen for the removal of the full notebook cells\n",
       "var notebookContainer = gd.closest('#notebook-container');\n",
       "if (notebookContainer) {{\n",
       "    x.observe(notebookContainer, {childList: true});\n",
       "}}\n",
       "\n",
       "// Listen for the clearing of the current output cell\n",
       "var outputEl = gd.closest('.output');\n",
       "if (outputEl) {{\n",
       "    x.observe(outputEl, {childList: true});\n",
       "}}\n",
       "\n",
       "                        })                };                });            </script>        </div>"
      ]
     },
     "metadata": {},
     "output_type": "display_data"
    }
   ],
   "source": [
    "palette = iter(paired_palette)\n",
    "SMA = 10\n",
    "\n",
    "fig = go.Figure()\n",
    "\n",
    "fig.add_trace(go.Scatter(\n",
    "    x=data.index,\n",
    "    y=data['count'],\n",
    "    name='Per Day',\n",
    "    line_shape='hv',\n",
    "    line_color=next(palette)\n",
    "))\n",
    "\n",
    "tmp = data.resample(f'{SMA}D').mean().fillna(0)\n",
    "\n",
    "fig.add_trace(go.Scatter(\n",
    "    x=tmp.index, \n",
    "    y=tmp['count'],\n",
    "    name=f'SMA {SMA} Days',\n",
    "    line_color=next(palette)\n",
    "))\n",
    "fig.update_layout(\n",
    "    title='Recorded Images per Day', \n",
    "    template='simple_white'\n",
    ")"
   ]
  },
  {
   "cell_type": "markdown",
   "id": "4184eef4-64b9-49c5-aff7-2d07a37282f0",
   "metadata": {},
   "source": [
    "### Active Nodes per day"
   ]
  },
  {
   "cell_type": "code",
   "execution_count": 64,
   "id": "ea9a8023-3df9-414a-bbec-89ef22c9e5fd",
   "metadata": {},
   "outputs": [],
   "source": [
    "query_string = \"\"\"\n",
    "    SELECT day_time, count(day_time)\n",
    "    FROM (\n",
    "        SELECT\n",
    "            date_trunc('day', prod.files_image.time) as day_time,\n",
    "            prod.deployments.node_id\n",
    "        FROM prod.files_image\n",
    "        LEFT JOIN prod.deployments\n",
    "        ON prod.files_image.deployment_id = prod.deployments.deployment_id\n",
    "        GROUP BY day_time, node_id\n",
    "    ) AS tmp\n",
    "    GROUP BY day_time\n",
    "\"\"\""
   ]
  },
  {
   "cell_type": "code",
   "execution_count": 65,
   "id": "1ec53191-1951-41c0-b5fb-a99e1115ab41",
   "metadata": {},
   "outputs": [
    {
     "name": "stdout",
     "output_type": "stream",
     "text": [
      "Retrieved 195 datapoints in 3.307 seconds\n"
     ]
    }
   ],
   "source": [
    "data = sql(query_string)"
   ]
  },
  {
   "cell_type": "code",
   "execution_count": 70,
   "id": "e5e49d4b-481c-4183-8809-9486310e3186",
   "metadata": {},
   "outputs": [
    {
     "data": {
      "text/html": [
       "<div>\n",
       "<style scoped>\n",
       "    .dataframe tbody tr th:only-of-type {\n",
       "        vertical-align: middle;\n",
       "    }\n",
       "\n",
       "    .dataframe tbody tr th {\n",
       "        vertical-align: top;\n",
       "    }\n",
       "\n",
       "    .dataframe thead th {\n",
       "        text-align: right;\n",
       "    }\n",
       "</style>\n",
       "<table border=\"1\" class=\"dataframe\">\n",
       "  <thead>\n",
       "    <tr style=\"text-align: right;\">\n",
       "      <th></th>\n",
       "      <th>count</th>\n",
       "    </tr>\n",
       "    <tr>\n",
       "      <th>day_time</th>\n",
       "      <th></th>\n",
       "    </tr>\n",
       "  </thead>\n",
       "  <tbody>\n",
       "    <tr>\n",
       "      <th>2021-06-19 22:00:00</th>\n",
       "      <td>1</td>\n",
       "    </tr>\n",
       "    <tr>\n",
       "      <th>2021-06-20 22:00:00</th>\n",
       "      <td>8</td>\n",
       "    </tr>\n",
       "    <tr>\n",
       "      <th>2021-06-21 22:00:00</th>\n",
       "      <td>6</td>\n",
       "    </tr>\n",
       "    <tr>\n",
       "      <th>2021-06-22 22:00:00</th>\n",
       "      <td>5</td>\n",
       "    </tr>\n",
       "    <tr>\n",
       "      <th>2021-06-23 22:00:00</th>\n",
       "      <td>5</td>\n",
       "    </tr>\n",
       "  </tbody>\n",
       "</table>\n",
       "</div>"
      ],
      "text/plain": [
       "                     count\n",
       "day_time                  \n",
       "2021-06-19 22:00:00      1\n",
       "2021-06-20 22:00:00      8\n",
       "2021-06-21 22:00:00      6\n",
       "2021-06-22 22:00:00      5\n",
       "2021-06-23 22:00:00      5"
      ]
     },
     "execution_count": 70,
     "metadata": {},
     "output_type": "execute_result"
    }
   ],
   "source": [
    "data = data.sort_values('day_time')\n",
    "data = data.set_index('day_time')\n",
    "data.head(5)"
   ]
  },
  {
   "cell_type": "code",
   "execution_count": 77,
   "id": "0734d150-4406-4cac-9fc4-e56d0a858921",
   "metadata": {},
   "outputs": [
    {
     "data": {
      "application/vnd.plotly.v1+json": {
       "config": {
        "plotlyServerURL": "https://plot.ly"
       },
       "data": [
        {
         "line": {
          "color": "rgba(166, 206, 227, 1)",
          "shape": "hv"
         },
         "mode": "lines",
         "name": "Per Day",
         "type": "scatter",
         "x": [
          "2021-06-19T22:00:00",
          "2021-06-20T22:00:00",
          "2021-06-21T22:00:00",
          "2021-06-22T22:00:00",
          "2021-06-23T22:00:00",
          "2021-06-24T22:00:00",
          "2021-06-25T22:00:00",
          "2021-06-26T22:00:00",
          "2021-06-27T22:00:00",
          "2021-06-28T22:00:00",
          "2021-06-29T22:00:00",
          "2021-06-30T22:00:00",
          "2021-07-01T22:00:00",
          "2021-07-02T22:00:00",
          "2021-07-03T22:00:00",
          "2021-07-04T22:00:00",
          "2021-07-05T22:00:00",
          "2021-07-06T22:00:00",
          "2021-07-07T22:00:00",
          "2021-07-08T22:00:00",
          "2021-07-09T22:00:00",
          "2021-07-10T22:00:00",
          "2021-07-11T22:00:00",
          "2021-07-12T22:00:00",
          "2021-07-13T22:00:00",
          "2021-07-14T22:00:00",
          "2021-07-15T22:00:00",
          "2021-07-16T22:00:00",
          "2021-07-17T22:00:00",
          "2021-07-18T22:00:00",
          "2021-07-19T22:00:00",
          "2021-07-20T22:00:00",
          "2021-07-21T22:00:00",
          "2021-07-22T22:00:00",
          "2021-07-23T22:00:00",
          "2021-07-24T22:00:00",
          "2021-07-25T22:00:00",
          "2021-07-26T22:00:00",
          "2021-07-27T22:00:00",
          "2021-07-28T22:00:00",
          "2021-07-29T22:00:00",
          "2021-07-30T22:00:00",
          "2021-07-31T22:00:00",
          "2021-08-01T22:00:00",
          "2021-08-02T22:00:00",
          "2021-08-05T22:00:00",
          "2021-08-11T22:00:00",
          "2021-08-12T22:00:00",
          "2021-08-13T22:00:00",
          "2021-08-14T22:00:00",
          "2021-08-15T22:00:00",
          "2021-08-20T22:00:00",
          "2021-08-23T22:00:00",
          "2022-05-11T22:00:00",
          "2022-05-12T22:00:00",
          "2022-05-13T22:00:00",
          "2022-05-14T22:00:00",
          "2022-05-15T22:00:00",
          "2022-05-16T22:00:00",
          "2022-05-17T22:00:00",
          "2022-05-18T22:00:00",
          "2022-05-19T22:00:00",
          "2022-05-20T22:00:00",
          "2022-05-21T22:00:00",
          "2022-05-22T22:00:00",
          "2022-05-23T22:00:00",
          "2022-05-24T22:00:00",
          "2022-05-25T22:00:00",
          "2022-05-26T22:00:00",
          "2022-05-27T22:00:00",
          "2022-05-28T22:00:00",
          "2022-05-29T22:00:00",
          "2022-05-30T22:00:00",
          "2022-05-31T22:00:00",
          "2022-06-01T22:00:00",
          "2022-06-02T22:00:00",
          "2022-06-03T22:00:00",
          "2022-06-04T22:00:00",
          "2022-06-05T22:00:00",
          "2022-06-06T22:00:00",
          "2022-06-07T22:00:00",
          "2022-06-08T22:00:00",
          "2022-06-09T22:00:00",
          "2022-06-10T22:00:00",
          "2022-06-11T22:00:00",
          "2022-06-12T22:00:00",
          "2022-06-13T22:00:00",
          "2022-06-14T22:00:00",
          "2022-06-15T22:00:00",
          "2022-06-16T22:00:00",
          "2022-06-17T22:00:00",
          "2022-06-18T22:00:00",
          "2022-06-19T22:00:00",
          "2022-06-20T22:00:00",
          "2022-06-21T22:00:00",
          "2022-06-22T22:00:00",
          "2022-06-23T22:00:00",
          "2022-06-24T22:00:00",
          "2022-06-25T22:00:00",
          "2022-06-26T22:00:00",
          "2022-06-27T22:00:00",
          "2022-06-28T22:00:00",
          "2022-06-29T22:00:00",
          "2022-06-30T22:00:00",
          "2022-07-01T22:00:00",
          "2022-07-02T22:00:00",
          "2022-07-03T22:00:00",
          "2022-07-04T22:00:00",
          "2022-07-05T22:00:00",
          "2022-07-06T22:00:00",
          "2022-07-07T22:00:00",
          "2022-07-08T22:00:00",
          "2022-07-09T22:00:00",
          "2022-07-10T22:00:00",
          "2022-07-11T22:00:00",
          "2022-07-12T22:00:00",
          "2022-07-13T22:00:00",
          "2022-07-14T22:00:00",
          "2022-07-15T22:00:00",
          "2022-07-16T22:00:00",
          "2022-07-17T22:00:00",
          "2022-07-18T22:00:00",
          "2022-07-19T22:00:00",
          "2022-07-20T22:00:00",
          "2022-07-21T22:00:00",
          "2022-07-22T22:00:00",
          "2022-07-23T22:00:00",
          "2022-07-24T22:00:00",
          "2022-07-25T22:00:00",
          "2022-07-26T22:00:00",
          "2022-07-27T22:00:00",
          "2022-07-28T22:00:00",
          "2022-07-29T22:00:00",
          "2022-07-30T22:00:00",
          "2022-07-31T22:00:00",
          "2022-08-01T22:00:00",
          "2022-08-02T22:00:00",
          "2022-08-03T22:00:00",
          "2022-08-04T22:00:00",
          "2022-08-05T22:00:00",
          "2022-08-06T22:00:00",
          "2022-08-07T22:00:00",
          "2022-08-08T22:00:00",
          "2022-08-09T22:00:00",
          "2022-08-10T22:00:00",
          "2022-08-11T22:00:00",
          "2022-08-12T22:00:00",
          "2022-08-13T22:00:00",
          "2022-08-14T22:00:00",
          "2022-08-15T22:00:00",
          "2022-08-16T22:00:00",
          "2022-08-17T22:00:00",
          "2022-08-18T22:00:00",
          "2022-08-19T22:00:00",
          "2022-08-20T22:00:00",
          "2022-08-21T22:00:00",
          "2022-08-22T22:00:00",
          "2022-08-23T22:00:00",
          "2022-08-24T22:00:00",
          "2022-08-25T22:00:00",
          "2022-08-26T22:00:00",
          "2022-08-27T22:00:00",
          "2022-08-28T22:00:00",
          "2022-08-29T22:00:00",
          "2022-08-30T22:00:00",
          "2022-08-31T22:00:00",
          "2022-09-01T22:00:00",
          "2022-09-02T22:00:00",
          "2022-09-03T22:00:00",
          "2022-09-04T22:00:00",
          "2022-09-05T22:00:00",
          "2022-09-06T22:00:00",
          "2022-09-07T22:00:00",
          "2022-09-08T22:00:00",
          "2022-09-09T22:00:00",
          "2022-09-10T22:00:00",
          "2022-09-11T22:00:00",
          "2022-09-12T22:00:00",
          "2022-09-13T22:00:00",
          "2022-09-14T22:00:00",
          "2022-09-15T22:00:00",
          "2022-09-16T22:00:00",
          "2022-09-17T22:00:00",
          "2022-09-18T22:00:00",
          "2022-09-19T22:00:00",
          "2022-09-20T22:00:00",
          "2022-09-21T22:00:00",
          "2022-09-22T22:00:00",
          "2022-09-23T22:00:00",
          "2022-09-24T22:00:00",
          "2022-09-25T22:00:00",
          "2022-09-26T22:00:00",
          "2022-09-27T22:00:00",
          "2022-09-28T22:00:00",
          "2022-09-29T22:00:00"
         ],
         "y": [
          1,
          8,
          6,
          5,
          5,
          9,
          6,
          7,
          3,
          4,
          3,
          4,
          6,
          7,
          4,
          4,
          4,
          3,
          3,
          4,
          5,
          5,
          4,
          2,
          3,
          2,
          3,
          3,
          2,
          3,
          6,
          7,
          10,
          9,
          9,
          5,
          6,
          5,
          6,
          7,
          5,
          2,
          1,
          1,
          1,
          1,
          3,
          2,
          2,
          2,
          2,
          1,
          1,
          4,
          4,
          4,
          4,
          4,
          4,
          4,
          4,
          8,
          8,
          8,
          8,
          8,
          12,
          12,
          12,
          12,
          12,
          12,
          12,
          12,
          12,
          15,
          15,
          11,
          11,
          15,
          16,
          15,
          15,
          11,
          11,
          11,
          15,
          15,
          15,
          15,
          15,
          11,
          11,
          11,
          11,
          11,
          11,
          11,
          11,
          11,
          11,
          15,
          15,
          15,
          15,
          15,
          11,
          11,
          7,
          7,
          7,
          7,
          7,
          7,
          7,
          7,
          7,
          7,
          3,
          7,
          7,
          7,
          7,
          6,
          6,
          6,
          7,
          14,
          14,
          14,
          14,
          14,
          14,
          14,
          14,
          14,
          14,
          14,
          10,
          14,
          14,
          14,
          14,
          9,
          10,
          14,
          14,
          14,
          14,
          14,
          14,
          10,
          14,
          14,
          14,
          14,
          13,
          14,
          15,
          15,
          15,
          15,
          8,
          8,
          8,
          7,
          7,
          8,
          7,
          7,
          7,
          7,
          7,
          7,
          7,
          7,
          7,
          7,
          7,
          7,
          7,
          7,
          7,
          6,
          3,
          3,
          3,
          2,
          3,
          3,
          3,
          3,
          3,
          3,
          1
         ]
        },
        {
         "line": {
          "color": "rgba(31, 120, 180, 1)"
         },
         "mode": "lines",
         "name": "SMA 10 Days",
         "type": "scatter",
         "x": [
          "2021-06-19T00:00:00",
          "2021-06-29T00:00:00",
          "2021-07-09T00:00:00",
          "2021-07-19T00:00:00",
          "2021-07-29T00:00:00",
          "2021-08-08T00:00:00",
          "2021-08-18T00:00:00",
          "2021-08-28T00:00:00",
          "2021-09-07T00:00:00",
          "2021-09-17T00:00:00",
          "2021-09-27T00:00:00",
          "2021-10-07T00:00:00",
          "2021-10-17T00:00:00",
          "2021-10-27T00:00:00",
          "2021-11-06T00:00:00",
          "2021-11-16T00:00:00",
          "2021-11-26T00:00:00",
          "2021-12-06T00:00:00",
          "2021-12-16T00:00:00",
          "2021-12-26T00:00:00",
          "2022-01-05T00:00:00",
          "2022-01-15T00:00:00",
          "2022-01-25T00:00:00",
          "2022-02-04T00:00:00",
          "2022-02-14T00:00:00",
          "2022-02-24T00:00:00",
          "2022-03-06T00:00:00",
          "2022-03-16T00:00:00",
          "2022-03-26T00:00:00",
          "2022-04-05T00:00:00",
          "2022-04-15T00:00:00",
          "2022-04-25T00:00:00",
          "2022-05-05T00:00:00",
          "2022-05-15T00:00:00",
          "2022-05-25T00:00:00",
          "2022-06-04T00:00:00",
          "2022-06-14T00:00:00",
          "2022-06-24T00:00:00",
          "2022-07-04T00:00:00",
          "2022-07-14T00:00:00",
          "2022-07-24T00:00:00",
          "2022-08-03T00:00:00",
          "2022-08-13T00:00:00",
          "2022-08-23T00:00:00",
          "2022-09-02T00:00:00",
          "2022-09-12T00:00:00",
          "2022-09-22T00:00:00"
         ],
         "y": [
          5.4,
          4.2,
          3.2,
          7,
          1.8333333333333333,
          2.2,
          1,
          0,
          0,
          0,
          0,
          0,
          0,
          0,
          0,
          0,
          0,
          0,
          0,
          0,
          0,
          0,
          0,
          0,
          0,
          0,
          0,
          0,
          0,
          0,
          0,
          0,
          4,
          6.8,
          12.6,
          13.1,
          12.6,
          13,
          7.4,
          6.3,
          14,
          12.7,
          13.5,
          11.2,
          7.1,
          5.7,
          2.625
         ]
        },
        {
         "line": {
          "color": "rgba(178, 223, 138, 1)"
         },
         "mode": "lines",
         "name": "SMA 30 Days",
         "type": "scatter",
         "x": [
          "2021-06-19T00:00:00",
          "2021-07-19T00:00:00",
          "2021-08-18T00:00:00",
          "2021-09-17T00:00:00",
          "2021-10-17T00:00:00",
          "2021-11-16T00:00:00",
          "2021-12-16T00:00:00",
          "2022-01-15T00:00:00",
          "2022-02-14T00:00:00",
          "2022-03-16T00:00:00",
          "2022-04-15T00:00:00",
          "2022-05-15T00:00:00",
          "2022-06-14T00:00:00",
          "2022-07-14T00:00:00",
          "2022-08-13T00:00:00",
          "2022-09-12T00:00:00"
         ],
         "y": [
          4.266666666666667,
          4.380952380952381,
          1,
          0,
          0,
          0,
          0,
          0,
          0,
          0,
          4,
          10.833333333333334,
          11,
          11,
          10.6,
          4.333333333333333
         ]
        }
       ],
       "layout": {
        "autosize": true,
        "template": {
         "data": {
          "bar": [
           {
            "error_x": {
             "color": "rgb(36,36,36)"
            },
            "error_y": {
             "color": "rgb(36,36,36)"
            },
            "marker": {
             "line": {
              "color": "white",
              "width": 0.5
             },
             "pattern": {
              "fillmode": "overlay",
              "size": 10,
              "solidity": 0.2
             }
            },
            "type": "bar"
           }
          ],
          "barpolar": [
           {
            "marker": {
             "line": {
              "color": "white",
              "width": 0.5
             },
             "pattern": {
              "fillmode": "overlay",
              "size": 10,
              "solidity": 0.2
             }
            },
            "type": "barpolar"
           }
          ],
          "carpet": [
           {
            "aaxis": {
             "endlinecolor": "rgb(36,36,36)",
             "gridcolor": "white",
             "linecolor": "white",
             "minorgridcolor": "white",
             "startlinecolor": "rgb(36,36,36)"
            },
            "baxis": {
             "endlinecolor": "rgb(36,36,36)",
             "gridcolor": "white",
             "linecolor": "white",
             "minorgridcolor": "white",
             "startlinecolor": "rgb(36,36,36)"
            },
            "type": "carpet"
           }
          ],
          "choropleth": [
           {
            "colorbar": {
             "outlinewidth": 1,
             "tickcolor": "rgb(36,36,36)",
             "ticks": "outside"
            },
            "type": "choropleth"
           }
          ],
          "contour": [
           {
            "colorbar": {
             "outlinewidth": 1,
             "tickcolor": "rgb(36,36,36)",
             "ticks": "outside"
            },
            "colorscale": [
             [
              0,
              "#440154"
             ],
             [
              0.1111111111111111,
              "#482878"
             ],
             [
              0.2222222222222222,
              "#3e4989"
             ],
             [
              0.3333333333333333,
              "#31688e"
             ],
             [
              0.4444444444444444,
              "#26828e"
             ],
             [
              0.5555555555555556,
              "#1f9e89"
             ],
             [
              0.6666666666666666,
              "#35b779"
             ],
             [
              0.7777777777777778,
              "#6ece58"
             ],
             [
              0.8888888888888888,
              "#b5de2b"
             ],
             [
              1,
              "#fde725"
             ]
            ],
            "type": "contour"
           }
          ],
          "contourcarpet": [
           {
            "colorbar": {
             "outlinewidth": 1,
             "tickcolor": "rgb(36,36,36)",
             "ticks": "outside"
            },
            "type": "contourcarpet"
           }
          ],
          "heatmap": [
           {
            "colorbar": {
             "outlinewidth": 1,
             "tickcolor": "rgb(36,36,36)",
             "ticks": "outside"
            },
            "colorscale": [
             [
              0,
              "#440154"
             ],
             [
              0.1111111111111111,
              "#482878"
             ],
             [
              0.2222222222222222,
              "#3e4989"
             ],
             [
              0.3333333333333333,
              "#31688e"
             ],
             [
              0.4444444444444444,
              "#26828e"
             ],
             [
              0.5555555555555556,
              "#1f9e89"
             ],
             [
              0.6666666666666666,
              "#35b779"
             ],
             [
              0.7777777777777778,
              "#6ece58"
             ],
             [
              0.8888888888888888,
              "#b5de2b"
             ],
             [
              1,
              "#fde725"
             ]
            ],
            "type": "heatmap"
           }
          ],
          "heatmapgl": [
           {
            "colorbar": {
             "outlinewidth": 1,
             "tickcolor": "rgb(36,36,36)",
             "ticks": "outside"
            },
            "colorscale": [
             [
              0,
              "#440154"
             ],
             [
              0.1111111111111111,
              "#482878"
             ],
             [
              0.2222222222222222,
              "#3e4989"
             ],
             [
              0.3333333333333333,
              "#31688e"
             ],
             [
              0.4444444444444444,
              "#26828e"
             ],
             [
              0.5555555555555556,
              "#1f9e89"
             ],
             [
              0.6666666666666666,
              "#35b779"
             ],
             [
              0.7777777777777778,
              "#6ece58"
             ],
             [
              0.8888888888888888,
              "#b5de2b"
             ],
             [
              1,
              "#fde725"
             ]
            ],
            "type": "heatmapgl"
           }
          ],
          "histogram": [
           {
            "marker": {
             "line": {
              "color": "white",
              "width": 0.6
             }
            },
            "type": "histogram"
           }
          ],
          "histogram2d": [
           {
            "colorbar": {
             "outlinewidth": 1,
             "tickcolor": "rgb(36,36,36)",
             "ticks": "outside"
            },
            "colorscale": [
             [
              0,
              "#440154"
             ],
             [
              0.1111111111111111,
              "#482878"
             ],
             [
              0.2222222222222222,
              "#3e4989"
             ],
             [
              0.3333333333333333,
              "#31688e"
             ],
             [
              0.4444444444444444,
              "#26828e"
             ],
             [
              0.5555555555555556,
              "#1f9e89"
             ],
             [
              0.6666666666666666,
              "#35b779"
             ],
             [
              0.7777777777777778,
              "#6ece58"
             ],
             [
              0.8888888888888888,
              "#b5de2b"
             ],
             [
              1,
              "#fde725"
             ]
            ],
            "type": "histogram2d"
           }
          ],
          "histogram2dcontour": [
           {
            "colorbar": {
             "outlinewidth": 1,
             "tickcolor": "rgb(36,36,36)",
             "ticks": "outside"
            },
            "colorscale": [
             [
              0,
              "#440154"
             ],
             [
              0.1111111111111111,
              "#482878"
             ],
             [
              0.2222222222222222,
              "#3e4989"
             ],
             [
              0.3333333333333333,
              "#31688e"
             ],
             [
              0.4444444444444444,
              "#26828e"
             ],
             [
              0.5555555555555556,
              "#1f9e89"
             ],
             [
              0.6666666666666666,
              "#35b779"
             ],
             [
              0.7777777777777778,
              "#6ece58"
             ],
             [
              0.8888888888888888,
              "#b5de2b"
             ],
             [
              1,
              "#fde725"
             ]
            ],
            "type": "histogram2dcontour"
           }
          ],
          "mesh3d": [
           {
            "colorbar": {
             "outlinewidth": 1,
             "tickcolor": "rgb(36,36,36)",
             "ticks": "outside"
            },
            "type": "mesh3d"
           }
          ],
          "parcoords": [
           {
            "line": {
             "colorbar": {
              "outlinewidth": 1,
              "tickcolor": "rgb(36,36,36)",
              "ticks": "outside"
             }
            },
            "type": "parcoords"
           }
          ],
          "pie": [
           {
            "automargin": true,
            "type": "pie"
           }
          ],
          "scatter": [
           {
            "fillpattern": {
             "fillmode": "overlay",
             "size": 10,
             "solidity": 0.2
            },
            "type": "scatter"
           }
          ],
          "scatter3d": [
           {
            "line": {
             "colorbar": {
              "outlinewidth": 1,
              "tickcolor": "rgb(36,36,36)",
              "ticks": "outside"
             }
            },
            "marker": {
             "colorbar": {
              "outlinewidth": 1,
              "tickcolor": "rgb(36,36,36)",
              "ticks": "outside"
             }
            },
            "type": "scatter3d"
           }
          ],
          "scattercarpet": [
           {
            "marker": {
             "colorbar": {
              "outlinewidth": 1,
              "tickcolor": "rgb(36,36,36)",
              "ticks": "outside"
             }
            },
            "type": "scattercarpet"
           }
          ],
          "scattergeo": [
           {
            "marker": {
             "colorbar": {
              "outlinewidth": 1,
              "tickcolor": "rgb(36,36,36)",
              "ticks": "outside"
             }
            },
            "type": "scattergeo"
           }
          ],
          "scattergl": [
           {
            "marker": {
             "colorbar": {
              "outlinewidth": 1,
              "tickcolor": "rgb(36,36,36)",
              "ticks": "outside"
             }
            },
            "type": "scattergl"
           }
          ],
          "scattermapbox": [
           {
            "marker": {
             "colorbar": {
              "outlinewidth": 1,
              "tickcolor": "rgb(36,36,36)",
              "ticks": "outside"
             }
            },
            "type": "scattermapbox"
           }
          ],
          "scatterpolar": [
           {
            "marker": {
             "colorbar": {
              "outlinewidth": 1,
              "tickcolor": "rgb(36,36,36)",
              "ticks": "outside"
             }
            },
            "type": "scatterpolar"
           }
          ],
          "scatterpolargl": [
           {
            "marker": {
             "colorbar": {
              "outlinewidth": 1,
              "tickcolor": "rgb(36,36,36)",
              "ticks": "outside"
             }
            },
            "type": "scatterpolargl"
           }
          ],
          "scatterternary": [
           {
            "marker": {
             "colorbar": {
              "outlinewidth": 1,
              "tickcolor": "rgb(36,36,36)",
              "ticks": "outside"
             }
            },
            "type": "scatterternary"
           }
          ],
          "surface": [
           {
            "colorbar": {
             "outlinewidth": 1,
             "tickcolor": "rgb(36,36,36)",
             "ticks": "outside"
            },
            "colorscale": [
             [
              0,
              "#440154"
             ],
             [
              0.1111111111111111,
              "#482878"
             ],
             [
              0.2222222222222222,
              "#3e4989"
             ],
             [
              0.3333333333333333,
              "#31688e"
             ],
             [
              0.4444444444444444,
              "#26828e"
             ],
             [
              0.5555555555555556,
              "#1f9e89"
             ],
             [
              0.6666666666666666,
              "#35b779"
             ],
             [
              0.7777777777777778,
              "#6ece58"
             ],
             [
              0.8888888888888888,
              "#b5de2b"
             ],
             [
              1,
              "#fde725"
             ]
            ],
            "type": "surface"
           }
          ],
          "table": [
           {
            "cells": {
             "fill": {
              "color": "rgb(237,237,237)"
             },
             "line": {
              "color": "white"
             }
            },
            "header": {
             "fill": {
              "color": "rgb(217,217,217)"
             },
             "line": {
              "color": "white"
             }
            },
            "type": "table"
           }
          ]
         },
         "layout": {
          "annotationdefaults": {
           "arrowhead": 0,
           "arrowwidth": 1
          },
          "autotypenumbers": "strict",
          "coloraxis": {
           "colorbar": {
            "outlinewidth": 1,
            "tickcolor": "rgb(36,36,36)",
            "ticks": "outside"
           }
          },
          "colorscale": {
           "diverging": [
            [
             0,
             "rgb(103,0,31)"
            ],
            [
             0.1,
             "rgb(178,24,43)"
            ],
            [
             0.2,
             "rgb(214,96,77)"
            ],
            [
             0.3,
             "rgb(244,165,130)"
            ],
            [
             0.4,
             "rgb(253,219,199)"
            ],
            [
             0.5,
             "rgb(247,247,247)"
            ],
            [
             0.6,
             "rgb(209,229,240)"
            ],
            [
             0.7,
             "rgb(146,197,222)"
            ],
            [
             0.8,
             "rgb(67,147,195)"
            ],
            [
             0.9,
             "rgb(33,102,172)"
            ],
            [
             1,
             "rgb(5,48,97)"
            ]
           ],
           "sequential": [
            [
             0,
             "#440154"
            ],
            [
             0.1111111111111111,
             "#482878"
            ],
            [
             0.2222222222222222,
             "#3e4989"
            ],
            [
             0.3333333333333333,
             "#31688e"
            ],
            [
             0.4444444444444444,
             "#26828e"
            ],
            [
             0.5555555555555556,
             "#1f9e89"
            ],
            [
             0.6666666666666666,
             "#35b779"
            ],
            [
             0.7777777777777778,
             "#6ece58"
            ],
            [
             0.8888888888888888,
             "#b5de2b"
            ],
            [
             1,
             "#fde725"
            ]
           ],
           "sequentialminus": [
            [
             0,
             "#440154"
            ],
            [
             0.1111111111111111,
             "#482878"
            ],
            [
             0.2222222222222222,
             "#3e4989"
            ],
            [
             0.3333333333333333,
             "#31688e"
            ],
            [
             0.4444444444444444,
             "#26828e"
            ],
            [
             0.5555555555555556,
             "#1f9e89"
            ],
            [
             0.6666666666666666,
             "#35b779"
            ],
            [
             0.7777777777777778,
             "#6ece58"
            ],
            [
             0.8888888888888888,
             "#b5de2b"
            ],
            [
             1,
             "#fde725"
            ]
           ]
          },
          "colorway": [
           "#1F77B4",
           "#FF7F0E",
           "#2CA02C",
           "#D62728",
           "#9467BD",
           "#8C564B",
           "#E377C2",
           "#7F7F7F",
           "#BCBD22",
           "#17BECF"
          ],
          "font": {
           "color": "rgb(36,36,36)"
          },
          "geo": {
           "bgcolor": "white",
           "lakecolor": "white",
           "landcolor": "white",
           "showlakes": true,
           "showland": true,
           "subunitcolor": "white"
          },
          "hoverlabel": {
           "align": "left"
          },
          "hovermode": "closest",
          "mapbox": {
           "style": "light"
          },
          "paper_bgcolor": "white",
          "plot_bgcolor": "white",
          "polar": {
           "angularaxis": {
            "gridcolor": "rgb(232,232,232)",
            "linecolor": "rgb(36,36,36)",
            "showgrid": false,
            "showline": true,
            "ticks": "outside"
           },
           "bgcolor": "white",
           "radialaxis": {
            "gridcolor": "rgb(232,232,232)",
            "linecolor": "rgb(36,36,36)",
            "showgrid": false,
            "showline": true,
            "ticks": "outside"
           }
          },
          "scene": {
           "xaxis": {
            "backgroundcolor": "white",
            "gridcolor": "rgb(232,232,232)",
            "gridwidth": 2,
            "linecolor": "rgb(36,36,36)",
            "showbackground": true,
            "showgrid": false,
            "showline": true,
            "ticks": "outside",
            "zeroline": false,
            "zerolinecolor": "rgb(36,36,36)"
           },
           "yaxis": {
            "backgroundcolor": "white",
            "gridcolor": "rgb(232,232,232)",
            "gridwidth": 2,
            "linecolor": "rgb(36,36,36)",
            "showbackground": true,
            "showgrid": false,
            "showline": true,
            "ticks": "outside",
            "zeroline": false,
            "zerolinecolor": "rgb(36,36,36)"
           },
           "zaxis": {
            "backgroundcolor": "white",
            "gridcolor": "rgb(232,232,232)",
            "gridwidth": 2,
            "linecolor": "rgb(36,36,36)",
            "showbackground": true,
            "showgrid": false,
            "showline": true,
            "ticks": "outside",
            "zeroline": false,
            "zerolinecolor": "rgb(36,36,36)"
           }
          },
          "shapedefaults": {
           "fillcolor": "black",
           "line": {
            "width": 0
           },
           "opacity": 0.3
          },
          "ternary": {
           "aaxis": {
            "gridcolor": "rgb(232,232,232)",
            "linecolor": "rgb(36,36,36)",
            "showgrid": false,
            "showline": true,
            "ticks": "outside"
           },
           "baxis": {
            "gridcolor": "rgb(232,232,232)",
            "linecolor": "rgb(36,36,36)",
            "showgrid": false,
            "showline": true,
            "ticks": "outside"
           },
           "bgcolor": "white",
           "caxis": {
            "gridcolor": "rgb(232,232,232)",
            "linecolor": "rgb(36,36,36)",
            "showgrid": false,
            "showline": true,
            "ticks": "outside"
           }
          },
          "title": {
           "x": 0.05
          },
          "xaxis": {
           "automargin": true,
           "gridcolor": "rgb(232,232,232)",
           "linecolor": "rgb(36,36,36)",
           "showgrid": false,
           "showline": true,
           "ticks": "outside",
           "title": {
            "standoff": 15
           },
           "zeroline": false,
           "zerolinecolor": "rgb(36,36,36)"
          },
          "yaxis": {
           "automargin": true,
           "gridcolor": "rgb(232,232,232)",
           "linecolor": "rgb(36,36,36)",
           "showgrid": false,
           "showline": true,
           "ticks": "outside",
           "title": {
            "standoff": 15
           },
           "zeroline": false,
           "zerolinecolor": "rgb(36,36,36)"
          }
         }
        },
        "title": {
         "text": "Recorded Images per Day"
        },
        "xaxis": {
         "autorange": true,
         "range": [
          "2021-06-19",
          "2022-09-29 22:00"
         ],
         "type": "date"
        },
        "yaxis": {
         "autorange": true,
         "range": [
          -0.8888888888888888,
          16.88888888888889
         ],
         "type": "linear"
        }
       }
      },
      "image/png": "[encoded data removed]",
      "text/html": [
       "<div>                            <div id=\"dfcff230-4892-49eb-ac17-829ce463a9a6\" class=\"plotly-graph-div\" style=\"height:525px; width:100%;\"></div>            <script type=\"text/javascript\">                require([\"plotly\"], function(Plotly) {                    window.PLOTLYENV=window.PLOTLYENV || {};                                    if (document.getElementById(\"dfcff230-4892-49eb-ac17-829ce463a9a6\")) {                    Plotly.newPlot(                        \"dfcff230-4892-49eb-ac17-829ce463a9a6\",                        [{\"line\":{\"color\":\"rgba(166, 206, 227, 1)\",\"shape\":\"hv\"},\"mode\":\"lines\",\"name\":\"Per Day\",\"x\":[\"2021-06-19T22:00:00\",\"2021-06-20T22:00:00\",\"2021-06-21T22:00:00\",\"2021-06-22T22:00:00\",\"2021-06-23T22:00:00\",\"2021-06-24T22:00:00\",\"2021-06-25T22:00:00\",\"2021-06-26T22:00:00\",\"2021-06-27T22:00:00\",\"2021-06-28T22:00:00\",\"2021-06-29T22:00:00\",\"2021-06-30T22:00:00\",\"2021-07-01T22:00:00\",\"2021-07-02T22:00:00\",\"2021-07-03T22:00:00\",\"2021-07-04T22:00:00\",\"2021-07-05T22:00:00\",\"2021-07-06T22:00:00\",\"2021-07-07T22:00:00\",\"2021-07-08T22:00:00\",\"2021-07-09T22:00:00\",\"2021-07-10T22:00:00\",\"2021-07-11T22:00:00\",\"2021-07-12T22:00:00\",\"2021-07-13T22:00:00\",\"2021-07-14T22:00:00\",\"2021-07-15T22:00:00\",\"2021-07-16T22:00:00\",\"2021-07-17T22:00:00\",\"2021-07-18T22:00:00\",\"2021-07-19T22:00:00\",\"2021-07-20T22:00:00\",\"2021-07-21T22:00:00\",\"2021-07-22T22:00:00\",\"2021-07-23T22:00:00\",\"2021-07-24T22:00:00\",\"2021-07-25T22:00:00\",\"2021-07-26T22:00:00\",\"2021-07-27T22:00:00\",\"2021-07-28T22:00:00\",\"2021-07-29T22:00:00\",\"2021-07-30T22:00:00\",\"2021-07-31T22:00:00\",\"2021-08-01T22:00:00\",\"2021-08-02T22:00:00\",\"2021-08-05T22:00:00\",\"2021-08-11T22:00:00\",\"2021-08-12T22:00:00\",\"2021-08-13T22:00:00\",\"2021-08-14T22:00:00\",\"2021-08-15T22:00:00\",\"2021-08-20T22:00:00\",\"2021-08-23T22:00:00\",\"2022-05-11T22:00:00\",\"2022-05-12T22:00:00\",\"2022-05-13T22:00:00\",\"2022-05-14T22:00:00\",\"2022-05-15T22:00:00\",\"2022-05-16T22:00:00\",\"2022-05-17T22:00:00\",\"2022-05-18T22:00:00\",\"2022-05-19T22:00:00\",\"2022-05-20T22:00:00\",\"2022-05-21T22:00:00\",\"2022-05-22T22:00:00\",\"2022-05-23T22:00:00\",\"2022-05-24T22:00:00\",\"2022-05-25T22:00:00\",\"2022-05-26T22:00:00\",\"2022-05-27T22:00:00\",\"2022-05-28T22:00:00\",\"2022-05-29T22:00:00\",\"2022-05-30T22:00:00\",\"2022-05-31T22:00:00\",\"2022-06-01T22:00:00\",\"2022-06-02T22:00:00\",\"2022-06-03T22:00:00\",\"2022-06-04T22:00:00\",\"2022-06-05T22:00:00\",\"2022-06-06T22:00:00\",\"2022-06-07T22:00:00\",\"2022-06-08T22:00:00\",\"2022-06-09T22:00:00\",\"2022-06-10T22:00:00\",\"2022-06-11T22:00:00\",\"2022-06-12T22:00:00\",\"2022-06-13T22:00:00\",\"2022-06-14T22:00:00\",\"2022-06-15T22:00:00\",\"2022-06-16T22:00:00\",\"2022-06-17T22:00:00\",\"2022-06-18T22:00:00\",\"2022-06-19T22:00:00\",\"2022-06-20T22:00:00\",\"2022-06-21T22:00:00\",\"2022-06-22T22:00:00\",\"2022-06-23T22:00:00\",\"2022-06-24T22:00:00\",\"2022-06-25T22:00:00\",\"2022-06-26T22:00:00\",\"2022-06-27T22:00:00\",\"2022-06-28T22:00:00\",\"2022-06-29T22:00:00\",\"2022-06-30T22:00:00\",\"2022-07-01T22:00:00\",\"2022-07-02T22:00:00\",\"2022-07-03T22:00:00\",\"2022-07-04T22:00:00\",\"2022-07-05T22:00:00\",\"2022-07-06T22:00:00\",\"2022-07-07T22:00:00\",\"2022-07-08T22:00:00\",\"2022-07-09T22:00:00\",\"2022-07-10T22:00:00\",\"2022-07-11T22:00:00\",\"2022-07-12T22:00:00\",\"2022-07-13T22:00:00\",\"2022-07-14T22:00:00\",\"2022-07-15T22:00:00\",\"2022-07-16T22:00:00\",\"2022-07-17T22:00:00\",\"2022-07-18T22:00:00\",\"2022-07-19T22:00:00\",\"2022-07-20T22:00:00\",\"2022-07-21T22:00:00\",\"2022-07-22T22:00:00\",\"2022-07-23T22:00:00\",\"2022-07-24T22:00:00\",\"2022-07-25T22:00:00\",\"2022-07-26T22:00:00\",\"2022-07-27T22:00:00\",\"2022-07-28T22:00:00\",\"2022-07-29T22:00:00\",\"2022-07-30T22:00:00\",\"2022-07-31T22:00:00\",\"2022-08-01T22:00:00\",\"2022-08-02T22:00:00\",\"2022-08-03T22:00:00\",\"2022-08-04T22:00:00\",\"2022-08-05T22:00:00\",\"2022-08-06T22:00:00\",\"2022-08-07T22:00:00\",\"2022-08-08T22:00:00\",\"2022-08-09T22:00:00\",\"2022-08-10T22:00:00\",\"2022-08-11T22:00:00\",\"2022-08-12T22:00:00\",\"2022-08-13T22:00:00\",\"2022-08-14T22:00:00\",\"2022-08-15T22:00:00\",\"2022-08-16T22:00:00\",\"2022-08-17T22:00:00\",\"2022-08-18T22:00:00\",\"2022-08-19T22:00:00\",\"2022-08-20T22:00:00\",\"2022-08-21T22:00:00\",\"2022-08-22T22:00:00\",\"2022-08-23T22:00:00\",\"2022-08-24T22:00:00\",\"2022-08-25T22:00:00\",\"2022-08-26T22:00:00\",\"2022-08-27T22:00:00\",\"2022-08-28T22:00:00\",\"2022-08-29T22:00:00\",\"2022-08-30T22:00:00\",\"2022-08-31T22:00:00\",\"2022-09-01T22:00:00\",\"2022-09-02T22:00:00\",\"2022-09-03T22:00:00\",\"2022-09-04T22:00:00\",\"2022-09-05T22:00:00\",\"2022-09-06T22:00:00\",\"2022-09-07T22:00:00\",\"2022-09-08T22:00:00\",\"2022-09-09T22:00:00\",\"2022-09-10T22:00:00\",\"2022-09-11T22:00:00\",\"2022-09-12T22:00:00\",\"2022-09-13T22:00:00\",\"2022-09-14T22:00:00\",\"2022-09-15T22:00:00\",\"2022-09-16T22:00:00\",\"2022-09-17T22:00:00\",\"2022-09-18T22:00:00\",\"2022-09-19T22:00:00\",\"2022-09-20T22:00:00\",\"2022-09-21T22:00:00\",\"2022-09-22T22:00:00\",\"2022-09-23T22:00:00\",\"2022-09-24T22:00:00\",\"2022-09-25T22:00:00\",\"2022-09-26T22:00:00\",\"2022-09-27T22:00:00\",\"2022-09-28T22:00:00\",\"2022-09-29T22:00:00\"],\"y\":[1,8,6,5,5,9,6,7,3,4,3,4,6,7,4,4,4,3,3,4,5,5,4,2,3,2,3,3,2,3,6,7,10,9,9,5,6,5,6,7,5,2,1,1,1,1,3,2,2,2,2,1,1,4,4,4,4,4,4,4,4,8,8,8,8,8,12,12,12,12,12,12,12,12,12,15,15,11,11,15,16,15,15,11,11,11,15,15,15,15,15,11,11,11,11,11,11,11,11,11,11,15,15,15,15,15,11,11,7,7,7,7,7,7,7,7,7,7,3,7,7,7,7,6,6,6,7,14,14,14,14,14,14,14,14,14,14,14,10,14,14,14,14,9,10,14,14,14,14,14,14,10,14,14,14,14,13,14,15,15,15,15,8,8,8,7,7,8,7,7,7,7,7,7,7,7,7,7,7,7,7,7,7,6,3,3,3,2,3,3,3,3,3,3,1],\"type\":\"scatter\"},{\"line\":{\"color\":\"rgba(31, 120, 180, 1)\"},\"mode\":\"lines\",\"name\":\"SMA 10 Days\",\"x\":[\"2021-06-19T00:00:00\",\"2021-06-29T00:00:00\",\"2021-07-09T00:00:00\",\"2021-07-19T00:00:00\",\"2021-07-29T00:00:00\",\"2021-08-08T00:00:00\",\"2021-08-18T00:00:00\",\"2021-08-28T00:00:00\",\"2021-09-07T00:00:00\",\"2021-09-17T00:00:00\",\"2021-09-27T00:00:00\",\"2021-10-07T00:00:00\",\"2021-10-17T00:00:00\",\"2021-10-27T00:00:00\",\"2021-11-06T00:00:00\",\"2021-11-16T00:00:00\",\"2021-11-26T00:00:00\",\"2021-12-06T00:00:00\",\"2021-12-16T00:00:00\",\"2021-12-26T00:00:00\",\"2022-01-05T00:00:00\",\"2022-01-15T00:00:00\",\"2022-01-25T00:00:00\",\"2022-02-04T00:00:00\",\"2022-02-14T00:00:00\",\"2022-02-24T00:00:00\",\"2022-03-06T00:00:00\",\"2022-03-16T00:00:00\",\"2022-03-26T00:00:00\",\"2022-04-05T00:00:00\",\"2022-04-15T00:00:00\",\"2022-04-25T00:00:00\",\"2022-05-05T00:00:00\",\"2022-05-15T00:00:00\",\"2022-05-25T00:00:00\",\"2022-06-04T00:00:00\",\"2022-06-14T00:00:00\",\"2022-06-24T00:00:00\",\"2022-07-04T00:00:00\",\"2022-07-14T00:00:00\",\"2022-07-24T00:00:00\",\"2022-08-03T00:00:00\",\"2022-08-13T00:00:00\",\"2022-08-23T00:00:00\",\"2022-09-02T00:00:00\",\"2022-09-12T00:00:00\",\"2022-09-22T00:00:00\"],\"y\":[5.4,4.2,3.2,7.0,1.8333333333333333,2.2,1.0,0.0,0.0,0.0,0.0,0.0,0.0,0.0,0.0,0.0,0.0,0.0,0.0,0.0,0.0,0.0,0.0,0.0,0.0,0.0,0.0,0.0,0.0,0.0,0.0,0.0,4.0,6.8,12.6,13.1,12.6,13.0,7.4,6.3,14.0,12.7,13.5,11.2,7.1,5.7,2.625],\"type\":\"scatter\"},{\"line\":{\"color\":\"rgba(178, 223, 138, 1)\"},\"mode\":\"lines\",\"name\":\"SMA 30 Days\",\"x\":[\"2021-06-19T00:00:00\",\"2021-07-19T00:00:00\",\"2021-08-18T00:00:00\",\"2021-09-17T00:00:00\",\"2021-10-17T00:00:00\",\"2021-11-16T00:00:00\",\"2021-12-16T00:00:00\",\"2022-01-15T00:00:00\",\"2022-02-14T00:00:00\",\"2022-03-16T00:00:00\",\"2022-04-15T00:00:00\",\"2022-05-15T00:00:00\",\"2022-06-14T00:00:00\",\"2022-07-14T00:00:00\",\"2022-08-13T00:00:00\",\"2022-09-12T00:00:00\"],\"y\":[4.266666666666667,4.380952380952381,1.0,0.0,0.0,0.0,0.0,0.0,0.0,0.0,4.0,10.833333333333334,11.0,11.0,10.6,4.333333333333333],\"type\":\"scatter\"}],                        {\"template\":{\"data\":{\"barpolar\":[{\"marker\":{\"line\":{\"color\":\"white\",\"width\":0.5},\"pattern\":{\"fillmode\":\"overlay\",\"size\":10,\"solidity\":0.2}},\"type\":\"barpolar\"}],\"bar\":[{\"error_x\":{\"color\":\"rgb(36,36,36)\"},\"error_y\":{\"color\":\"rgb(36,36,36)\"},\"marker\":{\"line\":{\"color\":\"white\",\"width\":0.5},\"pattern\":{\"fillmode\":\"overlay\",\"size\":10,\"solidity\":0.2}},\"type\":\"bar\"}],\"carpet\":[{\"aaxis\":{\"endlinecolor\":\"rgb(36,36,36)\",\"gridcolor\":\"white\",\"linecolor\":\"white\",\"minorgridcolor\":\"white\",\"startlinecolor\":\"rgb(36,36,36)\"},\"baxis\":{\"endlinecolor\":\"rgb(36,36,36)\",\"gridcolor\":\"white\",\"linecolor\":\"white\",\"minorgridcolor\":\"white\",\"startlinecolor\":\"rgb(36,36,36)\"},\"type\":\"carpet\"}],\"choropleth\":[{\"colorbar\":{\"outlinewidth\":1,\"tickcolor\":\"rgb(36,36,36)\",\"ticks\":\"outside\"},\"type\":\"choropleth\"}],\"contourcarpet\":[{\"colorbar\":{\"outlinewidth\":1,\"tickcolor\":\"rgb(36,36,36)\",\"ticks\":\"outside\"},\"type\":\"contourcarpet\"}],\"contour\":[{\"colorbar\":{\"outlinewidth\":1,\"tickcolor\":\"rgb(36,36,36)\",\"ticks\":\"outside\"},\"colorscale\":[[0.0,\"#440154\"],[0.1111111111111111,\"#482878\"],[0.2222222222222222,\"#3e4989\"],[0.3333333333333333,\"#31688e\"],[0.4444444444444444,\"#26828e\"],[0.5555555555555556,\"#1f9e89\"],[0.6666666666666666,\"#35b779\"],[0.7777777777777778,\"#6ece58\"],[0.8888888888888888,\"#b5de2b\"],[1.0,\"#fde725\"]],\"type\":\"contour\"}],\"heatmapgl\":[{\"colorbar\":{\"outlinewidth\":1,\"tickcolor\":\"rgb(36,36,36)\",\"ticks\":\"outside\"},\"colorscale\":[[0.0,\"#440154\"],[0.1111111111111111,\"#482878\"],[0.2222222222222222,\"#3e4989\"],[0.3333333333333333,\"#31688e\"],[0.4444444444444444,\"#26828e\"],[0.5555555555555556,\"#1f9e89\"],[0.6666666666666666,\"#35b779\"],[0.7777777777777778,\"#6ece58\"],[0.8888888888888888,\"#b5de2b\"],[1.0,\"#fde725\"]],\"type\":\"heatmapgl\"}],\"heatmap\":[{\"colorbar\":{\"outlinewidth\":1,\"tickcolor\":\"rgb(36,36,36)\",\"ticks\":\"outside\"},\"colorscale\":[[0.0,\"#440154\"],[0.1111111111111111,\"#482878\"],[0.2222222222222222,\"#3e4989\"],[0.3333333333333333,\"#31688e\"],[0.4444444444444444,\"#26828e\"],[0.5555555555555556,\"#1f9e89\"],[0.6666666666666666,\"#35b779\"],[0.7777777777777778,\"#6ece58\"],[0.8888888888888888,\"#b5de2b\"],[1.0,\"#fde725\"]],\"type\":\"heatmap\"}],\"histogram2dcontour\":[{\"colorbar\":{\"outlinewidth\":1,\"tickcolor\":\"rgb(36,36,36)\",\"ticks\":\"outside\"},\"colorscale\":[[0.0,\"#440154\"],[0.1111111111111111,\"#482878\"],[0.2222222222222222,\"#3e4989\"],[0.3333333333333333,\"#31688e\"],[0.4444444444444444,\"#26828e\"],[0.5555555555555556,\"#1f9e89\"],[0.6666666666666666,\"#35b779\"],[0.7777777777777778,\"#6ece58\"],[0.8888888888888888,\"#b5de2b\"],[1.0,\"#fde725\"]],\"type\":\"histogram2dcontour\"}],\"histogram2d\":[{\"colorbar\":{\"outlinewidth\":1,\"tickcolor\":\"rgb(36,36,36)\",\"ticks\":\"outside\"},\"colorscale\":[[0.0,\"#440154\"],[0.1111111111111111,\"#482878\"],[0.2222222222222222,\"#3e4989\"],[0.3333333333333333,\"#31688e\"],[0.4444444444444444,\"#26828e\"],[0.5555555555555556,\"#1f9e89\"],[0.6666666666666666,\"#35b779\"],[0.7777777777777778,\"#6ece58\"],[0.8888888888888888,\"#b5de2b\"],[1.0,\"#fde725\"]],\"type\":\"histogram2d\"}],\"histogram\":[{\"marker\":{\"line\":{\"color\":\"white\",\"width\":0.6}},\"type\":\"histogram\"}],\"mesh3d\":[{\"colorbar\":{\"outlinewidth\":1,\"tickcolor\":\"rgb(36,36,36)\",\"ticks\":\"outside\"},\"type\":\"mesh3d\"}],\"parcoords\":[{\"line\":{\"colorbar\":{\"outlinewidth\":1,\"tickcolor\":\"rgb(36,36,36)\",\"ticks\":\"outside\"}},\"type\":\"parcoords\"}],\"pie\":[{\"automargin\":true,\"type\":\"pie\"}],\"scatter3d\":[{\"line\":{\"colorbar\":{\"outlinewidth\":1,\"tickcolor\":\"rgb(36,36,36)\",\"ticks\":\"outside\"}},\"marker\":{\"colorbar\":{\"outlinewidth\":1,\"tickcolor\":\"rgb(36,36,36)\",\"ticks\":\"outside\"}},\"type\":\"scatter3d\"}],\"scattercarpet\":[{\"marker\":{\"colorbar\":{\"outlinewidth\":1,\"tickcolor\":\"rgb(36,36,36)\",\"ticks\":\"outside\"}},\"type\":\"scattercarpet\"}],\"scattergeo\":[{\"marker\":{\"colorbar\":{\"outlinewidth\":1,\"tickcolor\":\"rgb(36,36,36)\",\"ticks\":\"outside\"}},\"type\":\"scattergeo\"}],\"scattergl\":[{\"marker\":{\"colorbar\":{\"outlinewidth\":1,\"tickcolor\":\"rgb(36,36,36)\",\"ticks\":\"outside\"}},\"type\":\"scattergl\"}],\"scattermapbox\":[{\"marker\":{\"colorbar\":{\"outlinewidth\":1,\"tickcolor\":\"rgb(36,36,36)\",\"ticks\":\"outside\"}},\"type\":\"scattermapbox\"}],\"scatterpolargl\":[{\"marker\":{\"colorbar\":{\"outlinewidth\":1,\"tickcolor\":\"rgb(36,36,36)\",\"ticks\":\"outside\"}},\"type\":\"scatterpolargl\"}],\"scatterpolar\":[{\"marker\":{\"colorbar\":{\"outlinewidth\":1,\"tickcolor\":\"rgb(36,36,36)\",\"ticks\":\"outside\"}},\"type\":\"scatterpolar\"}],\"scatter\":[{\"fillpattern\":{\"fillmode\":\"overlay\",\"size\":10,\"solidity\":0.2},\"type\":\"scatter\"}],\"scatterternary\":[{\"marker\":{\"colorbar\":{\"outlinewidth\":1,\"tickcolor\":\"rgb(36,36,36)\",\"ticks\":\"outside\"}},\"type\":\"scatterternary\"}],\"surface\":[{\"colorbar\":{\"outlinewidth\":1,\"tickcolor\":\"rgb(36,36,36)\",\"ticks\":\"outside\"},\"colorscale\":[[0.0,\"#440154\"],[0.1111111111111111,\"#482878\"],[0.2222222222222222,\"#3e4989\"],[0.3333333333333333,\"#31688e\"],[0.4444444444444444,\"#26828e\"],[0.5555555555555556,\"#1f9e89\"],[0.6666666666666666,\"#35b779\"],[0.7777777777777778,\"#6ece58\"],[0.8888888888888888,\"#b5de2b\"],[1.0,\"#fde725\"]],\"type\":\"surface\"}],\"table\":[{\"cells\":{\"fill\":{\"color\":\"rgb(237,237,237)\"},\"line\":{\"color\":\"white\"}},\"header\":{\"fill\":{\"color\":\"rgb(217,217,217)\"},\"line\":{\"color\":\"white\"}},\"type\":\"table\"}]},\"layout\":{\"annotationdefaults\":{\"arrowhead\":0,\"arrowwidth\":1},\"autotypenumbers\":\"strict\",\"coloraxis\":{\"colorbar\":{\"outlinewidth\":1,\"tickcolor\":\"rgb(36,36,36)\",\"ticks\":\"outside\"}},\"colorscale\":{\"diverging\":[[0.0,\"rgb(103,0,31)\"],[0.1,\"rgb(178,24,43)\"],[0.2,\"rgb(214,96,77)\"],[0.3,\"rgb(244,165,130)\"],[0.4,\"rgb(253,219,199)\"],[0.5,\"rgb(247,247,247)\"],[0.6,\"rgb(209,229,240)\"],[0.7,\"rgb(146,197,222)\"],[0.8,\"rgb(67,147,195)\"],[0.9,\"rgb(33,102,172)\"],[1.0,\"rgb(5,48,97)\"]],\"sequential\":[[0.0,\"#440154\"],[0.1111111111111111,\"#482878\"],[0.2222222222222222,\"#3e4989\"],[0.3333333333333333,\"#31688e\"],[0.4444444444444444,\"#26828e\"],[0.5555555555555556,\"#1f9e89\"],[0.6666666666666666,\"#35b779\"],[0.7777777777777778,\"#6ece58\"],[0.8888888888888888,\"#b5de2b\"],[1.0,\"#fde725\"]],\"sequentialminus\":[[0.0,\"#440154\"],[0.1111111111111111,\"#482878\"],[0.2222222222222222,\"#3e4989\"],[0.3333333333333333,\"#31688e\"],[0.4444444444444444,\"#26828e\"],[0.5555555555555556,\"#1f9e89\"],[0.6666666666666666,\"#35b779\"],[0.7777777777777778,\"#6ece58\"],[0.8888888888888888,\"#b5de2b\"],[1.0,\"#fde725\"]]},\"colorway\":[\"#1F77B4\",\"#FF7F0E\",\"#2CA02C\",\"#D62728\",\"#9467BD\",\"#8C564B\",\"#E377C2\",\"#7F7F7F\",\"#BCBD22\",\"#17BECF\"],\"font\":{\"color\":\"rgb(36,36,36)\"},\"geo\":{\"bgcolor\":\"white\",\"lakecolor\":\"white\",\"landcolor\":\"white\",\"showlakes\":true,\"showland\":true,\"subunitcolor\":\"white\"},\"hoverlabel\":{\"align\":\"left\"},\"hovermode\":\"closest\",\"mapbox\":{\"style\":\"light\"},\"paper_bgcolor\":\"white\",\"plot_bgcolor\":\"white\",\"polar\":{\"angularaxis\":{\"gridcolor\":\"rgb(232,232,232)\",\"linecolor\":\"rgb(36,36,36)\",\"showgrid\":false,\"showline\":true,\"ticks\":\"outside\"},\"bgcolor\":\"white\",\"radialaxis\":{\"gridcolor\":\"rgb(232,232,232)\",\"linecolor\":\"rgb(36,36,36)\",\"showgrid\":false,\"showline\":true,\"ticks\":\"outside\"}},\"scene\":{\"xaxis\":{\"backgroundcolor\":\"white\",\"gridcolor\":\"rgb(232,232,232)\",\"gridwidth\":2,\"linecolor\":\"rgb(36,36,36)\",\"showbackground\":true,\"showgrid\":false,\"showline\":true,\"ticks\":\"outside\",\"zeroline\":false,\"zerolinecolor\":\"rgb(36,36,36)\"},\"yaxis\":{\"backgroundcolor\":\"white\",\"gridcolor\":\"rgb(232,232,232)\",\"gridwidth\":2,\"linecolor\":\"rgb(36,36,36)\",\"showbackground\":true,\"showgrid\":false,\"showline\":true,\"ticks\":\"outside\",\"zeroline\":false,\"zerolinecolor\":\"rgb(36,36,36)\"},\"zaxis\":{\"backgroundcolor\":\"white\",\"gridcolor\":\"rgb(232,232,232)\",\"gridwidth\":2,\"linecolor\":\"rgb(36,36,36)\",\"showbackground\":true,\"showgrid\":false,\"showline\":true,\"ticks\":\"outside\",\"zeroline\":false,\"zerolinecolor\":\"rgb(36,36,36)\"}},\"shapedefaults\":{\"fillcolor\":\"black\",\"line\":{\"width\":0},\"opacity\":0.3},\"ternary\":{\"aaxis\":{\"gridcolor\":\"rgb(232,232,232)\",\"linecolor\":\"rgb(36,36,36)\",\"showgrid\":false,\"showline\":true,\"ticks\":\"outside\"},\"baxis\":{\"gridcolor\":\"rgb(232,232,232)\",\"linecolor\":\"rgb(36,36,36)\",\"showgrid\":false,\"showline\":true,\"ticks\":\"outside\"},\"bgcolor\":\"white\",\"caxis\":{\"gridcolor\":\"rgb(232,232,232)\",\"linecolor\":\"rgb(36,36,36)\",\"showgrid\":false,\"showline\":true,\"ticks\":\"outside\"}},\"title\":{\"x\":0.05},\"xaxis\":{\"automargin\":true,\"gridcolor\":\"rgb(232,232,232)\",\"linecolor\":\"rgb(36,36,36)\",\"showgrid\":false,\"showline\":true,\"ticks\":\"outside\",\"title\":{\"standoff\":15},\"zeroline\":false,\"zerolinecolor\":\"rgb(36,36,36)\"},\"yaxis\":{\"automargin\":true,\"gridcolor\":\"rgb(232,232,232)\",\"linecolor\":\"rgb(36,36,36)\",\"showgrid\":false,\"showline\":true,\"ticks\":\"outside\",\"title\":{\"standoff\":15},\"zeroline\":false,\"zerolinecolor\":\"rgb(36,36,36)\"}}},\"title\":{\"text\":\"Recorded Images per Day\"}},                        {\"responsive\": true}                    ).then(function(){\n",
       "                            \n",
       "var gd = document.getElementById('dfcff230-4892-49eb-ac17-829ce463a9a6');\n",
       "var x = new MutationObserver(function (mutations, observer) {{\n",
       "        var display = window.getComputedStyle(gd).display;\n",
       "        if (!display || display === 'none') {{\n",
       "            console.log([gd, 'removed!']);\n",
       "            Plotly.purge(gd);\n",
       "            observer.disconnect();\n",
       "        }}\n",
       "}});\n",
       "\n",
       "// Listen for the removal of the full notebook cells\n",
       "var notebookContainer = gd.closest('#notebook-container');\n",
       "if (notebookContainer) {{\n",
       "    x.observe(notebookContainer, {childList: true});\n",
       "}}\n",
       "\n",
       "// Listen for the clearing of the current output cell\n",
       "var outputEl = gd.closest('.output');\n",
       "if (outputEl) {{\n",
       "    x.observe(outputEl, {childList: true});\n",
       "}}\n",
       "\n",
       "                        })                };                });            </script>        </div>"
      ]
     },
     "metadata": {},
     "output_type": "display_data"
    }
   ],
   "source": [
    "palette = iter(paired_palette)\n",
    "SMA = 10\n",
    "SMA2 = 30\n",
    "\n",
    "fig = go.Figure()\n",
    "\n",
    "fig.add_trace(go.Scatter(\n",
    "    x=data.index,\n",
    "    y=data['count'],\n",
    "    name='Per Day',\n",
    "    line_shape='hv',\n",
    "    mode='lines',\n",
    "    line_color=next(palette)\n",
    "))\n",
    "\n",
    "tmp = data.resample(f'{SMA}D').mean().fillna(0)\n",
    "fig.add_trace(go.Scatter(\n",
    "    x=tmp.index, \n",
    "    y=tmp['count'],\n",
    "    name=f'SMA {SMA} Days',\n",
    "    mode='lines',\n",
    "    line_color=next(palette)\n",
    "))\n",
    "\n",
    "tmp = data.resample(f'{SMA2}D').mean().fillna(0)\n",
    "fig.add_trace(go.Scatter(\n",
    "    x=tmp.index, \n",
    "    y=tmp['count'],\n",
    "    name=f'SMA {SMA2} Days',\n",
    "    mode='lines',\n",
    "    line_color=next(palette)\n",
    "))\n",
    "\n",
    "\n",
    "fig.update_layout(\n",
    "    title='Recorded Images per Day', \n",
    "    template='simple_white'\n",
    ")"
   ]
  },
  {
   "cell_type": "markdown",
   "id": "65769b65-5be6-4ff1-ac48-c1a0cc66f710",
   "metadata": {
    "tags": []
   },
   "source": [
    "### Pollinators measured per Day?"
   ]
  },
  {
   "cell_type": "code",
   "execution_count": 87,
   "id": "144e05ea-fd0a-48ea-aba0-ebbcf9f5a1ca",
   "metadata": {},
   "outputs": [
    {
     "name": "stdout",
     "output_type": "stream",
     "text": [
      "Retrieved 195 datapoints in 4.272 seconds\n"
     ]
    }
   ],
   "source": [
    "query = \"\"\"\n",
    "SELECT \n",
    "    date_trunc('day', prod.files_image.time) as day_time,\n",
    "    COUNT(prod.pollinators.pollinator_id)\n",
    "FROM prod.files_image\n",
    "LEFT JOIN prod.image_results ON prod.files_image.file_id = prod.image_results.file_id\n",
    "LEFT JOIN prod.pollinators ON prod.image_results.result_id = prod.pollinators.result_id\n",
    "GROUP BY day_time\n",
    "ORDER BY day_time\n",
    "\"\"\"\n",
    "measured_pollinators = sql(query)"
   ]
  },
  {
   "cell_type": "code",
   "execution_count": 90,
   "id": "adf60115-1da4-48ea-a425-ce50daa231c9",
   "metadata": {},
   "outputs": [
    {
     "data": {
      "text/html": [
       "<div>\n",
       "<style scoped>\n",
       "    .dataframe tbody tr th:only-of-type {\n",
       "        vertical-align: middle;\n",
       "    }\n",
       "\n",
       "    .dataframe tbody tr th {\n",
       "        vertical-align: top;\n",
       "    }\n",
       "\n",
       "    .dataframe thead th {\n",
       "        text-align: right;\n",
       "    }\n",
       "</style>\n",
       "<table border=\"1\" class=\"dataframe\">\n",
       "  <thead>\n",
       "    <tr style=\"text-align: right;\">\n",
       "      <th></th>\n",
       "      <th>day_time</th>\n",
       "      <th>count</th>\n",
       "    </tr>\n",
       "  </thead>\n",
       "  <tbody>\n",
       "    <tr>\n",
       "      <th>0</th>\n",
       "      <td>2021-06-19 22:00:00</td>\n",
       "      <td>0</td>\n",
       "    </tr>\n",
       "    <tr>\n",
       "      <th>1</th>\n",
       "      <td>2021-06-20 22:00:00</td>\n",
       "      <td>1491</td>\n",
       "    </tr>\n",
       "  </tbody>\n",
       "</table>\n",
       "</div>"
      ],
      "text/plain": [
       "             day_time  count\n",
       "0 2021-06-19 22:00:00      0\n",
       "1 2021-06-20 22:00:00   1491"
      ]
     },
     "execution_count": 90,
     "metadata": {},
     "output_type": "execute_result"
    }
   ],
   "source": [
    "measured_pollinators.head(2)"
   ]
  },
  {
   "cell_type": "code",
   "execution_count": 91,
   "id": "f6844b17-3090-4246-9783-2800d1a183ac",
   "metadata": {},
   "outputs": [
    {
     "name": "stdout",
     "output_type": "stream",
     "text": [
      "Retrieved 195 datapoints in 2.485 seconds\n"
     ]
    }
   ],
   "source": [
    "query = \"\"\"\n",
    "    SELECT day_time, count(day_time)\n",
    "    FROM (\n",
    "        SELECT\n",
    "            date_trunc('day', prod.files_image.time) as day_time,\n",
    "            prod.deployments.node_id\n",
    "        FROM prod.files_image\n",
    "        LEFT JOIN prod.deployments\n",
    "        ON prod.files_image.deployment_id = prod.deployments.deployment_id\n",
    "        GROUP BY day_time, node_id\n",
    "    ) AS tmp\n",
    "    GROUP BY day_time\n",
    "    ORDER BY day_time\n",
    "\"\"\"\n",
    "active_nodes = sql(query)"
   ]
  },
  {
   "cell_type": "code",
   "execution_count": 92,
   "id": "4bed7e00-0e4f-4fa4-bfe1-a14eaad45675",
   "metadata": {},
   "outputs": [
    {
     "data": {
      "text/html": [
       "<div>\n",
       "<style scoped>\n",
       "    .dataframe tbody tr th:only-of-type {\n",
       "        vertical-align: middle;\n",
       "    }\n",
       "\n",
       "    .dataframe tbody tr th {\n",
       "        vertical-align: top;\n",
       "    }\n",
       "\n",
       "    .dataframe thead th {\n",
       "        text-align: right;\n",
       "    }\n",
       "</style>\n",
       "<table border=\"1\" class=\"dataframe\">\n",
       "  <thead>\n",
       "    <tr style=\"text-align: right;\">\n",
       "      <th></th>\n",
       "      <th>day_time</th>\n",
       "      <th>count</th>\n",
       "    </tr>\n",
       "  </thead>\n",
       "  <tbody>\n",
       "    <tr>\n",
       "      <th>0</th>\n",
       "      <td>2021-06-19 22:00:00</td>\n",
       "      <td>1</td>\n",
       "    </tr>\n",
       "    <tr>\n",
       "      <th>1</th>\n",
       "      <td>2021-06-20 22:00:00</td>\n",
       "      <td>8</td>\n",
       "    </tr>\n",
       "  </tbody>\n",
       "</table>\n",
       "</div>"
      ],
      "text/plain": [
       "             day_time  count\n",
       "0 2021-06-19 22:00:00      1\n",
       "1 2021-06-20 22:00:00      8"
      ]
     },
     "execution_count": 92,
     "metadata": {},
     "output_type": "execute_result"
    }
   ],
   "source": [
    "active_nodes.head(2)"
   ]
  },
  {
   "cell_type": "code",
   "execution_count": 83,
   "id": "66f95616-ca46-4a50-9f5c-d253a045a95e",
   "metadata": {},
   "outputs": [
    {
     "name": "stdout",
     "output_type": "stream",
     "text": [
      "Retrieved 742 datapoints in 0.975 seconds\n"
     ]
    }
   ],
   "source": [
    "data = sql(\"\"\"\n",
    "    SELECT * \n",
    "    FROM (\n",
    "    SELECT \n",
    "        date_trunc('day', files_image.time) as day,\n",
    "        pollinators.class, count(pollinators.class)\n",
    "        from prod.files_image\n",
    "        LEFT JOIN prod.image_results\n",
    "        ON files_image.file_id = image_results.file_id\n",
    "        LEFT JOIN prod.pollinators\n",
    "        ON image_results.result_id = pollinators.result_id\n",
    "        GROUP BY day, pollinators.class\n",
    "        ORDER BY day\n",
    "    ) AS tmp\n",
    "    WHERE tmp.class IS NOT NULL\n",
    "\"\"\")"
   ]
  },
  {
   "cell_type": "code",
   "execution_count": null,
   "id": "b813d95c-c4c6-408c-81cd-594f84ed414d",
   "metadata": {},
   "outputs": [],
   "source": []
  },
  {
   "cell_type": "code",
   "execution_count": 84,
   "id": "4b408ad9-18cb-4b51-a7f8-ebf851dd4b6c",
   "metadata": {},
   "outputs": [
    {
     "data": {
      "text/html": [
       "<div>\n",
       "<style scoped>\n",
       "    .dataframe tbody tr th:only-of-type {\n",
       "        vertical-align: middle;\n",
       "    }\n",
       "\n",
       "    .dataframe tbody tr th {\n",
       "        vertical-align: top;\n",
       "    }\n",
       "\n",
       "    .dataframe thead th {\n",
       "        text-align: right;\n",
       "    }\n",
       "</style>\n",
       "<table border=\"1\" class=\"dataframe\">\n",
       "  <thead>\n",
       "    <tr style=\"text-align: right;\">\n",
       "      <th></th>\n",
       "      <th>day</th>\n",
       "      <th>class</th>\n",
       "      <th>count</th>\n",
       "    </tr>\n",
       "  </thead>\n",
       "  <tbody>\n",
       "    <tr>\n",
       "      <th>0</th>\n",
       "      <td>2021-06-20 22:00:00</td>\n",
       "      <td>fliege</td>\n",
       "      <td>824</td>\n",
       "    </tr>\n",
       "    <tr>\n",
       "      <th>1</th>\n",
       "      <td>2021-06-20 22:00:00</td>\n",
       "      <td>honigbiene</td>\n",
       "      <td>6</td>\n",
       "    </tr>\n",
       "    <tr>\n",
       "      <th>2</th>\n",
       "      <td>2021-06-20 22:00:00</td>\n",
       "      <td>schwebfliege</td>\n",
       "      <td>29</td>\n",
       "    </tr>\n",
       "    <tr>\n",
       "      <th>3</th>\n",
       "      <td>2021-06-20 22:00:00</td>\n",
       "      <td>wildbiene</td>\n",
       "      <td>632</td>\n",
       "    </tr>\n",
       "    <tr>\n",
       "      <th>4</th>\n",
       "      <td>2021-06-21 22:00:00</td>\n",
       "      <td>fliege</td>\n",
       "      <td>240</td>\n",
       "    </tr>\n",
       "    <tr>\n",
       "      <th>5</th>\n",
       "      <td>2021-06-21 22:00:00</td>\n",
       "      <td>honigbiene</td>\n",
       "      <td>7</td>\n",
       "    </tr>\n",
       "    <tr>\n",
       "      <th>6</th>\n",
       "      <td>2021-06-21 22:00:00</td>\n",
       "      <td>schwebfliege</td>\n",
       "      <td>12</td>\n",
       "    </tr>\n",
       "    <tr>\n",
       "      <th>7</th>\n",
       "      <td>2021-06-21 22:00:00</td>\n",
       "      <td>wildbiene</td>\n",
       "      <td>364</td>\n",
       "    </tr>\n",
       "    <tr>\n",
       "      <th>8</th>\n",
       "      <td>2021-06-22 22:00:00</td>\n",
       "      <td>fliege</td>\n",
       "      <td>1039</td>\n",
       "    </tr>\n",
       "    <tr>\n",
       "      <th>9</th>\n",
       "      <td>2021-06-22 22:00:00</td>\n",
       "      <td>honigbiene</td>\n",
       "      <td>177</td>\n",
       "    </tr>\n",
       "  </tbody>\n",
       "</table>\n",
       "</div>"
      ],
      "text/plain": [
       "                  day         class  count\n",
       "0 2021-06-20 22:00:00        fliege    824\n",
       "1 2021-06-20 22:00:00    honigbiene      6\n",
       "2 2021-06-20 22:00:00  schwebfliege     29\n",
       "3 2021-06-20 22:00:00     wildbiene    632\n",
       "4 2021-06-21 22:00:00        fliege    240\n",
       "5 2021-06-21 22:00:00    honigbiene      7\n",
       "6 2021-06-21 22:00:00  schwebfliege     12\n",
       "7 2021-06-21 22:00:00     wildbiene    364\n",
       "8 2021-06-22 22:00:00        fliege   1039\n",
       "9 2021-06-22 22:00:00    honigbiene    177"
      ]
     },
     "execution_count": 84,
     "metadata": {},
     "output_type": "execute_result"
    }
   ],
   "source": [
    "data.head(10)"
   ]
  },
  {
   "cell_type": "code",
   "execution_count": 86,
   "id": "353793d5-a896-4c61-9194-ed9207fcfe5d",
   "metadata": {},
   "outputs": [
    {
     "data": {
      "application/vnd.plotly.v1+json": {
       "config": {
        "plotlyServerURL": "https://plot.ly"
       },
       "data": [
        {
         "hovertemplate": "class=fliege<br>day=%{x}<br>count=%{y}<extra></extra>",
         "legendgroup": "fliege",
         "line": {
          "color": "#1F77B4",
          "dash": "solid",
          "shape": "hv"
         },
         "marker": {
          "symbol": "circle"
         },
         "mode": "lines",
         "name": "fliege",
         "orientation": "v",
         "showlegend": true,
         "type": "scatter",
         "x": [
          "2021-06-20T22:00:00",
          "2021-06-21T22:00:00",
          "2021-06-22T22:00:00",
          "2021-06-23T22:00:00",
          "2021-06-24T22:00:00",
          "2021-06-25T22:00:00",
          "2021-06-26T22:00:00",
          "2021-06-27T22:00:00",
          "2021-06-28T22:00:00",
          "2021-06-29T22:00:00",
          "2021-06-30T22:00:00",
          "2021-07-01T22:00:00",
          "2021-07-02T22:00:00",
          "2021-07-03T22:00:00",
          "2021-07-04T22:00:00",
          "2021-07-05T22:00:00",
          "2021-07-06T22:00:00",
          "2021-07-07T22:00:00",
          "2021-07-08T22:00:00",
          "2021-07-09T22:00:00",
          "2021-07-10T22:00:00",
          "2021-07-11T22:00:00",
          "2021-07-13T22:00:00",
          "2021-07-14T22:00:00",
          "2021-07-15T22:00:00",
          "2021-07-16T22:00:00",
          "2021-07-17T22:00:00",
          "2021-07-18T22:00:00",
          "2021-07-19T22:00:00",
          "2021-07-20T22:00:00",
          "2021-07-21T22:00:00",
          "2021-07-22T22:00:00",
          "2021-07-23T22:00:00",
          "2021-07-24T22:00:00",
          "2021-07-25T22:00:00",
          "2021-07-26T22:00:00",
          "2021-07-27T22:00:00",
          "2021-07-28T22:00:00",
          "2021-07-29T22:00:00",
          "2021-07-30T22:00:00",
          "2021-08-11T22:00:00",
          "2021-08-12T22:00:00",
          "2021-08-13T22:00:00",
          "2021-08-14T22:00:00",
          "2021-08-15T22:00:00",
          "2022-05-11T22:00:00",
          "2022-05-12T22:00:00",
          "2022-05-13T22:00:00",
          "2022-05-14T22:00:00",
          "2022-05-15T22:00:00",
          "2022-05-16T22:00:00",
          "2022-05-17T22:00:00",
          "2022-05-18T22:00:00",
          "2022-05-19T22:00:00",
          "2022-05-20T22:00:00",
          "2022-05-21T22:00:00",
          "2022-05-22T22:00:00",
          "2022-05-23T22:00:00",
          "2022-05-24T22:00:00",
          "2022-05-25T22:00:00",
          "2022-05-26T22:00:00",
          "2022-05-27T22:00:00",
          "2022-05-28T22:00:00",
          "2022-05-29T22:00:00",
          "2022-05-30T22:00:00",
          "2022-05-31T22:00:00",
          "2022-06-01T22:00:00",
          "2022-06-02T22:00:00",
          "2022-06-03T22:00:00",
          "2022-06-04T22:00:00",
          "2022-06-05T22:00:00",
          "2022-06-06T22:00:00",
          "2022-06-07T22:00:00",
          "2022-06-08T22:00:00",
          "2022-06-09T22:00:00",
          "2022-06-10T22:00:00",
          "2022-06-11T22:00:00",
          "2022-06-12T22:00:00",
          "2022-06-13T22:00:00",
          "2022-06-14T22:00:00",
          "2022-06-15T22:00:00",
          "2022-06-16T22:00:00",
          "2022-06-17T22:00:00",
          "2022-06-18T22:00:00",
          "2022-06-19T22:00:00",
          "2022-06-20T22:00:00",
          "2022-06-21T22:00:00",
          "2022-06-22T22:00:00",
          "2022-06-23T22:00:00",
          "2022-06-24T22:00:00",
          "2022-06-25T22:00:00",
          "2022-06-26T22:00:00",
          "2022-06-27T22:00:00",
          "2022-06-28T22:00:00",
          "2022-06-29T22:00:00",
          "2022-06-30T22:00:00",
          "2022-07-01T22:00:00",
          "2022-07-02T22:00:00",
          "2022-07-03T22:00:00",
          "2022-07-04T22:00:00",
          "2022-07-05T22:00:00",
          "2022-07-06T22:00:00",
          "2022-07-07T22:00:00",
          "2022-07-08T22:00:00",
          "2022-07-09T22:00:00",
          "2022-07-10T22:00:00",
          "2022-07-11T22:00:00",
          "2022-07-12T22:00:00",
          "2022-07-13T22:00:00",
          "2022-07-14T22:00:00",
          "2022-07-15T22:00:00",
          "2022-07-16T22:00:00",
          "2022-07-17T22:00:00",
          "2022-07-18T22:00:00",
          "2022-07-19T22:00:00",
          "2022-07-20T22:00:00",
          "2022-07-21T22:00:00",
          "2022-07-22T22:00:00",
          "2022-07-23T22:00:00",
          "2022-07-24T22:00:00",
          "2022-07-25T22:00:00",
          "2022-07-26T22:00:00",
          "2022-07-27T22:00:00",
          "2022-07-28T22:00:00",
          "2022-07-29T22:00:00",
          "2022-07-30T22:00:00",
          "2022-07-31T22:00:00",
          "2022-08-01T22:00:00",
          "2022-08-02T22:00:00",
          "2022-08-03T22:00:00",
          "2022-08-05T22:00:00",
          "2022-08-06T22:00:00",
          "2022-08-07T22:00:00",
          "2022-08-08T22:00:00",
          "2022-08-09T22:00:00",
          "2022-08-11T22:00:00",
          "2022-08-12T22:00:00",
          "2022-08-13T22:00:00",
          "2022-08-14T22:00:00",
          "2022-08-15T22:00:00",
          "2022-08-16T22:00:00",
          "2022-08-17T22:00:00",
          "2022-08-18T22:00:00",
          "2022-08-19T22:00:00",
          "2022-08-20T22:00:00",
          "2022-08-21T22:00:00",
          "2022-08-22T22:00:00",
          "2022-08-23T22:00:00",
          "2022-08-25T22:00:00",
          "2022-08-26T22:00:00",
          "2022-08-27T22:00:00",
          "2022-08-28T22:00:00",
          "2022-08-29T22:00:00",
          "2022-08-30T22:00:00",
          "2022-08-31T22:00:00",
          "2022-09-06T22:00:00",
          "2022-09-08T22:00:00",
          "2022-09-09T22:00:00",
          "2022-09-12T22:00:00",
          "2022-09-13T22:00:00",
          "2022-09-14T22:00:00",
          "2022-09-15T22:00:00",
          "2022-09-16T22:00:00",
          "2022-09-17T22:00:00"
         ],
         "xaxis": "x",
         "y": [
          824,
          240,
          1039,
          235,
          996,
          102,
          159,
          59,
          35,
          61,
          50,
          25,
          28,
          4,
          58,
          4,
          75,
          48,
          64,
          7,
          32,
          38,
          262,
          39,
          10,
          11,
          1,
          55,
          16,
          2,
          1,
          1,
          37,
          187,
          79,
          36,
          42,
          65,
          4,
          1,
          3,
          15,
          15,
          23,
          33,
          274,
          2940,
          2555,
          2009,
          2439,
          763,
          200,
          376,
          411,
          974,
          1887,
          1386,
          663,
          571,
          502,
          400,
          292,
          238,
          233,
          226,
          384,
          222,
          271,
          415,
          597,
          344,
          129,
          261,
          261,
          73,
          51,
          143,
          38,
          26,
          18,
          148,
          228,
          81,
          65,
          47,
          78,
          101,
          63,
          42,
          57,
          61,
          60,
          95,
          146,
          118,
          74,
          125,
          159,
          214,
          122,
          67,
          69,
          50,
          70,
          76,
          166,
          71,
          38,
          52,
          44,
          24,
          67,
          12,
          8,
          8,
          2,
          1,
          2,
          5,
          58,
          22,
          4,
          8,
          187,
          49,
          13,
          11,
          9,
          9,
          4,
          4,
          6,
          12,
          3,
          1,
          5,
          7,
          2,
          1,
          2,
          2,
          6,
          9,
          6,
          7,
          5,
          4,
          3,
          13,
          16,
          19,
          5,
          11,
          1,
          1,
          1,
          1,
          2,
          6,
          17,
          1,
          11,
          6,
          11
         ],
         "yaxis": "y"
        },
        {
         "hovertemplate": "class=honigbiene<br>day=%{x}<br>count=%{y}<extra></extra>",
         "legendgroup": "honigbiene",
         "line": {
          "color": "#FF7F0E",
          "dash": "solid",
          "shape": "hv"
         },
         "marker": {
          "symbol": "circle"
         },
         "mode": "lines",
         "name": "honigbiene",
         "orientation": "v",
         "showlegend": true,
         "type": "scatter",
         "x": [
          "2021-06-20T22:00:00",
          "2021-06-21T22:00:00",
          "2021-06-22T22:00:00",
          "2021-06-23T22:00:00",
          "2021-06-24T22:00:00",
          "2021-06-25T22:00:00",
          "2021-06-26T22:00:00",
          "2021-06-27T22:00:00",
          "2021-06-28T22:00:00",
          "2021-06-29T22:00:00",
          "2021-06-30T22:00:00",
          "2021-07-01T22:00:00",
          "2021-07-02T22:00:00",
          "2021-07-03T22:00:00",
          "2021-07-04T22:00:00",
          "2021-07-06T22:00:00",
          "2021-07-07T22:00:00",
          "2021-07-08T22:00:00",
          "2021-07-09T22:00:00",
          "2021-07-10T22:00:00",
          "2021-07-11T22:00:00",
          "2021-07-12T22:00:00",
          "2021-07-14T22:00:00",
          "2021-07-18T22:00:00",
          "2021-07-19T22:00:00",
          "2021-07-20T22:00:00",
          "2021-07-21T22:00:00",
          "2021-07-22T22:00:00",
          "2021-07-23T22:00:00",
          "2021-07-24T22:00:00",
          "2021-07-25T22:00:00",
          "2021-07-26T22:00:00",
          "2021-07-27T22:00:00",
          "2021-07-28T22:00:00",
          "2021-07-29T22:00:00",
          "2021-07-30T22:00:00",
          "2021-08-11T22:00:00",
          "2021-08-12T22:00:00",
          "2021-08-13T22:00:00",
          "2021-08-14T22:00:00",
          "2021-08-15T22:00:00",
          "2022-05-11T22:00:00",
          "2022-05-12T22:00:00",
          "2022-05-13T22:00:00",
          "2022-05-14T22:00:00",
          "2022-05-15T22:00:00",
          "2022-05-16T22:00:00",
          "2022-05-17T22:00:00",
          "2022-05-18T22:00:00",
          "2022-05-19T22:00:00",
          "2022-05-20T22:00:00",
          "2022-05-21T22:00:00",
          "2022-05-22T22:00:00",
          "2022-05-23T22:00:00",
          "2022-05-24T22:00:00",
          "2022-05-25T22:00:00",
          "2022-05-26T22:00:00",
          "2022-05-27T22:00:00",
          "2022-05-28T22:00:00",
          "2022-05-29T22:00:00",
          "2022-05-30T22:00:00",
          "2022-05-31T22:00:00",
          "2022-06-01T22:00:00",
          "2022-06-02T22:00:00",
          "2022-06-03T22:00:00",
          "2022-06-04T22:00:00",
          "2022-06-05T22:00:00",
          "2022-06-06T22:00:00",
          "2022-06-07T22:00:00",
          "2022-06-08T22:00:00",
          "2022-06-09T22:00:00",
          "2022-06-10T22:00:00",
          "2022-06-11T22:00:00",
          "2022-06-12T22:00:00",
          "2022-06-13T22:00:00",
          "2022-06-14T22:00:00",
          "2022-06-15T22:00:00",
          "2022-06-16T22:00:00",
          "2022-06-17T22:00:00",
          "2022-06-18T22:00:00",
          "2022-06-19T22:00:00",
          "2022-06-20T22:00:00",
          "2022-06-21T22:00:00",
          "2022-06-22T22:00:00",
          "2022-06-23T22:00:00",
          "2022-06-24T22:00:00",
          "2022-06-25T22:00:00",
          "2022-06-26T22:00:00",
          "2022-06-27T22:00:00",
          "2022-06-28T22:00:00",
          "2022-06-29T22:00:00",
          "2022-06-30T22:00:00",
          "2022-07-01T22:00:00",
          "2022-07-02T22:00:00",
          "2022-07-03T22:00:00",
          "2022-07-04T22:00:00",
          "2022-07-05T22:00:00",
          "2022-07-06T22:00:00",
          "2022-07-07T22:00:00",
          "2022-07-08T22:00:00",
          "2022-07-09T22:00:00",
          "2022-07-10T22:00:00",
          "2022-07-11T22:00:00",
          "2022-07-12T22:00:00",
          "2022-07-13T22:00:00",
          "2022-07-14T22:00:00",
          "2022-07-15T22:00:00",
          "2022-07-16T22:00:00",
          "2022-07-17T22:00:00",
          "2022-07-18T22:00:00",
          "2022-07-19T22:00:00",
          "2022-07-20T22:00:00",
          "2022-07-21T22:00:00",
          "2022-07-22T22:00:00",
          "2022-07-23T22:00:00",
          "2022-07-24T22:00:00",
          "2022-07-25T22:00:00",
          "2022-07-26T22:00:00",
          "2022-07-27T22:00:00",
          "2022-07-28T22:00:00",
          "2022-07-29T22:00:00",
          "2022-07-30T22:00:00",
          "2022-07-31T22:00:00",
          "2022-08-01T22:00:00",
          "2022-08-02T22:00:00",
          "2022-08-03T22:00:00",
          "2022-08-04T22:00:00",
          "2022-08-05T22:00:00",
          "2022-08-06T22:00:00",
          "2022-08-07T22:00:00",
          "2022-08-08T22:00:00",
          "2022-08-09T22:00:00",
          "2022-08-10T22:00:00",
          "2022-08-11T22:00:00",
          "2022-08-12T22:00:00",
          "2022-08-13T22:00:00",
          "2022-08-14T22:00:00",
          "2022-08-15T22:00:00",
          "2022-08-16T22:00:00",
          "2022-08-17T22:00:00",
          "2022-08-18T22:00:00",
          "2022-08-19T22:00:00",
          "2022-08-20T22:00:00",
          "2022-08-21T22:00:00",
          "2022-08-22T22:00:00",
          "2022-08-23T22:00:00",
          "2022-08-24T22:00:00",
          "2022-08-25T22:00:00",
          "2022-08-26T22:00:00",
          "2022-08-27T22:00:00",
          "2022-08-28T22:00:00",
          "2022-08-29T22:00:00",
          "2022-08-30T22:00:00",
          "2022-08-31T22:00:00",
          "2022-09-02T22:00:00",
          "2022-09-03T22:00:00",
          "2022-09-04T22:00:00",
          "2022-09-16T22:00:00",
          "2022-09-19T22:00:00",
          "2022-09-20T22:00:00",
          "2022-09-21T22:00:00",
          "2022-09-22T22:00:00",
          "2022-09-24T22:00:00"
         ],
         "xaxis": "x",
         "y": [
          6,
          7,
          177,
          3,
          89,
          3,
          14,
          2,
          1,
          25,
          4,
          3,
          15,
          407,
          34,
          14,
          11,
          10,
          17,
          8,
          14,
          3,
          3,
          5,
          184,
          155,
          499,
          661,
          83,
          233,
          464,
          990,
          762,
          677,
          129,
          13,
          3,
          25,
          4,
          1,
          206,
          3,
          5,
          9,
          39,
          24,
          36,
          18,
          20,
          38,
          60,
          46,
          89,
          73,
          53,
          198,
          73,
          58,
          93,
          66,
          44,
          72,
          88,
          44,
          22,
          17,
          51,
          43,
          39,
          34,
          40,
          18,
          13,
          12,
          38,
          50,
          98,
          46,
          50,
          20,
          25,
          53,
          82,
          40,
          124,
          84,
          50,
          20,
          45,
          194,
          85,
          242,
          107,
          85,
          52,
          113,
          56,
          38,
          29,
          25,
          77,
          28,
          38,
          81,
          137,
          51,
          27,
          102,
          58,
          14,
          35,
          15,
          86,
          66,
          15,
          21,
          29,
          22,
          5,
          11,
          3,
          3,
          3,
          9,
          19,
          2,
          7,
          2,
          5,
          6,
          1,
          1,
          13,
          14,
          2,
          16,
          4,
          9,
          21,
          2,
          102,
          11,
          35,
          37,
          8,
          20,
          14,
          71,
          54,
          46,
          24,
          108,
          35,
          11,
          2,
          8,
          1,
          1,
          1,
          2,
          7,
          1,
          1
         ],
         "yaxis": "y"
        },
        {
         "hovertemplate": "class=schwebfliege<br>day=%{x}<br>count=%{y}<extra></extra>",
         "legendgroup": "schwebfliege",
         "line": {
          "color": "#2CA02C",
          "dash": "solid",
          "shape": "hv"
         },
         "marker": {
          "symbol": "circle"
         },
         "mode": "lines",
         "name": "schwebfliege",
         "orientation": "v",
         "showlegend": true,
         "type": "scatter",
         "x": [
          "2021-06-20T22:00:00",
          "2021-06-21T22:00:00",
          "2021-06-22T22:00:00",
          "2021-06-23T22:00:00",
          "2021-06-24T22:00:00",
          "2021-06-25T22:00:00",
          "2021-06-26T22:00:00",
          "2021-06-27T22:00:00",
          "2021-06-28T22:00:00",
          "2021-06-29T22:00:00",
          "2021-06-30T22:00:00",
          "2021-07-01T22:00:00",
          "2021-07-02T22:00:00",
          "2021-07-03T22:00:00",
          "2021-07-04T22:00:00",
          "2021-07-05T22:00:00",
          "2021-07-06T22:00:00",
          "2021-07-07T22:00:00",
          "2021-07-08T22:00:00",
          "2021-07-09T22:00:00",
          "2021-07-10T22:00:00",
          "2021-07-11T22:00:00",
          "2021-07-12T22:00:00",
          "2021-07-13T22:00:00",
          "2021-07-14T22:00:00",
          "2021-07-16T22:00:00",
          "2021-07-18T22:00:00",
          "2021-07-19T22:00:00",
          "2021-07-20T22:00:00",
          "2021-07-21T22:00:00",
          "2021-07-22T22:00:00",
          "2021-07-23T22:00:00",
          "2021-07-24T22:00:00",
          "2021-07-25T22:00:00",
          "2021-07-26T22:00:00",
          "2021-07-27T22:00:00",
          "2021-07-28T22:00:00",
          "2021-07-29T22:00:00",
          "2021-07-30T22:00:00",
          "2021-08-11T22:00:00",
          "2021-08-12T22:00:00",
          "2021-08-13T22:00:00",
          "2021-08-15T22:00:00",
          "2022-05-11T22:00:00",
          "2022-05-12T22:00:00",
          "2022-05-13T22:00:00",
          "2022-05-14T22:00:00",
          "2022-05-15T22:00:00",
          "2022-05-16T22:00:00",
          "2022-05-17T22:00:00",
          "2022-05-18T22:00:00",
          "2022-05-19T22:00:00",
          "2022-05-20T22:00:00",
          "2022-05-21T22:00:00",
          "2022-05-22T22:00:00",
          "2022-05-23T22:00:00",
          "2022-05-24T22:00:00",
          "2022-05-25T22:00:00",
          "2022-05-26T22:00:00",
          "2022-05-27T22:00:00",
          "2022-05-28T22:00:00",
          "2022-05-29T22:00:00",
          "2022-05-30T22:00:00",
          "2022-05-31T22:00:00",
          "2022-06-01T22:00:00",
          "2022-06-02T22:00:00",
          "2022-06-03T22:00:00",
          "2022-06-04T22:00:00",
          "2022-06-05T22:00:00",
          "2022-06-06T22:00:00",
          "2022-06-07T22:00:00",
          "2022-06-08T22:00:00",
          "2022-06-09T22:00:00",
          "2022-06-10T22:00:00",
          "2022-06-11T22:00:00",
          "2022-06-12T22:00:00",
          "2022-06-13T22:00:00",
          "2022-06-14T22:00:00",
          "2022-06-15T22:00:00",
          "2022-06-16T22:00:00",
          "2022-06-17T22:00:00",
          "2022-06-18T22:00:00",
          "2022-06-19T22:00:00",
          "2022-06-20T22:00:00",
          "2022-06-21T22:00:00",
          "2022-06-22T22:00:00",
          "2022-06-23T22:00:00",
          "2022-06-24T22:00:00",
          "2022-06-25T22:00:00",
          "2022-06-26T22:00:00",
          "2022-06-27T22:00:00",
          "2022-06-28T22:00:00",
          "2022-06-29T22:00:00",
          "2022-06-30T22:00:00",
          "2022-07-01T22:00:00",
          "2022-07-02T22:00:00",
          "2022-07-03T22:00:00",
          "2022-07-04T22:00:00",
          "2022-07-05T22:00:00",
          "2022-07-06T22:00:00",
          "2022-07-07T22:00:00",
          "2022-07-08T22:00:00",
          "2022-07-09T22:00:00",
          "2022-07-10T22:00:00",
          "2022-07-11T22:00:00",
          "2022-07-12T22:00:00",
          "2022-07-13T22:00:00",
          "2022-07-14T22:00:00",
          "2022-07-15T22:00:00",
          "2022-07-16T22:00:00",
          "2022-07-17T22:00:00",
          "2022-07-18T22:00:00",
          "2022-07-19T22:00:00",
          "2022-07-20T22:00:00",
          "2022-07-21T22:00:00",
          "2022-07-22T22:00:00",
          "2022-07-23T22:00:00",
          "2022-07-24T22:00:00",
          "2022-07-25T22:00:00",
          "2022-07-26T22:00:00",
          "2022-07-27T22:00:00",
          "2022-07-28T22:00:00",
          "2022-07-29T22:00:00",
          "2022-07-30T22:00:00",
          "2022-07-31T22:00:00",
          "2022-08-01T22:00:00",
          "2022-08-02T22:00:00",
          "2022-08-03T22:00:00",
          "2022-08-06T22:00:00",
          "2022-08-07T22:00:00",
          "2022-08-08T22:00:00",
          "2022-08-10T22:00:00",
          "2022-08-11T22:00:00",
          "2022-08-12T22:00:00",
          "2022-08-13T22:00:00",
          "2022-08-15T22:00:00",
          "2022-08-17T22:00:00",
          "2022-08-18T22:00:00",
          "2022-08-19T22:00:00",
          "2022-08-20T22:00:00",
          "2022-08-21T22:00:00",
          "2022-08-22T22:00:00",
          "2022-08-23T22:00:00",
          "2022-08-24T22:00:00",
          "2022-08-25T22:00:00",
          "2022-08-26T22:00:00",
          "2022-08-27T22:00:00",
          "2022-08-28T22:00:00",
          "2022-08-29T22:00:00",
          "2022-08-30T22:00:00",
          "2022-09-01T22:00:00",
          "2022-09-05T22:00:00",
          "2022-09-14T22:00:00",
          "2022-09-15T22:00:00",
          "2022-09-17T22:00:00"
         ],
         "xaxis": "x",
         "y": [
          29,
          12,
          16,
          3,
          240,
          31,
          32,
          24,
          2,
          8,
          18,
          3,
          30,
          27,
          79,
          2,
          40,
          471,
          114,
          50,
          17,
          49,
          41,
          7,
          4,
          1,
          15,
          15,
          4,
          3,
          1,
          30,
          3,
          36,
          6,
          34,
          33,
          11,
          1,
          1,
          2,
          2,
          2,
          4,
          55,
          90,
          80,
          169,
          180,
          49,
          100,
          115,
          495,
          438,
          278,
          463,
          333,
          338,
          304,
          386,
          406,
          214,
          143,
          113,
          93,
          135,
          155,
          136,
          27,
          124,
          55,
          33,
          23,
          45,
          10,
          16,
          20,
          6,
          25,
          13,
          9,
          13,
          17,
          19,
          42,
          44,
          22,
          38,
          83,
          27,
          176,
          167,
          118,
          40,
          87,
          68,
          92,
          38,
          12,
          17,
          12,
          12,
          25,
          22,
          21,
          4,
          13,
          13,
          14,
          27,
          18,
          3,
          4,
          68,
          11,
          8,
          3,
          12,
          13,
          31,
          21,
          13,
          8,
          10,
          4,
          17,
          6,
          1,
          1,
          5,
          7,
          1,
          1,
          3,
          4,
          5,
          3,
          3,
          19,
          43,
          5,
          4,
          11,
          3,
          12,
          19,
          10,
          14,
          9,
          58,
          1,
          2,
          1,
          3,
          9
         ],
         "yaxis": "y"
        },
        {
         "hovertemplate": "class=wildbiene<br>day=%{x}<br>count=%{y}<extra></extra>",
         "legendgroup": "wildbiene",
         "line": {
          "color": "#D62728",
          "dash": "solid",
          "shape": "hv"
         },
         "marker": {
          "symbol": "circle"
         },
         "mode": "lines",
         "name": "wildbiene",
         "orientation": "v",
         "showlegend": true,
         "type": "scatter",
         "x": [
          "2021-06-20T22:00:00",
          "2021-06-21T22:00:00",
          "2021-06-22T22:00:00",
          "2021-06-23T22:00:00",
          "2021-06-24T22:00:00",
          "2021-06-25T22:00:00",
          "2021-06-26T22:00:00",
          "2021-06-27T22:00:00",
          "2021-06-28T22:00:00",
          "2021-06-29T22:00:00",
          "2021-06-30T22:00:00",
          "2021-07-01T22:00:00",
          "2021-07-02T22:00:00",
          "2021-07-04T22:00:00",
          "2021-07-05T22:00:00",
          "2021-07-06T22:00:00",
          "2021-07-07T22:00:00",
          "2021-07-08T22:00:00",
          "2021-07-09T22:00:00",
          "2021-07-10T22:00:00",
          "2021-07-11T22:00:00",
          "2021-07-13T22:00:00",
          "2021-07-14T22:00:00",
          "2021-07-15T22:00:00",
          "2021-07-16T22:00:00",
          "2021-07-18T22:00:00",
          "2021-07-19T22:00:00",
          "2021-07-20T22:00:00",
          "2021-07-21T22:00:00",
          "2021-07-22T22:00:00",
          "2021-07-23T22:00:00",
          "2021-07-24T22:00:00",
          "2021-07-25T22:00:00",
          "2021-07-26T22:00:00",
          "2021-07-27T22:00:00",
          "2021-07-28T22:00:00",
          "2021-07-29T22:00:00",
          "2021-07-30T22:00:00",
          "2021-08-02T22:00:00",
          "2021-08-11T22:00:00",
          "2021-08-12T22:00:00",
          "2021-08-13T22:00:00",
          "2021-08-14T22:00:00",
          "2021-08-15T22:00:00",
          "2021-08-20T22:00:00",
          "2022-05-11T22:00:00",
          "2022-05-12T22:00:00",
          "2022-05-13T22:00:00",
          "2022-05-14T22:00:00",
          "2022-05-15T22:00:00",
          "2022-05-16T22:00:00",
          "2022-05-17T22:00:00",
          "2022-05-18T22:00:00",
          "2022-05-19T22:00:00",
          "2022-05-20T22:00:00",
          "2022-05-21T22:00:00",
          "2022-05-22T22:00:00",
          "2022-05-23T22:00:00",
          "2022-05-24T22:00:00",
          "2022-05-25T22:00:00",
          "2022-05-26T22:00:00",
          "2022-05-27T22:00:00",
          "2022-05-28T22:00:00",
          "2022-05-29T22:00:00",
          "2022-05-30T22:00:00",
          "2022-05-31T22:00:00",
          "2022-06-01T22:00:00",
          "2022-06-02T22:00:00",
          "2022-06-03T22:00:00",
          "2022-06-04T22:00:00",
          "2022-06-05T22:00:00",
          "2022-06-06T22:00:00",
          "2022-06-07T22:00:00",
          "2022-06-08T22:00:00",
          "2022-06-09T22:00:00",
          "2022-06-10T22:00:00",
          "2022-06-11T22:00:00",
          "2022-06-12T22:00:00",
          "2022-06-13T22:00:00",
          "2022-06-14T22:00:00",
          "2022-06-15T22:00:00",
          "2022-06-16T22:00:00",
          "2022-06-17T22:00:00",
          "2022-06-18T22:00:00",
          "2022-06-19T22:00:00",
          "2022-06-20T22:00:00",
          "2022-06-21T22:00:00",
          "2022-06-22T22:00:00",
          "2022-06-23T22:00:00",
          "2022-06-24T22:00:00",
          "2022-06-25T22:00:00",
          "2022-06-26T22:00:00",
          "2022-06-27T22:00:00",
          "2022-06-28T22:00:00",
          "2022-06-29T22:00:00",
          "2022-06-30T22:00:00",
          "2022-07-01T22:00:00",
          "2022-07-02T22:00:00",
          "2022-07-03T22:00:00",
          "2022-07-04T22:00:00",
          "2022-07-05T22:00:00",
          "2022-07-06T22:00:00",
          "2022-07-07T22:00:00",
          "2022-07-08T22:00:00",
          "2022-07-09T22:00:00",
          "2022-07-10T22:00:00",
          "2022-07-11T22:00:00",
          "2022-07-12T22:00:00",
          "2022-07-13T22:00:00",
          "2022-07-14T22:00:00",
          "2022-07-15T22:00:00",
          "2022-07-16T22:00:00",
          "2022-07-17T22:00:00",
          "2022-07-18T22:00:00",
          "2022-07-19T22:00:00",
          "2022-07-20T22:00:00",
          "2022-07-21T22:00:00",
          "2022-07-22T22:00:00",
          "2022-07-23T22:00:00",
          "2022-07-24T22:00:00",
          "2022-07-25T22:00:00",
          "2022-07-26T22:00:00",
          "2022-07-27T22:00:00",
          "2022-07-28T22:00:00",
          "2022-07-29T22:00:00",
          "2022-07-30T22:00:00",
          "2022-07-31T22:00:00",
          "2022-08-01T22:00:00",
          "2022-08-02T22:00:00",
          "2022-08-03T22:00:00",
          "2022-08-04T22:00:00",
          "2022-08-05T22:00:00",
          "2022-08-06T22:00:00",
          "2022-08-07T22:00:00",
          "2022-08-08T22:00:00",
          "2022-08-09T22:00:00",
          "2022-08-10T22:00:00",
          "2022-08-11T22:00:00",
          "2022-08-12T22:00:00",
          "2022-08-13T22:00:00",
          "2022-08-14T22:00:00",
          "2022-08-15T22:00:00",
          "2022-08-16T22:00:00",
          "2022-08-17T22:00:00",
          "2022-08-18T22:00:00",
          "2022-08-19T22:00:00",
          "2022-08-20T22:00:00",
          "2022-08-21T22:00:00",
          "2022-08-22T22:00:00",
          "2022-08-23T22:00:00",
          "2022-08-24T22:00:00",
          "2022-08-25T22:00:00",
          "2022-08-26T22:00:00",
          "2022-08-27T22:00:00",
          "2022-08-28T22:00:00",
          "2022-08-29T22:00:00",
          "2022-08-30T22:00:00",
          "2022-08-31T22:00:00",
          "2022-09-01T22:00:00",
          "2022-09-02T22:00:00",
          "2022-09-04T22:00:00",
          "2022-09-05T22:00:00",
          "2022-09-08T22:00:00",
          "2022-09-09T22:00:00",
          "2022-09-11T22:00:00",
          "2022-09-13T22:00:00",
          "2022-09-14T22:00:00",
          "2022-09-15T22:00:00",
          "2022-09-16T22:00:00",
          "2022-09-17T22:00:00",
          "2022-09-18T22:00:00",
          "2022-09-19T22:00:00",
          "2022-09-20T22:00:00",
          "2022-09-21T22:00:00",
          "2022-09-22T22:00:00",
          "2022-09-24T22:00:00",
          "2022-09-25T22:00:00"
         ],
         "xaxis": "x",
         "y": [
          632,
          364,
          644,
          136,
          2788,
          119,
          204,
          15,
          9,
          20,
          3,
          49,
          20,
          10,
          4,
          9,
          43,
          30,
          107,
          31,
          119,
          71,
          32,
          19,
          22,
          633,
          544,
          497,
          725,
          773,
          35,
          53,
          63,
          171,
          87,
          244,
          172,
          24,
          1,
          119,
          111,
          56,
          213,
          47,
          1,
          24,
          334,
          1068,
          778,
          960,
          447,
          449,
          397,
          469,
          1003,
          1242,
          769,
          393,
          899,
          1117,
          865,
          637,
          1000,
          1428,
          497,
          338,
          549,
          528,
          543,
          360,
          397,
          314,
          252,
          231,
          337,
          162,
          207,
          113,
          236,
          364,
          572,
          708,
          564,
          282,
          412,
          716,
          595,
          1022,
          493,
          1221,
          710,
          311,
          892,
          1217,
          1291,
          422,
          882,
          933,
          397,
          228,
          127,
          89,
          165,
          140,
          308,
          366,
          231,
          238,
          311,
          272,
          127,
          268,
          316,
          128,
          196,
          32,
          265,
          325,
          223,
          175,
          248,
          222,
          343,
          115,
          268,
          211,
          138,
          230,
          69,
          55,
          24,
          1,
          98,
          106,
          165,
          163,
          69,
          13,
          182,
          184,
          91,
          57,
          342,
          97,
          229,
          201,
          104,
          123,
          179,
          291,
          138,
          594,
          903,
          1025,
          532,
          618,
          110,
          34,
          1,
          1,
          1,
          5,
          88,
          2,
          8,
          11,
          2,
          7,
          19,
          21,
          10,
          70,
          13,
          55,
          46,
          1,
          7
         ],
         "yaxis": "y"
        },
        {
         "hovertemplate": "class=hummel<br>day=%{x}<br>count=%{y}<extra></extra>",
         "legendgroup": "hummel",
         "line": {
          "color": "#9467BD",
          "dash": "solid",
          "shape": "hv"
         },
         "marker": {
          "symbol": "circle"
         },
         "mode": "lines",
         "name": "hummel",
         "orientation": "v",
         "showlegend": true,
         "type": "scatter",
         "x": [
          "2021-06-23T22:00:00",
          "2021-06-24T22:00:00",
          "2021-06-25T22:00:00",
          "2021-07-03T22:00:00",
          "2021-07-04T22:00:00",
          "2021-07-07T22:00:00",
          "2021-07-09T22:00:00",
          "2021-07-10T22:00:00",
          "2021-07-14T22:00:00",
          "2021-07-15T22:00:00",
          "2021-07-18T22:00:00",
          "2021-07-19T22:00:00",
          "2021-07-20T22:00:00",
          "2021-07-21T22:00:00",
          "2021-07-22T22:00:00",
          "2021-07-23T22:00:00",
          "2021-07-24T22:00:00",
          "2021-07-25T22:00:00",
          "2021-07-26T22:00:00",
          "2021-07-27T22:00:00",
          "2021-07-28T22:00:00",
          "2021-07-29T22:00:00",
          "2021-07-30T22:00:00",
          "2021-08-11T22:00:00",
          "2022-05-11T22:00:00",
          "2022-05-12T22:00:00",
          "2022-05-13T22:00:00",
          "2022-05-17T22:00:00",
          "2022-05-18T22:00:00",
          "2022-05-19T22:00:00",
          "2022-05-20T22:00:00",
          "2022-05-22T22:00:00",
          "2022-05-23T22:00:00",
          "2022-05-24T22:00:00",
          "2022-05-26T22:00:00",
          "2022-05-27T22:00:00",
          "2022-05-28T22:00:00",
          "2022-05-29T22:00:00",
          "2022-05-30T22:00:00",
          "2022-05-31T22:00:00",
          "2022-06-01T22:00:00",
          "2022-06-02T22:00:00",
          "2022-06-03T22:00:00",
          "2022-06-08T22:00:00",
          "2022-06-10T22:00:00",
          "2022-06-12T22:00:00",
          "2022-06-13T22:00:00",
          "2022-06-14T22:00:00",
          "2022-06-15T22:00:00",
          "2022-06-16T22:00:00",
          "2022-06-17T22:00:00",
          "2022-06-21T22:00:00",
          "2022-06-22T22:00:00",
          "2022-06-23T22:00:00",
          "2022-06-24T22:00:00",
          "2022-06-25T22:00:00",
          "2022-06-27T22:00:00",
          "2022-06-28T22:00:00",
          "2022-06-29T22:00:00",
          "2022-06-30T22:00:00",
          "2022-07-01T22:00:00",
          "2022-07-02T22:00:00",
          "2022-07-05T22:00:00",
          "2022-07-06T22:00:00",
          "2022-07-07T22:00:00",
          "2022-07-09T22:00:00",
          "2022-07-10T22:00:00",
          "2022-07-11T22:00:00",
          "2022-07-14T22:00:00",
          "2022-07-16T22:00:00",
          "2022-07-17T22:00:00",
          "2022-07-19T22:00:00",
          "2022-07-21T22:00:00",
          "2022-07-22T22:00:00",
          "2022-07-25T22:00:00",
          "2022-07-26T22:00:00",
          "2022-07-27T22:00:00",
          "2022-07-28T22:00:00",
          "2022-07-29T22:00:00",
          "2022-07-31T22:00:00",
          "2022-08-02T22:00:00",
          "2022-08-11T22:00:00",
          "2022-08-18T22:00:00"
         ],
         "xaxis": "x",
         "y": [
          1,
          1,
          2,
          61,
          3,
          6,
          1,
          1,
          2,
          2,
          20,
          28,
          27,
          17,
          66,
          7,
          3,
          13,
          19,
          34,
          90,
          45,
          28,
          15,
          1,
          1,
          2,
          1,
          2,
          3,
          1,
          14,
          15,
          6,
          9,
          1,
          1,
          4,
          3,
          12,
          4,
          10,
          5,
          1,
          1,
          10,
          1,
          10,
          12,
          8,
          4,
          31,
          60,
          11,
          10,
          5,
          1,
          7,
          7,
          1,
          3,
          1,
          2,
          1,
          2,
          1,
          1,
          19,
          2,
          3,
          1,
          3,
          15,
          18,
          5,
          6,
          43,
          2,
          2,
          1,
          2,
          1,
          1
         ],
         "yaxis": "y"
        }
       ],
       "layout": {
        "autosize": true,
        "legend": {
         "title": {
          "text": "class"
         },
         "tracegroupgap": 0
        },
        "margin": {
         "t": 60
        },
        "template": {
         "data": {
          "bar": [
           {
            "error_x": {
             "color": "rgb(36,36,36)"
            },
            "error_y": {
             "color": "rgb(36,36,36)"
            },
            "marker": {
             "line": {
              "color": "white",
              "width": 0.5
             },
             "pattern": {
              "fillmode": "overlay",
              "size": 10,
              "solidity": 0.2
             }
            },
            "type": "bar"
           }
          ],
          "barpolar": [
           {
            "marker": {
             "line": {
              "color": "white",
              "width": 0.5
             },
             "pattern": {
              "fillmode": "overlay",
              "size": 10,
              "solidity": 0.2
             }
            },
            "type": "barpolar"
           }
          ],
          "carpet": [
           {
            "aaxis": {
             "endlinecolor": "rgb(36,36,36)",
             "gridcolor": "white",
             "linecolor": "white",
             "minorgridcolor": "white",
             "startlinecolor": "rgb(36,36,36)"
            },
            "baxis": {
             "endlinecolor": "rgb(36,36,36)",
             "gridcolor": "white",
             "linecolor": "white",
             "minorgridcolor": "white",
             "startlinecolor": "rgb(36,36,36)"
            },
            "type": "carpet"
           }
          ],
          "choropleth": [
           {
            "colorbar": {
             "outlinewidth": 1,
             "tickcolor": "rgb(36,36,36)",
             "ticks": "outside"
            },
            "type": "choropleth"
           }
          ],
          "contour": [
           {
            "colorbar": {
             "outlinewidth": 1,
             "tickcolor": "rgb(36,36,36)",
             "ticks": "outside"
            },
            "colorscale": [
             [
              0,
              "#440154"
             ],
             [
              0.1111111111111111,
              "#482878"
             ],
             [
              0.2222222222222222,
              "#3e4989"
             ],
             [
              0.3333333333333333,
              "#31688e"
             ],
             [
              0.4444444444444444,
              "#26828e"
             ],
             [
              0.5555555555555556,
              "#1f9e89"
             ],
             [
              0.6666666666666666,
              "#35b779"
             ],
             [
              0.7777777777777778,
              "#6ece58"
             ],
             [
              0.8888888888888888,
              "#b5de2b"
             ],
             [
              1,
              "#fde725"
             ]
            ],
            "type": "contour"
           }
          ],
          "contourcarpet": [
           {
            "colorbar": {
             "outlinewidth": 1,
             "tickcolor": "rgb(36,36,36)",
             "ticks": "outside"
            },
            "type": "contourcarpet"
           }
          ],
          "heatmap": [
           {
            "colorbar": {
             "outlinewidth": 1,
             "tickcolor": "rgb(36,36,36)",
             "ticks": "outside"
            },
            "colorscale": [
             [
              0,
              "#440154"
             ],
             [
              0.1111111111111111,
              "#482878"
             ],
             [
              0.2222222222222222,
              "#3e4989"
             ],
             [
              0.3333333333333333,
              "#31688e"
             ],
             [
              0.4444444444444444,
              "#26828e"
             ],
             [
              0.5555555555555556,
              "#1f9e89"
             ],
             [
              0.6666666666666666,
              "#35b779"
             ],
             [
              0.7777777777777778,
              "#6ece58"
             ],
             [
              0.8888888888888888,
              "#b5de2b"
             ],
             [
              1,
              "#fde725"
             ]
            ],
            "type": "heatmap"
           }
          ],
          "heatmapgl": [
           {
            "colorbar": {
             "outlinewidth": 1,
             "tickcolor": "rgb(36,36,36)",
             "ticks": "outside"
            },
            "colorscale": [
             [
              0,
              "#440154"
             ],
             [
              0.1111111111111111,
              "#482878"
             ],
             [
              0.2222222222222222,
              "#3e4989"
             ],
             [
              0.3333333333333333,
              "#31688e"
             ],
             [
              0.4444444444444444,
              "#26828e"
             ],
             [
              0.5555555555555556,
              "#1f9e89"
             ],
             [
              0.6666666666666666,
              "#35b779"
             ],
             [
              0.7777777777777778,
              "#6ece58"
             ],
             [
              0.8888888888888888,
              "#b5de2b"
             ],
             [
              1,
              "#fde725"
             ]
            ],
            "type": "heatmapgl"
           }
          ],
          "histogram": [
           {
            "marker": {
             "line": {
              "color": "white",
              "width": 0.6
             }
            },
            "type": "histogram"
           }
          ],
          "histogram2d": [
           {
            "colorbar": {
             "outlinewidth": 1,
             "tickcolor": "rgb(36,36,36)",
             "ticks": "outside"
            },
            "colorscale": [
             [
              0,
              "#440154"
             ],
             [
              0.1111111111111111,
              "#482878"
             ],
             [
              0.2222222222222222,
              "#3e4989"
             ],
             [
              0.3333333333333333,
              "#31688e"
             ],
             [
              0.4444444444444444,
              "#26828e"
             ],
             [
              0.5555555555555556,
              "#1f9e89"
             ],
             [
              0.6666666666666666,
              "#35b779"
             ],
             [
              0.7777777777777778,
              "#6ece58"
             ],
             [
              0.8888888888888888,
              "#b5de2b"
             ],
             [
              1,
              "#fde725"
             ]
            ],
            "type": "histogram2d"
           }
          ],
          "histogram2dcontour": [
           {
            "colorbar": {
             "outlinewidth": 1,
             "tickcolor": "rgb(36,36,36)",
             "ticks": "outside"
            },
            "colorscale": [
             [
              0,
              "#440154"
             ],
             [
              0.1111111111111111,
              "#482878"
             ],
             [
              0.2222222222222222,
              "#3e4989"
             ],
             [
              0.3333333333333333,
              "#31688e"
             ],
             [
              0.4444444444444444,
              "#26828e"
             ],
             [
              0.5555555555555556,
              "#1f9e89"
             ],
             [
              0.6666666666666666,
              "#35b779"
             ],
             [
              0.7777777777777778,
              "#6ece58"
             ],
             [
              0.8888888888888888,
              "#b5de2b"
             ],
             [
              1,
              "#fde725"
             ]
            ],
            "type": "histogram2dcontour"
           }
          ],
          "mesh3d": [
           {
            "colorbar": {
             "outlinewidth": 1,
             "tickcolor": "rgb(36,36,36)",
             "ticks": "outside"
            },
            "type": "mesh3d"
           }
          ],
          "parcoords": [
           {
            "line": {
             "colorbar": {
              "outlinewidth": 1,
              "tickcolor": "rgb(36,36,36)",
              "ticks": "outside"
             }
            },
            "type": "parcoords"
           }
          ],
          "pie": [
           {
            "automargin": true,
            "type": "pie"
           }
          ],
          "scatter": [
           {
            "fillpattern": {
             "fillmode": "overlay",
             "size": 10,
             "solidity": 0.2
            },
            "type": "scatter"
           }
          ],
          "scatter3d": [
           {
            "line": {
             "colorbar": {
              "outlinewidth": 1,
              "tickcolor": "rgb(36,36,36)",
              "ticks": "outside"
             }
            },
            "marker": {
             "colorbar": {
              "outlinewidth": 1,
              "tickcolor": "rgb(36,36,36)",
              "ticks": "outside"
             }
            },
            "type": "scatter3d"
           }
          ],
          "scattercarpet": [
           {
            "marker": {
             "colorbar": {
              "outlinewidth": 1,
              "tickcolor": "rgb(36,36,36)",
              "ticks": "outside"
             }
            },
            "type": "scattercarpet"
           }
          ],
          "scattergeo": [
           {
            "marker": {
             "colorbar": {
              "outlinewidth": 1,
              "tickcolor": "rgb(36,36,36)",
              "ticks": "outside"
             }
            },
            "type": "scattergeo"
           }
          ],
          "scattergl": [
           {
            "marker": {
             "colorbar": {
              "outlinewidth": 1,
              "tickcolor": "rgb(36,36,36)",
              "ticks": "outside"
             }
            },
            "type": "scattergl"
           }
          ],
          "scattermapbox": [
           {
            "marker": {
             "colorbar": {
              "outlinewidth": 1,
              "tickcolor": "rgb(36,36,36)",
              "ticks": "outside"
             }
            },
            "type": "scattermapbox"
           }
          ],
          "scatterpolar": [
           {
            "marker": {
             "colorbar": {
              "outlinewidth": 1,
              "tickcolor": "rgb(36,36,36)",
              "ticks": "outside"
             }
            },
            "type": "scatterpolar"
           }
          ],
          "scatterpolargl": [
           {
            "marker": {
             "colorbar": {
              "outlinewidth": 1,
              "tickcolor": "rgb(36,36,36)",
              "ticks": "outside"
             }
            },
            "type": "scatterpolargl"
           }
          ],
          "scatterternary": [
           {
            "marker": {
             "colorbar": {
              "outlinewidth": 1,
              "tickcolor": "rgb(36,36,36)",
              "ticks": "outside"
             }
            },
            "type": "scatterternary"
           }
          ],
          "surface": [
           {
            "colorbar": {
             "outlinewidth": 1,
             "tickcolor": "rgb(36,36,36)",
             "ticks": "outside"
            },
            "colorscale": [
             [
              0,
              "#440154"
             ],
             [
              0.1111111111111111,
              "#482878"
             ],
             [
              0.2222222222222222,
              "#3e4989"
             ],
             [
              0.3333333333333333,
              "#31688e"
             ],
             [
              0.4444444444444444,
              "#26828e"
             ],
             [
              0.5555555555555556,
              "#1f9e89"
             ],
             [
              0.6666666666666666,
              "#35b779"
             ],
             [
              0.7777777777777778,
              "#6ece58"
             ],
             [
              0.8888888888888888,
              "#b5de2b"
             ],
             [
              1,
              "#fde725"
             ]
            ],
            "type": "surface"
           }
          ],
          "table": [
           {
            "cells": {
             "fill": {
              "color": "rgb(237,237,237)"
             },
             "line": {
              "color": "white"
             }
            },
            "header": {
             "fill": {
              "color": "rgb(217,217,217)"
             },
             "line": {
              "color": "white"
             }
            },
            "type": "table"
           }
          ]
         },
         "layout": {
          "annotationdefaults": {
           "arrowhead": 0,
           "arrowwidth": 1
          },
          "autotypenumbers": "strict",
          "coloraxis": {
           "colorbar": {
            "outlinewidth": 1,
            "tickcolor": "rgb(36,36,36)",
            "ticks": "outside"
           }
          },
          "colorscale": {
           "diverging": [
            [
             0,
             "rgb(103,0,31)"
            ],
            [
             0.1,
             "rgb(178,24,43)"
            ],
            [
             0.2,
             "rgb(214,96,77)"
            ],
            [
             0.3,
             "rgb(244,165,130)"
            ],
            [
             0.4,
             "rgb(253,219,199)"
            ],
            [
             0.5,
             "rgb(247,247,247)"
            ],
            [
             0.6,
             "rgb(209,229,240)"
            ],
            [
             0.7,
             "rgb(146,197,222)"
            ],
            [
             0.8,
             "rgb(67,147,195)"
            ],
            [
             0.9,
             "rgb(33,102,172)"
            ],
            [
             1,
             "rgb(5,48,97)"
            ]
           ],
           "sequential": [
            [
             0,
             "#440154"
            ],
            [
             0.1111111111111111,
             "#482878"
            ],
            [
             0.2222222222222222,
             "#3e4989"
            ],
            [
             0.3333333333333333,
             "#31688e"
            ],
            [
             0.4444444444444444,
             "#26828e"
            ],
            [
             0.5555555555555556,
             "#1f9e89"
            ],
            [
             0.6666666666666666,
             "#35b779"
            ],
            [
             0.7777777777777778,
             "#6ece58"
            ],
            [
             0.8888888888888888,
             "#b5de2b"
            ],
            [
             1,
             "#fde725"
            ]
           ],
           "sequentialminus": [
            [
             0,
             "#440154"
            ],
            [
             0.1111111111111111,
             "#482878"
            ],
            [
             0.2222222222222222,
             "#3e4989"
            ],
            [
             0.3333333333333333,
             "#31688e"
            ],
            [
             0.4444444444444444,
             "#26828e"
            ],
            [
             0.5555555555555556,
             "#1f9e89"
            ],
            [
             0.6666666666666666,
             "#35b779"
            ],
            [
             0.7777777777777778,
             "#6ece58"
            ],
            [
             0.8888888888888888,
             "#b5de2b"
            ],
            [
             1,
             "#fde725"
            ]
           ]
          },
          "colorway": [
           "#1F77B4",
           "#FF7F0E",
           "#2CA02C",
           "#D62728",
           "#9467BD",
           "#8C564B",
           "#E377C2",
           "#7F7F7F",
           "#BCBD22",
           "#17BECF"
          ],
          "font": {
           "color": "rgb(36,36,36)"
          },
          "geo": {
           "bgcolor": "white",
           "lakecolor": "white",
           "landcolor": "white",
           "showlakes": true,
           "showland": true,
           "subunitcolor": "white"
          },
          "hoverlabel": {
           "align": "left"
          },
          "hovermode": "closest",
          "mapbox": {
           "style": "light"
          },
          "paper_bgcolor": "white",
          "plot_bgcolor": "white",
          "polar": {
           "angularaxis": {
            "gridcolor": "rgb(232,232,232)",
            "linecolor": "rgb(36,36,36)",
            "showgrid": false,
            "showline": true,
            "ticks": "outside"
           },
           "bgcolor": "white",
           "radialaxis": {
            "gridcolor": "rgb(232,232,232)",
            "linecolor": "rgb(36,36,36)",
            "showgrid": false,
            "showline": true,
            "ticks": "outside"
           }
          },
          "scene": {
           "xaxis": {
            "backgroundcolor": "white",
            "gridcolor": "rgb(232,232,232)",
            "gridwidth": 2,
            "linecolor": "rgb(36,36,36)",
            "showbackground": true,
            "showgrid": false,
            "showline": true,
            "ticks": "outside",
            "zeroline": false,
            "zerolinecolor": "rgb(36,36,36)"
           },
           "yaxis": {
            "backgroundcolor": "white",
            "gridcolor": "rgb(232,232,232)",
            "gridwidth": 2,
            "linecolor": "rgb(36,36,36)",
            "showbackground": true,
            "showgrid": false,
            "showline": true,
            "ticks": "outside",
            "zeroline": false,
            "zerolinecolor": "rgb(36,36,36)"
           },
           "zaxis": {
            "backgroundcolor": "white",
            "gridcolor": "rgb(232,232,232)",
            "gridwidth": 2,
            "linecolor": "rgb(36,36,36)",
            "showbackground": true,
            "showgrid": false,
            "showline": true,
            "ticks": "outside",
            "zeroline": false,
            "zerolinecolor": "rgb(36,36,36)"
           }
          },
          "shapedefaults": {
           "fillcolor": "black",
           "line": {
            "width": 0
           },
           "opacity": 0.3
          },
          "ternary": {
           "aaxis": {
            "gridcolor": "rgb(232,232,232)",
            "linecolor": "rgb(36,36,36)",
            "showgrid": false,
            "showline": true,
            "ticks": "outside"
           },
           "baxis": {
            "gridcolor": "rgb(232,232,232)",
            "linecolor": "rgb(36,36,36)",
            "showgrid": false,
            "showline": true,
            "ticks": "outside"
           },
           "bgcolor": "white",
           "caxis": {
            "gridcolor": "rgb(232,232,232)",
            "linecolor": "rgb(36,36,36)",
            "showgrid": false,
            "showline": true,
            "ticks": "outside"
           }
          },
          "title": {
           "x": 0.05
          },
          "xaxis": {
           "automargin": true,
           "gridcolor": "rgb(232,232,232)",
           "linecolor": "rgb(36,36,36)",
           "showgrid": false,
           "showline": true,
           "ticks": "outside",
           "title": {
            "standoff": 15
           },
           "zeroline": false,
           "zerolinecolor": "rgb(36,36,36)"
          },
          "yaxis": {
           "automargin": true,
           "gridcolor": "rgb(232,232,232)",
           "linecolor": "rgb(36,36,36)",
           "showgrid": false,
           "showline": true,
           "ticks": "outside",
           "title": {
            "standoff": 15
           },
           "zeroline": false,
           "zerolinecolor": "rgb(36,36,36)"
          }
         }
        },
        "title": {
         "text": "Pollinators per Hour"
        },
        "xaxis": {
         "anchor": "y",
         "autorange": true,
         "domain": [
          0,
          1
         ],
         "range": [
          "2021-06-20 22:00",
          "2022-09-25 22:00"
         ],
         "title": {
          "text": "day"
         },
         "type": "date"
        },
        "yaxis": {
         "anchor": "x",
         "autorange": true,
         "domain": [
          0,
          1
         ],
         "range": [
          -162.2777777777778,
          3103.277777777778
         ],
         "title": {
          "text": "count"
         },
         "type": "linear"
        }
       }
      },
      "image/png": "[encoded data removed]",
      "text/html": [
       "<div>                            <div id=\"88b21d81-6144-44d4-88e7-0356b075b3dd\" class=\"plotly-graph-div\" style=\"height:525px; width:100%;\"></div>            <script type=\"text/javascript\">                require([\"plotly\"], function(Plotly) {                    window.PLOTLYENV=window.PLOTLYENV || {};                                    if (document.getElementById(\"88b21d81-6144-44d4-88e7-0356b075b3dd\")) {                    Plotly.newPlot(                        \"88b21d81-6144-44d4-88e7-0356b075b3dd\",                        [{\"hovertemplate\":\"class=fliege<br>day=%{x}<br>count=%{y}<extra></extra>\",\"legendgroup\":\"fliege\",\"line\":{\"color\":\"#1F77B4\",\"dash\":\"solid\",\"shape\":\"hv\"},\"marker\":{\"symbol\":\"circle\"},\"mode\":\"lines\",\"name\":\"fliege\",\"orientation\":\"v\",\"showlegend\":true,\"x\":[\"2021-06-20T22:00:00\",\"2021-06-21T22:00:00\",\"2021-06-22T22:00:00\",\"2021-06-23T22:00:00\",\"2021-06-24T22:00:00\",\"2021-06-25T22:00:00\",\"2021-06-26T22:00:00\",\"2021-06-27T22:00:00\",\"2021-06-28T22:00:00\",\"2021-06-29T22:00:00\",\"2021-06-30T22:00:00\",\"2021-07-01T22:00:00\",\"2021-07-02T22:00:00\",\"2021-07-03T22:00:00\",\"2021-07-04T22:00:00\",\"2021-07-05T22:00:00\",\"2021-07-06T22:00:00\",\"2021-07-07T22:00:00\",\"2021-07-08T22:00:00\",\"2021-07-09T22:00:00\",\"2021-07-10T22:00:00\",\"2021-07-11T22:00:00\",\"2021-07-13T22:00:00\",\"2021-07-14T22:00:00\",\"2021-07-15T22:00:00\",\"2021-07-16T22:00:00\",\"2021-07-17T22:00:00\",\"2021-07-18T22:00:00\",\"2021-07-19T22:00:00\",\"2021-07-20T22:00:00\",\"2021-07-21T22:00:00\",\"2021-07-22T22:00:00\",\"2021-07-23T22:00:00\",\"2021-07-24T22:00:00\",\"2021-07-25T22:00:00\",\"2021-07-26T22:00:00\",\"2021-07-27T22:00:00\",\"2021-07-28T22:00:00\",\"2021-07-29T22:00:00\",\"2021-07-30T22:00:00\",\"2021-08-11T22:00:00\",\"2021-08-12T22:00:00\",\"2021-08-13T22:00:00\",\"2021-08-14T22:00:00\",\"2021-08-15T22:00:00\",\"2022-05-11T22:00:00\",\"2022-05-12T22:00:00\",\"2022-05-13T22:00:00\",\"2022-05-14T22:00:00\",\"2022-05-15T22:00:00\",\"2022-05-16T22:00:00\",\"2022-05-17T22:00:00\",\"2022-05-18T22:00:00\",\"2022-05-19T22:00:00\",\"2022-05-20T22:00:00\",\"2022-05-21T22:00:00\",\"2022-05-22T22:00:00\",\"2022-05-23T22:00:00\",\"2022-05-24T22:00:00\",\"2022-05-25T22:00:00\",\"2022-05-26T22:00:00\",\"2022-05-27T22:00:00\",\"2022-05-28T22:00:00\",\"2022-05-29T22:00:00\",\"2022-05-30T22:00:00\",\"2022-05-31T22:00:00\",\"2022-06-01T22:00:00\",\"2022-06-02T22:00:00\",\"2022-06-03T22:00:00\",\"2022-06-04T22:00:00\",\"2022-06-05T22:00:00\",\"2022-06-06T22:00:00\",\"2022-06-07T22:00:00\",\"2022-06-08T22:00:00\",\"2022-06-09T22:00:00\",\"2022-06-10T22:00:00\",\"2022-06-11T22:00:00\",\"2022-06-12T22:00:00\",\"2022-06-13T22:00:00\",\"2022-06-14T22:00:00\",\"2022-06-15T22:00:00\",\"2022-06-16T22:00:00\",\"2022-06-17T22:00:00\",\"2022-06-18T22:00:00\",\"2022-06-19T22:00:00\",\"2022-06-20T22:00:00\",\"2022-06-21T22:00:00\",\"2022-06-22T22:00:00\",\"2022-06-23T22:00:00\",\"2022-06-24T22:00:00\",\"2022-06-25T22:00:00\",\"2022-06-26T22:00:00\",\"2022-06-27T22:00:00\",\"2022-06-28T22:00:00\",\"2022-06-29T22:00:00\",\"2022-06-30T22:00:00\",\"2022-07-01T22:00:00\",\"2022-07-02T22:00:00\",\"2022-07-03T22:00:00\",\"2022-07-04T22:00:00\",\"2022-07-05T22:00:00\",\"2022-07-06T22:00:00\",\"2022-07-07T22:00:00\",\"2022-07-08T22:00:00\",\"2022-07-09T22:00:00\",\"2022-07-10T22:00:00\",\"2022-07-11T22:00:00\",\"2022-07-12T22:00:00\",\"2022-07-13T22:00:00\",\"2022-07-14T22:00:00\",\"2022-07-15T22:00:00\",\"2022-07-16T22:00:00\",\"2022-07-17T22:00:00\",\"2022-07-18T22:00:00\",\"2022-07-19T22:00:00\",\"2022-07-20T22:00:00\",\"2022-07-21T22:00:00\",\"2022-07-22T22:00:00\",\"2022-07-23T22:00:00\",\"2022-07-24T22:00:00\",\"2022-07-25T22:00:00\",\"2022-07-26T22:00:00\",\"2022-07-27T22:00:00\",\"2022-07-28T22:00:00\",\"2022-07-29T22:00:00\",\"2022-07-30T22:00:00\",\"2022-07-31T22:00:00\",\"2022-08-01T22:00:00\",\"2022-08-02T22:00:00\",\"2022-08-03T22:00:00\",\"2022-08-05T22:00:00\",\"2022-08-06T22:00:00\",\"2022-08-07T22:00:00\",\"2022-08-08T22:00:00\",\"2022-08-09T22:00:00\",\"2022-08-11T22:00:00\",\"2022-08-12T22:00:00\",\"2022-08-13T22:00:00\",\"2022-08-14T22:00:00\",\"2022-08-15T22:00:00\",\"2022-08-16T22:00:00\",\"2022-08-17T22:00:00\",\"2022-08-18T22:00:00\",\"2022-08-19T22:00:00\",\"2022-08-20T22:00:00\",\"2022-08-21T22:00:00\",\"2022-08-22T22:00:00\",\"2022-08-23T22:00:00\",\"2022-08-25T22:00:00\",\"2022-08-26T22:00:00\",\"2022-08-27T22:00:00\",\"2022-08-28T22:00:00\",\"2022-08-29T22:00:00\",\"2022-08-30T22:00:00\",\"2022-08-31T22:00:00\",\"2022-09-06T22:00:00\",\"2022-09-08T22:00:00\",\"2022-09-09T22:00:00\",\"2022-09-12T22:00:00\",\"2022-09-13T22:00:00\",\"2022-09-14T22:00:00\",\"2022-09-15T22:00:00\",\"2022-09-16T22:00:00\",\"2022-09-17T22:00:00\"],\"xaxis\":\"x\",\"y\":[824,240,1039,235,996,102,159,59,35,61,50,25,28,4,58,4,75,48,64,7,32,38,262,39,10,11,1,55,16,2,1,1,37,187,79,36,42,65,4,1,3,15,15,23,33,274,2940,2555,2009,2439,763,200,376,411,974,1887,1386,663,571,502,400,292,238,233,226,384,222,271,415,597,344,129,261,261,73,51,143,38,26,18,148,228,81,65,47,78,101,63,42,57,61,60,95,146,118,74,125,159,214,122,67,69,50,70,76,166,71,38,52,44,24,67,12,8,8,2,1,2,5,58,22,4,8,187,49,13,11,9,9,4,4,6,12,3,1,5,7,2,1,2,2,6,9,6,7,5,4,3,13,16,19,5,11,1,1,1,1,2,6,17,1,11,6,11],\"yaxis\":\"y\",\"type\":\"scatter\"},{\"hovertemplate\":\"class=honigbiene<br>day=%{x}<br>count=%{y}<extra></extra>\",\"legendgroup\":\"honigbiene\",\"line\":{\"color\":\"#FF7F0E\",\"dash\":\"solid\",\"shape\":\"hv\"},\"marker\":{\"symbol\":\"circle\"},\"mode\":\"lines\",\"name\":\"honigbiene\",\"orientation\":\"v\",\"showlegend\":true,\"x\":[\"2021-06-20T22:00:00\",\"2021-06-21T22:00:00\",\"2021-06-22T22:00:00\",\"2021-06-23T22:00:00\",\"2021-06-24T22:00:00\",\"2021-06-25T22:00:00\",\"2021-06-26T22:00:00\",\"2021-06-27T22:00:00\",\"2021-06-28T22:00:00\",\"2021-06-29T22:00:00\",\"2021-06-30T22:00:00\",\"2021-07-01T22:00:00\",\"2021-07-02T22:00:00\",\"2021-07-03T22:00:00\",\"2021-07-04T22:00:00\",\"2021-07-06T22:00:00\",\"2021-07-07T22:00:00\",\"2021-07-08T22:00:00\",\"2021-07-09T22:00:00\",\"2021-07-10T22:00:00\",\"2021-07-11T22:00:00\",\"2021-07-12T22:00:00\",\"2021-07-14T22:00:00\",\"2021-07-18T22:00:00\",\"2021-07-19T22:00:00\",\"2021-07-20T22:00:00\",\"2021-07-21T22:00:00\",\"2021-07-22T22:00:00\",\"2021-07-23T22:00:00\",\"2021-07-24T22:00:00\",\"2021-07-25T22:00:00\",\"2021-07-26T22:00:00\",\"2021-07-27T22:00:00\",\"2021-07-28T22:00:00\",\"2021-07-29T22:00:00\",\"2021-07-30T22:00:00\",\"2021-08-11T22:00:00\",\"2021-08-12T22:00:00\",\"2021-08-13T22:00:00\",\"2021-08-14T22:00:00\",\"2021-08-15T22:00:00\",\"2022-05-11T22:00:00\",\"2022-05-12T22:00:00\",\"2022-05-13T22:00:00\",\"2022-05-14T22:00:00\",\"2022-05-15T22:00:00\",\"2022-05-16T22:00:00\",\"2022-05-17T22:00:00\",\"2022-05-18T22:00:00\",\"2022-05-19T22:00:00\",\"2022-05-20T22:00:00\",\"2022-05-21T22:00:00\",\"2022-05-22T22:00:00\",\"2022-05-23T22:00:00\",\"2022-05-24T22:00:00\",\"2022-05-25T22:00:00\",\"2022-05-26T22:00:00\",\"2022-05-27T22:00:00\",\"2022-05-28T22:00:00\",\"2022-05-29T22:00:00\",\"2022-05-30T22:00:00\",\"2022-05-31T22:00:00\",\"2022-06-01T22:00:00\",\"2022-06-02T22:00:00\",\"2022-06-03T22:00:00\",\"2022-06-04T22:00:00\",\"2022-06-05T22:00:00\",\"2022-06-06T22:00:00\",\"2022-06-07T22:00:00\",\"2022-06-08T22:00:00\",\"2022-06-09T22:00:00\",\"2022-06-10T22:00:00\",\"2022-06-11T22:00:00\",\"2022-06-12T22:00:00\",\"2022-06-13T22:00:00\",\"2022-06-14T22:00:00\",\"2022-06-15T22:00:00\",\"2022-06-16T22:00:00\",\"2022-06-17T22:00:00\",\"2022-06-18T22:00:00\",\"2022-06-19T22:00:00\",\"2022-06-20T22:00:00\",\"2022-06-21T22:00:00\",\"2022-06-22T22:00:00\",\"2022-06-23T22:00:00\",\"2022-06-24T22:00:00\",\"2022-06-25T22:00:00\",\"2022-06-26T22:00:00\",\"2022-06-27T22:00:00\",\"2022-06-28T22:00:00\",\"2022-06-29T22:00:00\",\"2022-06-30T22:00:00\",\"2022-07-01T22:00:00\",\"2022-07-02T22:00:00\",\"2022-07-03T22:00:00\",\"2022-07-04T22:00:00\",\"2022-07-05T22:00:00\",\"2022-07-06T22:00:00\",\"2022-07-07T22:00:00\",\"2022-07-08T22:00:00\",\"2022-07-09T22:00:00\",\"2022-07-10T22:00:00\",\"2022-07-11T22:00:00\",\"2022-07-12T22:00:00\",\"2022-07-13T22:00:00\",\"2022-07-14T22:00:00\",\"2022-07-15T22:00:00\",\"2022-07-16T22:00:00\",\"2022-07-17T22:00:00\",\"2022-07-18T22:00:00\",\"2022-07-19T22:00:00\",\"2022-07-20T22:00:00\",\"2022-07-21T22:00:00\",\"2022-07-22T22:00:00\",\"2022-07-23T22:00:00\",\"2022-07-24T22:00:00\",\"2022-07-25T22:00:00\",\"2022-07-26T22:00:00\",\"2022-07-27T22:00:00\",\"2022-07-28T22:00:00\",\"2022-07-29T22:00:00\",\"2022-07-30T22:00:00\",\"2022-07-31T22:00:00\",\"2022-08-01T22:00:00\",\"2022-08-02T22:00:00\",\"2022-08-03T22:00:00\",\"2022-08-04T22:00:00\",\"2022-08-05T22:00:00\",\"2022-08-06T22:00:00\",\"2022-08-07T22:00:00\",\"2022-08-08T22:00:00\",\"2022-08-09T22:00:00\",\"2022-08-10T22:00:00\",\"2022-08-11T22:00:00\",\"2022-08-12T22:00:00\",\"2022-08-13T22:00:00\",\"2022-08-14T22:00:00\",\"2022-08-15T22:00:00\",\"2022-08-16T22:00:00\",\"2022-08-17T22:00:00\",\"2022-08-18T22:00:00\",\"2022-08-19T22:00:00\",\"2022-08-20T22:00:00\",\"2022-08-21T22:00:00\",\"2022-08-22T22:00:00\",\"2022-08-23T22:00:00\",\"2022-08-24T22:00:00\",\"2022-08-25T22:00:00\",\"2022-08-26T22:00:00\",\"2022-08-27T22:00:00\",\"2022-08-28T22:00:00\",\"2022-08-29T22:00:00\",\"2022-08-30T22:00:00\",\"2022-08-31T22:00:00\",\"2022-09-02T22:00:00\",\"2022-09-03T22:00:00\",\"2022-09-04T22:00:00\",\"2022-09-16T22:00:00\",\"2022-09-19T22:00:00\",\"2022-09-20T22:00:00\",\"2022-09-21T22:00:00\",\"2022-09-22T22:00:00\",\"2022-09-24T22:00:00\"],\"xaxis\":\"x\",\"y\":[6,7,177,3,89,3,14,2,1,25,4,3,15,407,34,14,11,10,17,8,14,3,3,5,184,155,499,661,83,233,464,990,762,677,129,13,3,25,4,1,206,3,5,9,39,24,36,18,20,38,60,46,89,73,53,198,73,58,93,66,44,72,88,44,22,17,51,43,39,34,40,18,13,12,38,50,98,46,50,20,25,53,82,40,124,84,50,20,45,194,85,242,107,85,52,113,56,38,29,25,77,28,38,81,137,51,27,102,58,14,35,15,86,66,15,21,29,22,5,11,3,3,3,9,19,2,7,2,5,6,1,1,13,14,2,16,4,9,21,2,102,11,35,37,8,20,14,71,54,46,24,108,35,11,2,8,1,1,1,2,7,1,1],\"yaxis\":\"y\",\"type\":\"scatter\"},{\"hovertemplate\":\"class=schwebfliege<br>day=%{x}<br>count=%{y}<extra></extra>\",\"legendgroup\":\"schwebfliege\",\"line\":{\"color\":\"#2CA02C\",\"dash\":\"solid\",\"shape\":\"hv\"},\"marker\":{\"symbol\":\"circle\"},\"mode\":\"lines\",\"name\":\"schwebfliege\",\"orientation\":\"v\",\"showlegend\":true,\"x\":[\"2021-06-20T22:00:00\",\"2021-06-21T22:00:00\",\"2021-06-22T22:00:00\",\"2021-06-23T22:00:00\",\"2021-06-24T22:00:00\",\"2021-06-25T22:00:00\",\"2021-06-26T22:00:00\",\"2021-06-27T22:00:00\",\"2021-06-28T22:00:00\",\"2021-06-29T22:00:00\",\"2021-06-30T22:00:00\",\"2021-07-01T22:00:00\",\"2021-07-02T22:00:00\",\"2021-07-03T22:00:00\",\"2021-07-04T22:00:00\",\"2021-07-05T22:00:00\",\"2021-07-06T22:00:00\",\"2021-07-07T22:00:00\",\"2021-07-08T22:00:00\",\"2021-07-09T22:00:00\",\"2021-07-10T22:00:00\",\"2021-07-11T22:00:00\",\"2021-07-12T22:00:00\",\"2021-07-13T22:00:00\",\"2021-07-14T22:00:00\",\"2021-07-16T22:00:00\",\"2021-07-18T22:00:00\",\"2021-07-19T22:00:00\",\"2021-07-20T22:00:00\",\"2021-07-21T22:00:00\",\"2021-07-22T22:00:00\",\"2021-07-23T22:00:00\",\"2021-07-24T22:00:00\",\"2021-07-25T22:00:00\",\"2021-07-26T22:00:00\",\"2021-07-27T22:00:00\",\"2021-07-28T22:00:00\",\"2021-07-29T22:00:00\",\"2021-07-30T22:00:00\",\"2021-08-11T22:00:00\",\"2021-08-12T22:00:00\",\"2021-08-13T22:00:00\",\"2021-08-15T22:00:00\",\"2022-05-11T22:00:00\",\"2022-05-12T22:00:00\",\"2022-05-13T22:00:00\",\"2022-05-14T22:00:00\",\"2022-05-15T22:00:00\",\"2022-05-16T22:00:00\",\"2022-05-17T22:00:00\",\"2022-05-18T22:00:00\",\"2022-05-19T22:00:00\",\"2022-05-20T22:00:00\",\"2022-05-21T22:00:00\",\"2022-05-22T22:00:00\",\"2022-05-23T22:00:00\",\"2022-05-24T22:00:00\",\"2022-05-25T22:00:00\",\"2022-05-26T22:00:00\",\"2022-05-27T22:00:00\",\"2022-05-28T22:00:00\",\"2022-05-29T22:00:00\",\"2022-05-30T22:00:00\",\"2022-05-31T22:00:00\",\"2022-06-01T22:00:00\",\"2022-06-02T22:00:00\",\"2022-06-03T22:00:00\",\"2022-06-04T22:00:00\",\"2022-06-05T22:00:00\",\"2022-06-06T22:00:00\",\"2022-06-07T22:00:00\",\"2022-06-08T22:00:00\",\"2022-06-09T22:00:00\",\"2022-06-10T22:00:00\",\"2022-06-11T22:00:00\",\"2022-06-12T22:00:00\",\"2022-06-13T22:00:00\",\"2022-06-14T22:00:00\",\"2022-06-15T22:00:00\",\"2022-06-16T22:00:00\",\"2022-06-17T22:00:00\",\"2022-06-18T22:00:00\",\"2022-06-19T22:00:00\",\"2022-06-20T22:00:00\",\"2022-06-21T22:00:00\",\"2022-06-22T22:00:00\",\"2022-06-23T22:00:00\",\"2022-06-24T22:00:00\",\"2022-06-25T22:00:00\",\"2022-06-26T22:00:00\",\"2022-06-27T22:00:00\",\"2022-06-28T22:00:00\",\"2022-06-29T22:00:00\",\"2022-06-30T22:00:00\",\"2022-07-01T22:00:00\",\"2022-07-02T22:00:00\",\"2022-07-03T22:00:00\",\"2022-07-04T22:00:00\",\"2022-07-05T22:00:00\",\"2022-07-06T22:00:00\",\"2022-07-07T22:00:00\",\"2022-07-08T22:00:00\",\"2022-07-09T22:00:00\",\"2022-07-10T22:00:00\",\"2022-07-11T22:00:00\",\"2022-07-12T22:00:00\",\"2022-07-13T22:00:00\",\"2022-07-14T22:00:00\",\"2022-07-15T22:00:00\",\"2022-07-16T22:00:00\",\"2022-07-17T22:00:00\",\"2022-07-18T22:00:00\",\"2022-07-19T22:00:00\",\"2022-07-20T22:00:00\",\"2022-07-21T22:00:00\",\"2022-07-22T22:00:00\",\"2022-07-23T22:00:00\",\"2022-07-24T22:00:00\",\"2022-07-25T22:00:00\",\"2022-07-26T22:00:00\",\"2022-07-27T22:00:00\",\"2022-07-28T22:00:00\",\"2022-07-29T22:00:00\",\"2022-07-30T22:00:00\",\"2022-07-31T22:00:00\",\"2022-08-01T22:00:00\",\"2022-08-02T22:00:00\",\"2022-08-03T22:00:00\",\"2022-08-06T22:00:00\",\"2022-08-07T22:00:00\",\"2022-08-08T22:00:00\",\"2022-08-10T22:00:00\",\"2022-08-11T22:00:00\",\"2022-08-12T22:00:00\",\"2022-08-13T22:00:00\",\"2022-08-15T22:00:00\",\"2022-08-17T22:00:00\",\"2022-08-18T22:00:00\",\"2022-08-19T22:00:00\",\"2022-08-20T22:00:00\",\"2022-08-21T22:00:00\",\"2022-08-22T22:00:00\",\"2022-08-23T22:00:00\",\"2022-08-24T22:00:00\",\"2022-08-25T22:00:00\",\"2022-08-26T22:00:00\",\"2022-08-27T22:00:00\",\"2022-08-28T22:00:00\",\"2022-08-29T22:00:00\",\"2022-08-30T22:00:00\",\"2022-09-01T22:00:00\",\"2022-09-05T22:00:00\",\"2022-09-14T22:00:00\",\"2022-09-15T22:00:00\",\"2022-09-17T22:00:00\"],\"xaxis\":\"x\",\"y\":[29,12,16,3,240,31,32,24,2,8,18,3,30,27,79,2,40,471,114,50,17,49,41,7,4,1,15,15,4,3,1,30,3,36,6,34,33,11,1,1,2,2,2,4,55,90,80,169,180,49,100,115,495,438,278,463,333,338,304,386,406,214,143,113,93,135,155,136,27,124,55,33,23,45,10,16,20,6,25,13,9,13,17,19,42,44,22,38,83,27,176,167,118,40,87,68,92,38,12,17,12,12,25,22,21,4,13,13,14,27,18,3,4,68,11,8,3,12,13,31,21,13,8,10,4,17,6,1,1,5,7,1,1,3,4,5,3,3,19,43,5,4,11,3,12,19,10,14,9,58,1,2,1,3,9],\"yaxis\":\"y\",\"type\":\"scatter\"},{\"hovertemplate\":\"class=wildbiene<br>day=%{x}<br>count=%{y}<extra></extra>\",\"legendgroup\":\"wildbiene\",\"line\":{\"color\":\"#D62728\",\"dash\":\"solid\",\"shape\":\"hv\"},\"marker\":{\"symbol\":\"circle\"},\"mode\":\"lines\",\"name\":\"wildbiene\",\"orientation\":\"v\",\"showlegend\":true,\"x\":[\"2021-06-20T22:00:00\",\"2021-06-21T22:00:00\",\"2021-06-22T22:00:00\",\"2021-06-23T22:00:00\",\"2021-06-24T22:00:00\",\"2021-06-25T22:00:00\",\"2021-06-26T22:00:00\",\"2021-06-27T22:00:00\",\"2021-06-28T22:00:00\",\"2021-06-29T22:00:00\",\"2021-06-30T22:00:00\",\"2021-07-01T22:00:00\",\"2021-07-02T22:00:00\",\"2021-07-04T22:00:00\",\"2021-07-05T22:00:00\",\"2021-07-06T22:00:00\",\"2021-07-07T22:00:00\",\"2021-07-08T22:00:00\",\"2021-07-09T22:00:00\",\"2021-07-10T22:00:00\",\"2021-07-11T22:00:00\",\"2021-07-13T22:00:00\",\"2021-07-14T22:00:00\",\"2021-07-15T22:00:00\",\"2021-07-16T22:00:00\",\"2021-07-18T22:00:00\",\"2021-07-19T22:00:00\",\"2021-07-20T22:00:00\",\"2021-07-21T22:00:00\",\"2021-07-22T22:00:00\",\"2021-07-23T22:00:00\",\"2021-07-24T22:00:00\",\"2021-07-25T22:00:00\",\"2021-07-26T22:00:00\",\"2021-07-27T22:00:00\",\"2021-07-28T22:00:00\",\"2021-07-29T22:00:00\",\"2021-07-30T22:00:00\",\"2021-08-02T22:00:00\",\"2021-08-11T22:00:00\",\"2021-08-12T22:00:00\",\"2021-08-13T22:00:00\",\"2021-08-14T22:00:00\",\"2021-08-15T22:00:00\",\"2021-08-20T22:00:00\",\"2022-05-11T22:00:00\",\"2022-05-12T22:00:00\",\"2022-05-13T22:00:00\",\"2022-05-14T22:00:00\",\"2022-05-15T22:00:00\",\"2022-05-16T22:00:00\",\"2022-05-17T22:00:00\",\"2022-05-18T22:00:00\",\"2022-05-19T22:00:00\",\"2022-05-20T22:00:00\",\"2022-05-21T22:00:00\",\"2022-05-22T22:00:00\",\"2022-05-23T22:00:00\",\"2022-05-24T22:00:00\",\"2022-05-25T22:00:00\",\"2022-05-26T22:00:00\",\"2022-05-27T22:00:00\",\"2022-05-28T22:00:00\",\"2022-05-29T22:00:00\",\"2022-05-30T22:00:00\",\"2022-05-31T22:00:00\",\"2022-06-01T22:00:00\",\"2022-06-02T22:00:00\",\"2022-06-03T22:00:00\",\"2022-06-04T22:00:00\",\"2022-06-05T22:00:00\",\"2022-06-06T22:00:00\",\"2022-06-07T22:00:00\",\"2022-06-08T22:00:00\",\"2022-06-09T22:00:00\",\"2022-06-10T22:00:00\",\"2022-06-11T22:00:00\",\"2022-06-12T22:00:00\",\"2022-06-13T22:00:00\",\"2022-06-14T22:00:00\",\"2022-06-15T22:00:00\",\"2022-06-16T22:00:00\",\"2022-06-17T22:00:00\",\"2022-06-18T22:00:00\",\"2022-06-19T22:00:00\",\"2022-06-20T22:00:00\",\"2022-06-21T22:00:00\",\"2022-06-22T22:00:00\",\"2022-06-23T22:00:00\",\"2022-06-24T22:00:00\",\"2022-06-25T22:00:00\",\"2022-06-26T22:00:00\",\"2022-06-27T22:00:00\",\"2022-06-28T22:00:00\",\"2022-06-29T22:00:00\",\"2022-06-30T22:00:00\",\"2022-07-01T22:00:00\",\"2022-07-02T22:00:00\",\"2022-07-03T22:00:00\",\"2022-07-04T22:00:00\",\"2022-07-05T22:00:00\",\"2022-07-06T22:00:00\",\"2022-07-07T22:00:00\",\"2022-07-08T22:00:00\",\"2022-07-09T22:00:00\",\"2022-07-10T22:00:00\",\"2022-07-11T22:00:00\",\"2022-07-12T22:00:00\",\"2022-07-13T22:00:00\",\"2022-07-14T22:00:00\",\"2022-07-15T22:00:00\",\"2022-07-16T22:00:00\",\"2022-07-17T22:00:00\",\"2022-07-18T22:00:00\",\"2022-07-19T22:00:00\",\"2022-07-20T22:00:00\",\"2022-07-21T22:00:00\",\"2022-07-22T22:00:00\",\"2022-07-23T22:00:00\",\"2022-07-24T22:00:00\",\"2022-07-25T22:00:00\",\"2022-07-26T22:00:00\",\"2022-07-27T22:00:00\",\"2022-07-28T22:00:00\",\"2022-07-29T22:00:00\",\"2022-07-30T22:00:00\",\"2022-07-31T22:00:00\",\"2022-08-01T22:00:00\",\"2022-08-02T22:00:00\",\"2022-08-03T22:00:00\",\"2022-08-04T22:00:00\",\"2022-08-05T22:00:00\",\"2022-08-06T22:00:00\",\"2022-08-07T22:00:00\",\"2022-08-08T22:00:00\",\"2022-08-09T22:00:00\",\"2022-08-10T22:00:00\",\"2022-08-11T22:00:00\",\"2022-08-12T22:00:00\",\"2022-08-13T22:00:00\",\"2022-08-14T22:00:00\",\"2022-08-15T22:00:00\",\"2022-08-16T22:00:00\",\"2022-08-17T22:00:00\",\"2022-08-18T22:00:00\",\"2022-08-19T22:00:00\",\"2022-08-20T22:00:00\",\"2022-08-21T22:00:00\",\"2022-08-22T22:00:00\",\"2022-08-23T22:00:00\",\"2022-08-24T22:00:00\",\"2022-08-25T22:00:00\",\"2022-08-26T22:00:00\",\"2022-08-27T22:00:00\",\"2022-08-28T22:00:00\",\"2022-08-29T22:00:00\",\"2022-08-30T22:00:00\",\"2022-08-31T22:00:00\",\"2022-09-01T22:00:00\",\"2022-09-02T22:00:00\",\"2022-09-04T22:00:00\",\"2022-09-05T22:00:00\",\"2022-09-08T22:00:00\",\"2022-09-09T22:00:00\",\"2022-09-11T22:00:00\",\"2022-09-13T22:00:00\",\"2022-09-14T22:00:00\",\"2022-09-15T22:00:00\",\"2022-09-16T22:00:00\",\"2022-09-17T22:00:00\",\"2022-09-18T22:00:00\",\"2022-09-19T22:00:00\",\"2022-09-20T22:00:00\",\"2022-09-21T22:00:00\",\"2022-09-22T22:00:00\",\"2022-09-24T22:00:00\",\"2022-09-25T22:00:00\"],\"xaxis\":\"x\",\"y\":[632,364,644,136,2788,119,204,15,9,20,3,49,20,10,4,9,43,30,107,31,119,71,32,19,22,633,544,497,725,773,35,53,63,171,87,244,172,24,1,119,111,56,213,47,1,24,334,1068,778,960,447,449,397,469,1003,1242,769,393,899,1117,865,637,1000,1428,497,338,549,528,543,360,397,314,252,231,337,162,207,113,236,364,572,708,564,282,412,716,595,1022,493,1221,710,311,892,1217,1291,422,882,933,397,228,127,89,165,140,308,366,231,238,311,272,127,268,316,128,196,32,265,325,223,175,248,222,343,115,268,211,138,230,69,55,24,1,98,106,165,163,69,13,182,184,91,57,342,97,229,201,104,123,179,291,138,594,903,1025,532,618,110,34,1,1,1,5,88,2,8,11,2,7,19,21,10,70,13,55,46,1,7],\"yaxis\":\"y\",\"type\":\"scatter\"},{\"hovertemplate\":\"class=hummel<br>day=%{x}<br>count=%{y}<extra></extra>\",\"legendgroup\":\"hummel\",\"line\":{\"color\":\"#9467BD\",\"dash\":\"solid\",\"shape\":\"hv\"},\"marker\":{\"symbol\":\"circle\"},\"mode\":\"lines\",\"name\":\"hummel\",\"orientation\":\"v\",\"showlegend\":true,\"x\":[\"2021-06-23T22:00:00\",\"2021-06-24T22:00:00\",\"2021-06-25T22:00:00\",\"2021-07-03T22:00:00\",\"2021-07-04T22:00:00\",\"2021-07-07T22:00:00\",\"2021-07-09T22:00:00\",\"2021-07-10T22:00:00\",\"2021-07-14T22:00:00\",\"2021-07-15T22:00:00\",\"2021-07-18T22:00:00\",\"2021-07-19T22:00:00\",\"2021-07-20T22:00:00\",\"2021-07-21T22:00:00\",\"2021-07-22T22:00:00\",\"2021-07-23T22:00:00\",\"2021-07-24T22:00:00\",\"2021-07-25T22:00:00\",\"2021-07-26T22:00:00\",\"2021-07-27T22:00:00\",\"2021-07-28T22:00:00\",\"2021-07-29T22:00:00\",\"2021-07-30T22:00:00\",\"2021-08-11T22:00:00\",\"2022-05-11T22:00:00\",\"2022-05-12T22:00:00\",\"2022-05-13T22:00:00\",\"2022-05-17T22:00:00\",\"2022-05-18T22:00:00\",\"2022-05-19T22:00:00\",\"2022-05-20T22:00:00\",\"2022-05-22T22:00:00\",\"2022-05-23T22:00:00\",\"2022-05-24T22:00:00\",\"2022-05-26T22:00:00\",\"2022-05-27T22:00:00\",\"2022-05-28T22:00:00\",\"2022-05-29T22:00:00\",\"2022-05-30T22:00:00\",\"2022-05-31T22:00:00\",\"2022-06-01T22:00:00\",\"2022-06-02T22:00:00\",\"2022-06-03T22:00:00\",\"2022-06-08T22:00:00\",\"2022-06-10T22:00:00\",\"2022-06-12T22:00:00\",\"2022-06-13T22:00:00\",\"2022-06-14T22:00:00\",\"2022-06-15T22:00:00\",\"2022-06-16T22:00:00\",\"2022-06-17T22:00:00\",\"2022-06-21T22:00:00\",\"2022-06-22T22:00:00\",\"2022-06-23T22:00:00\",\"2022-06-24T22:00:00\",\"2022-06-25T22:00:00\",\"2022-06-27T22:00:00\",\"2022-06-28T22:00:00\",\"2022-06-29T22:00:00\",\"2022-06-30T22:00:00\",\"2022-07-01T22:00:00\",\"2022-07-02T22:00:00\",\"2022-07-05T22:00:00\",\"2022-07-06T22:00:00\",\"2022-07-07T22:00:00\",\"2022-07-09T22:00:00\",\"2022-07-10T22:00:00\",\"2022-07-11T22:00:00\",\"2022-07-14T22:00:00\",\"2022-07-16T22:00:00\",\"2022-07-17T22:00:00\",\"2022-07-19T22:00:00\",\"2022-07-21T22:00:00\",\"2022-07-22T22:00:00\",\"2022-07-25T22:00:00\",\"2022-07-26T22:00:00\",\"2022-07-27T22:00:00\",\"2022-07-28T22:00:00\",\"2022-07-29T22:00:00\",\"2022-07-31T22:00:00\",\"2022-08-02T22:00:00\",\"2022-08-11T22:00:00\",\"2022-08-18T22:00:00\"],\"xaxis\":\"x\",\"y\":[1,1,2,61,3,6,1,1,2,2,20,28,27,17,66,7,3,13,19,34,90,45,28,15,1,1,2,1,2,3,1,14,15,6,9,1,1,4,3,12,4,10,5,1,1,10,1,10,12,8,4,31,60,11,10,5,1,7,7,1,3,1,2,1,2,1,1,19,2,3,1,3,15,18,5,6,43,2,2,1,2,1,1],\"yaxis\":\"y\",\"type\":\"scatter\"}],                        {\"template\":{\"data\":{\"barpolar\":[{\"marker\":{\"line\":{\"color\":\"white\",\"width\":0.5},\"pattern\":{\"fillmode\":\"overlay\",\"size\":10,\"solidity\":0.2}},\"type\":\"barpolar\"}],\"bar\":[{\"error_x\":{\"color\":\"rgb(36,36,36)\"},\"error_y\":{\"color\":\"rgb(36,36,36)\"},\"marker\":{\"line\":{\"color\":\"white\",\"width\":0.5},\"pattern\":{\"fillmode\":\"overlay\",\"size\":10,\"solidity\":0.2}},\"type\":\"bar\"}],\"carpet\":[{\"aaxis\":{\"endlinecolor\":\"rgb(36,36,36)\",\"gridcolor\":\"white\",\"linecolor\":\"white\",\"minorgridcolor\":\"white\",\"startlinecolor\":\"rgb(36,36,36)\"},\"baxis\":{\"endlinecolor\":\"rgb(36,36,36)\",\"gridcolor\":\"white\",\"linecolor\":\"white\",\"minorgridcolor\":\"white\",\"startlinecolor\":\"rgb(36,36,36)\"},\"type\":\"carpet\"}],\"choropleth\":[{\"colorbar\":{\"outlinewidth\":1,\"tickcolor\":\"rgb(36,36,36)\",\"ticks\":\"outside\"},\"type\":\"choropleth\"}],\"contourcarpet\":[{\"colorbar\":{\"outlinewidth\":1,\"tickcolor\":\"rgb(36,36,36)\",\"ticks\":\"outside\"},\"type\":\"contourcarpet\"}],\"contour\":[{\"colorbar\":{\"outlinewidth\":1,\"tickcolor\":\"rgb(36,36,36)\",\"ticks\":\"outside\"},\"colorscale\":[[0.0,\"#440154\"],[0.1111111111111111,\"#482878\"],[0.2222222222222222,\"#3e4989\"],[0.3333333333333333,\"#31688e\"],[0.4444444444444444,\"#26828e\"],[0.5555555555555556,\"#1f9e89\"],[0.6666666666666666,\"#35b779\"],[0.7777777777777778,\"#6ece58\"],[0.8888888888888888,\"#b5de2b\"],[1.0,\"#fde725\"]],\"type\":\"contour\"}],\"heatmapgl\":[{\"colorbar\":{\"outlinewidth\":1,\"tickcolor\":\"rgb(36,36,36)\",\"ticks\":\"outside\"},\"colorscale\":[[0.0,\"#440154\"],[0.1111111111111111,\"#482878\"],[0.2222222222222222,\"#3e4989\"],[0.3333333333333333,\"#31688e\"],[0.4444444444444444,\"#26828e\"],[0.5555555555555556,\"#1f9e89\"],[0.6666666666666666,\"#35b779\"],[0.7777777777777778,\"#6ece58\"],[0.8888888888888888,\"#b5de2b\"],[1.0,\"#fde725\"]],\"type\":\"heatmapgl\"}],\"heatmap\":[{\"colorbar\":{\"outlinewidth\":1,\"tickcolor\":\"rgb(36,36,36)\",\"ticks\":\"outside\"},\"colorscale\":[[0.0,\"#440154\"],[0.1111111111111111,\"#482878\"],[0.2222222222222222,\"#3e4989\"],[0.3333333333333333,\"#31688e\"],[0.4444444444444444,\"#26828e\"],[0.5555555555555556,\"#1f9e89\"],[0.6666666666666666,\"#35b779\"],[0.7777777777777778,\"#6ece58\"],[0.8888888888888888,\"#b5de2b\"],[1.0,\"#fde725\"]],\"type\":\"heatmap\"}],\"histogram2dcontour\":[{\"colorbar\":{\"outlinewidth\":1,\"tickcolor\":\"rgb(36,36,36)\",\"ticks\":\"outside\"},\"colorscale\":[[0.0,\"#440154\"],[0.1111111111111111,\"#482878\"],[0.2222222222222222,\"#3e4989\"],[0.3333333333333333,\"#31688e\"],[0.4444444444444444,\"#26828e\"],[0.5555555555555556,\"#1f9e89\"],[0.6666666666666666,\"#35b779\"],[0.7777777777777778,\"#6ece58\"],[0.8888888888888888,\"#b5de2b\"],[1.0,\"#fde725\"]],\"type\":\"histogram2dcontour\"}],\"histogram2d\":[{\"colorbar\":{\"outlinewidth\":1,\"tickcolor\":\"rgb(36,36,36)\",\"ticks\":\"outside\"},\"colorscale\":[[0.0,\"#440154\"],[0.1111111111111111,\"#482878\"],[0.2222222222222222,\"#3e4989\"],[0.3333333333333333,\"#31688e\"],[0.4444444444444444,\"#26828e\"],[0.5555555555555556,\"#1f9e89\"],[0.6666666666666666,\"#35b779\"],[0.7777777777777778,\"#6ece58\"],[0.8888888888888888,\"#b5de2b\"],[1.0,\"#fde725\"]],\"type\":\"histogram2d\"}],\"histogram\":[{\"marker\":{\"line\":{\"color\":\"white\",\"width\":0.6}},\"type\":\"histogram\"}],\"mesh3d\":[{\"colorbar\":{\"outlinewidth\":1,\"tickcolor\":\"rgb(36,36,36)\",\"ticks\":\"outside\"},\"type\":\"mesh3d\"}],\"parcoords\":[{\"line\":{\"colorbar\":{\"outlinewidth\":1,\"tickcolor\":\"rgb(36,36,36)\",\"ticks\":\"outside\"}},\"type\":\"parcoords\"}],\"pie\":[{\"automargin\":true,\"type\":\"pie\"}],\"scatter3d\":[{\"line\":{\"colorbar\":{\"outlinewidth\":1,\"tickcolor\":\"rgb(36,36,36)\",\"ticks\":\"outside\"}},\"marker\":{\"colorbar\":{\"outlinewidth\":1,\"tickcolor\":\"rgb(36,36,36)\",\"ticks\":\"outside\"}},\"type\":\"scatter3d\"}],\"scattercarpet\":[{\"marker\":{\"colorbar\":{\"outlinewidth\":1,\"tickcolor\":\"rgb(36,36,36)\",\"ticks\":\"outside\"}},\"type\":\"scattercarpet\"}],\"scattergeo\":[{\"marker\":{\"colorbar\":{\"outlinewidth\":1,\"tickcolor\":\"rgb(36,36,36)\",\"ticks\":\"outside\"}},\"type\":\"scattergeo\"}],\"scattergl\":[{\"marker\":{\"colorbar\":{\"outlinewidth\":1,\"tickcolor\":\"rgb(36,36,36)\",\"ticks\":\"outside\"}},\"type\":\"scattergl\"}],\"scattermapbox\":[{\"marker\":{\"colorbar\":{\"outlinewidth\":1,\"tickcolor\":\"rgb(36,36,36)\",\"ticks\":\"outside\"}},\"type\":\"scattermapbox\"}],\"scatterpolargl\":[{\"marker\":{\"colorbar\":{\"outlinewidth\":1,\"tickcolor\":\"rgb(36,36,36)\",\"ticks\":\"outside\"}},\"type\":\"scatterpolargl\"}],\"scatterpolar\":[{\"marker\":{\"colorbar\":{\"outlinewidth\":1,\"tickcolor\":\"rgb(36,36,36)\",\"ticks\":\"outside\"}},\"type\":\"scatterpolar\"}],\"scatter\":[{\"fillpattern\":{\"fillmode\":\"overlay\",\"size\":10,\"solidity\":0.2},\"type\":\"scatter\"}],\"scatterternary\":[{\"marker\":{\"colorbar\":{\"outlinewidth\":1,\"tickcolor\":\"rgb(36,36,36)\",\"ticks\":\"outside\"}},\"type\":\"scatterternary\"}],\"surface\":[{\"colorbar\":{\"outlinewidth\":1,\"tickcolor\":\"rgb(36,36,36)\",\"ticks\":\"outside\"},\"colorscale\":[[0.0,\"#440154\"],[0.1111111111111111,\"#482878\"],[0.2222222222222222,\"#3e4989\"],[0.3333333333333333,\"#31688e\"],[0.4444444444444444,\"#26828e\"],[0.5555555555555556,\"#1f9e89\"],[0.6666666666666666,\"#35b779\"],[0.7777777777777778,\"#6ece58\"],[0.8888888888888888,\"#b5de2b\"],[1.0,\"#fde725\"]],\"type\":\"surface\"}],\"table\":[{\"cells\":{\"fill\":{\"color\":\"rgb(237,237,237)\"},\"line\":{\"color\":\"white\"}},\"header\":{\"fill\":{\"color\":\"rgb(217,217,217)\"},\"line\":{\"color\":\"white\"}},\"type\":\"table\"}]},\"layout\":{\"annotationdefaults\":{\"arrowhead\":0,\"arrowwidth\":1},\"autotypenumbers\":\"strict\",\"coloraxis\":{\"colorbar\":{\"outlinewidth\":1,\"tickcolor\":\"rgb(36,36,36)\",\"ticks\":\"outside\"}},\"colorscale\":{\"diverging\":[[0.0,\"rgb(103,0,31)\"],[0.1,\"rgb(178,24,43)\"],[0.2,\"rgb(214,96,77)\"],[0.3,\"rgb(244,165,130)\"],[0.4,\"rgb(253,219,199)\"],[0.5,\"rgb(247,247,247)\"],[0.6,\"rgb(209,229,240)\"],[0.7,\"rgb(146,197,222)\"],[0.8,\"rgb(67,147,195)\"],[0.9,\"rgb(33,102,172)\"],[1.0,\"rgb(5,48,97)\"]],\"sequential\":[[0.0,\"#440154\"],[0.1111111111111111,\"#482878\"],[0.2222222222222222,\"#3e4989\"],[0.3333333333333333,\"#31688e\"],[0.4444444444444444,\"#26828e\"],[0.5555555555555556,\"#1f9e89\"],[0.6666666666666666,\"#35b779\"],[0.7777777777777778,\"#6ece58\"],[0.8888888888888888,\"#b5de2b\"],[1.0,\"#fde725\"]],\"sequentialminus\":[[0.0,\"#440154\"],[0.1111111111111111,\"#482878\"],[0.2222222222222222,\"#3e4989\"],[0.3333333333333333,\"#31688e\"],[0.4444444444444444,\"#26828e\"],[0.5555555555555556,\"#1f9e89\"],[0.6666666666666666,\"#35b779\"],[0.7777777777777778,\"#6ece58\"],[0.8888888888888888,\"#b5de2b\"],[1.0,\"#fde725\"]]},\"colorway\":[\"#1F77B4\",\"#FF7F0E\",\"#2CA02C\",\"#D62728\",\"#9467BD\",\"#8C564B\",\"#E377C2\",\"#7F7F7F\",\"#BCBD22\",\"#17BECF\"],\"font\":{\"color\":\"rgb(36,36,36)\"},\"geo\":{\"bgcolor\":\"white\",\"lakecolor\":\"white\",\"landcolor\":\"white\",\"showlakes\":true,\"showland\":true,\"subunitcolor\":\"white\"},\"hoverlabel\":{\"align\":\"left\"},\"hovermode\":\"closest\",\"mapbox\":{\"style\":\"light\"},\"paper_bgcolor\":\"white\",\"plot_bgcolor\":\"white\",\"polar\":{\"angularaxis\":{\"gridcolor\":\"rgb(232,232,232)\",\"linecolor\":\"rgb(36,36,36)\",\"showgrid\":false,\"showline\":true,\"ticks\":\"outside\"},\"bgcolor\":\"white\",\"radialaxis\":{\"gridcolor\":\"rgb(232,232,232)\",\"linecolor\":\"rgb(36,36,36)\",\"showgrid\":false,\"showline\":true,\"ticks\":\"outside\"}},\"scene\":{\"xaxis\":{\"backgroundcolor\":\"white\",\"gridcolor\":\"rgb(232,232,232)\",\"gridwidth\":2,\"linecolor\":\"rgb(36,36,36)\",\"showbackground\":true,\"showgrid\":false,\"showline\":true,\"ticks\":\"outside\",\"zeroline\":false,\"zerolinecolor\":\"rgb(36,36,36)\"},\"yaxis\":{\"backgroundcolor\":\"white\",\"gridcolor\":\"rgb(232,232,232)\",\"gridwidth\":2,\"linecolor\":\"rgb(36,36,36)\",\"showbackground\":true,\"showgrid\":false,\"showline\":true,\"ticks\":\"outside\",\"zeroline\":false,\"zerolinecolor\":\"rgb(36,36,36)\"},\"zaxis\":{\"backgroundcolor\":\"white\",\"gridcolor\":\"rgb(232,232,232)\",\"gridwidth\":2,\"linecolor\":\"rgb(36,36,36)\",\"showbackground\":true,\"showgrid\":false,\"showline\":true,\"ticks\":\"outside\",\"zeroline\":false,\"zerolinecolor\":\"rgb(36,36,36)\"}},\"shapedefaults\":{\"fillcolor\":\"black\",\"line\":{\"width\":0},\"opacity\":0.3},\"ternary\":{\"aaxis\":{\"gridcolor\":\"rgb(232,232,232)\",\"linecolor\":\"rgb(36,36,36)\",\"showgrid\":false,\"showline\":true,\"ticks\":\"outside\"},\"baxis\":{\"gridcolor\":\"rgb(232,232,232)\",\"linecolor\":\"rgb(36,36,36)\",\"showgrid\":false,\"showline\":true,\"ticks\":\"outside\"},\"bgcolor\":\"white\",\"caxis\":{\"gridcolor\":\"rgb(232,232,232)\",\"linecolor\":\"rgb(36,36,36)\",\"showgrid\":false,\"showline\":true,\"ticks\":\"outside\"}},\"title\":{\"x\":0.05},\"xaxis\":{\"automargin\":true,\"gridcolor\":\"rgb(232,232,232)\",\"linecolor\":\"rgb(36,36,36)\",\"showgrid\":false,\"showline\":true,\"ticks\":\"outside\",\"title\":{\"standoff\":15},\"zeroline\":false,\"zerolinecolor\":\"rgb(36,36,36)\"},\"yaxis\":{\"automargin\":true,\"gridcolor\":\"rgb(232,232,232)\",\"linecolor\":\"rgb(36,36,36)\",\"showgrid\":false,\"showline\":true,\"ticks\":\"outside\",\"title\":{\"standoff\":15},\"zeroline\":false,\"zerolinecolor\":\"rgb(36,36,36)\"}}},\"xaxis\":{\"anchor\":\"y\",\"domain\":[0.0,1.0],\"title\":{\"text\":\"day\"}},\"yaxis\":{\"anchor\":\"x\",\"domain\":[0.0,1.0],\"title\":{\"text\":\"count\"}},\"legend\":{\"title\":{\"text\":\"class\"},\"tracegroupgap\":0},\"margin\":{\"t\":60},\"title\":{\"text\":\"Pollinators per Hour\"}},                        {\"responsive\": true}                    ).then(function(){\n",
       "                            \n",
       "var gd = document.getElementById('88b21d81-6144-44d4-88e7-0356b075b3dd');\n",
       "var x = new MutationObserver(function (mutations, observer) {{\n",
       "        var display = window.getComputedStyle(gd).display;\n",
       "        if (!display || display === 'none') {{\n",
       "            console.log([gd, 'removed!']);\n",
       "            Plotly.purge(gd);\n",
       "            observer.disconnect();\n",
       "        }}\n",
       "}});\n",
       "\n",
       "// Listen for the removal of the full notebook cells\n",
       "var notebookContainer = gd.closest('#notebook-container');\n",
       "if (notebookContainer) {{\n",
       "    x.observe(notebookContainer, {childList: true});\n",
       "}}\n",
       "\n",
       "// Listen for the clearing of the current output cell\n",
       "var outputEl = gd.closest('.output');\n",
       "if (outputEl) {{\n",
       "    x.observe(outputEl, {childList: true});\n",
       "}}\n",
       "\n",
       "                        })                };                });            </script>        </div>"
      ]
     },
     "metadata": {},
     "output_type": "display_data"
    }
   ],
   "source": [
    "fig = px.line(data_frame=data, x='day', y='count', color='class', \n",
    "              line_shape='hv', template='simple_white')\n",
    "fig.update_layout(title='Pollinators per Hour')\n",
    "fig.show()"
   ]
  },
  {
   "cell_type": "markdown",
   "id": "8d61569c-0f37-44bd-9f7c-185c636fb91f",
   "metadata": {},
   "source": [
    "### Pollinators distributed over Weeks and Days (Heatmap)"
   ]
  },
  {
   "cell_type": "code",
   "execution_count": null,
   "id": "5906d728-7291-4efd-9fa1-cf5f585b558e",
   "metadata": {},
   "outputs": [],
   "source": []
  },
  {
   "cell_type": "code",
   "execution_count": null,
   "id": "01f12246-5d22-422c-bae7-6fdd9adba5a7",
   "metadata": {},
   "outputs": [],
   "source": []
  },
  {
   "cell_type": "code",
   "execution_count": 53,
   "id": "6cc71087-e672-4fce-9044-1a2cd1459cdb",
   "metadata": {},
   "outputs": [
    {
     "data": {
      "text/html": [
       "<div>\n",
       "<style scoped>\n",
       "    .dataframe tbody tr th:only-of-type {\n",
       "        vertical-align: middle;\n",
       "    }\n",
       "\n",
       "    .dataframe tbody tr th {\n",
       "        vertical-align: top;\n",
       "    }\n",
       "\n",
       "    .dataframe thead th {\n",
       "        text-align: right;\n",
       "    }\n",
       "</style>\n",
       "<table border=\"1\" class=\"dataframe\">\n",
       "  <thead>\n",
       "    <tr style=\"text-align: right;\">\n",
       "      <th></th>\n",
       "      <th>time</th>\n",
       "      <th>class</th>\n",
       "      <th>count</th>\n",
       "    </tr>\n",
       "  </thead>\n",
       "  <tbody>\n",
       "    <tr>\n",
       "      <th>303976</th>\n",
       "      <td>2021-06-20 14:00:00</td>\n",
       "      <td>None</td>\n",
       "      <td>0</td>\n",
       "    </tr>\n",
       "    <tr>\n",
       "      <th>589932</th>\n",
       "      <td>2021-06-20 16:00:00</td>\n",
       "      <td>None</td>\n",
       "      <td>0</td>\n",
       "    </tr>\n",
       "    <tr>\n",
       "      <th>321811</th>\n",
       "      <td>2021-06-21 08:00:00</td>\n",
       "      <td>None</td>\n",
       "      <td>0</td>\n",
       "    </tr>\n",
       "    <tr>\n",
       "      <th>761967</th>\n",
       "      <td>2021-06-21 08:00:00</td>\n",
       "      <td>None</td>\n",
       "      <td>0</td>\n",
       "    </tr>\n",
       "    <tr>\n",
       "      <th>300510</th>\n",
       "      <td>2021-06-21 08:00:00</td>\n",
       "      <td>None</td>\n",
       "      <td>0</td>\n",
       "    </tr>\n",
       "    <tr>\n",
       "      <th>...</th>\n",
       "      <td>...</td>\n",
       "      <td>...</td>\n",
       "      <td>...</td>\n",
       "    </tr>\n",
       "    <tr>\n",
       "      <th>87415</th>\n",
       "      <td>2022-09-30 08:00:00</td>\n",
       "      <td>None</td>\n",
       "      <td>0</td>\n",
       "    </tr>\n",
       "    <tr>\n",
       "      <th>587953</th>\n",
       "      <td>2022-09-30 08:00:00</td>\n",
       "      <td>None</td>\n",
       "      <td>0</td>\n",
       "    </tr>\n",
       "    <tr>\n",
       "      <th>30107</th>\n",
       "      <td>2022-09-30 08:00:00</td>\n",
       "      <td>None</td>\n",
       "      <td>0</td>\n",
       "    </tr>\n",
       "    <tr>\n",
       "      <th>560866</th>\n",
       "      <td>2022-09-30 08:00:00</td>\n",
       "      <td>None</td>\n",
       "      <td>0</td>\n",
       "    </tr>\n",
       "    <tr>\n",
       "      <th>408566</th>\n",
       "      <td>2022-09-30 08:00:00</td>\n",
       "      <td>None</td>\n",
       "      <td>0</td>\n",
       "    </tr>\n",
       "  </tbody>\n",
       "</table>\n",
       "<p>830579 rows × 3 columns</p>\n",
       "</div>"
      ],
      "text/plain": [
       "                      time class  count\n",
       "303976 2021-06-20 14:00:00  None      0\n",
       "589932 2021-06-20 16:00:00  None      0\n",
       "321811 2021-06-21 08:00:00  None      0\n",
       "761967 2021-06-21 08:00:00  None      0\n",
       "300510 2021-06-21 08:00:00  None      0\n",
       "...                    ...   ...    ...\n",
       "87415  2022-09-30 08:00:00  None      0\n",
       "587953 2022-09-30 08:00:00  None      0\n",
       "30107  2022-09-30 08:00:00  None      0\n",
       "560866 2022-09-30 08:00:00  None      0\n",
       "408566 2022-09-30 08:00:00  None      0\n",
       "\n",
       "[830579 rows x 3 columns]"
      ]
     },
     "execution_count": 53,
     "metadata": {},
     "output_type": "execute_result"
    }
   ],
   "source": [
    "res.sort_values('time')"
   ]
  },
  {
   "cell_type": "code",
   "execution_count": 48,
   "id": "bfd6194a-cfef-4781-b4ac-2a756c8707d3",
   "metadata": {},
   "outputs": [
    {
     "data": {
      "text/html": [
       "<div>\n",
       "<style scoped>\n",
       "    .dataframe tbody tr th:only-of-type {\n",
       "        vertical-align: middle;\n",
       "    }\n",
       "\n",
       "    .dataframe tbody tr th {\n",
       "        vertical-align: top;\n",
       "    }\n",
       "\n",
       "    .dataframe thead th {\n",
       "        text-align: right;\n",
       "    }\n",
       "</style>\n",
       "<table border=\"1\" class=\"dataframe\">\n",
       "  <thead>\n",
       "    <tr style=\"text-align: right;\">\n",
       "      <th></th>\n",
       "      <th>time</th>\n",
       "      <th>class</th>\n",
       "      <th>count</th>\n",
       "    </tr>\n",
       "  </thead>\n",
       "  <tbody>\n",
       "    <tr>\n",
       "      <th>0</th>\n",
       "      <td>2021-06-21 08:00:00</td>\n",
       "      <td>fliege</td>\n",
       "      <td>1</td>\n",
       "    </tr>\n",
       "    <tr>\n",
       "      <th>1</th>\n",
       "      <td>2021-06-21 08:00:00</td>\n",
       "      <td>wildbiene</td>\n",
       "      <td>1</td>\n",
       "    </tr>\n",
       "    <tr>\n",
       "      <th>2</th>\n",
       "      <td>2021-06-21 08:00:00</td>\n",
       "      <td>wildbiene</td>\n",
       "      <td>1</td>\n",
       "    </tr>\n",
       "    <tr>\n",
       "      <th>3</th>\n",
       "      <td>2021-06-21 08:00:00</td>\n",
       "      <td>fliege</td>\n",
       "      <td>1</td>\n",
       "    </tr>\n",
       "    <tr>\n",
       "      <th>4</th>\n",
       "      <td>2021-06-21 08:00:00</td>\n",
       "      <td>fliege</td>\n",
       "      <td>1</td>\n",
       "    </tr>\n",
       "    <tr>\n",
       "      <th>5</th>\n",
       "      <td>2021-06-21 08:00:00</td>\n",
       "      <td>wildbiene</td>\n",
       "      <td>1</td>\n",
       "    </tr>\n",
       "    <tr>\n",
       "      <th>6</th>\n",
       "      <td>2021-06-21 08:00:00</td>\n",
       "      <td>wildbiene</td>\n",
       "      <td>1</td>\n",
       "    </tr>\n",
       "    <tr>\n",
       "      <th>7</th>\n",
       "      <td>2021-06-21 08:00:00</td>\n",
       "      <td>fliege</td>\n",
       "      <td>1</td>\n",
       "    </tr>\n",
       "    <tr>\n",
       "      <th>8</th>\n",
       "      <td>2021-06-21 08:00:00</td>\n",
       "      <td>wildbiene</td>\n",
       "      <td>1</td>\n",
       "    </tr>\n",
       "    <tr>\n",
       "      <th>9</th>\n",
       "      <td>2021-06-21 08:00:00</td>\n",
       "      <td>wildbiene</td>\n",
       "      <td>1</td>\n",
       "    </tr>\n",
       "    <tr>\n",
       "      <th>10</th>\n",
       "      <td>2021-06-21 08:00:00</td>\n",
       "      <td>wildbiene</td>\n",
       "      <td>1</td>\n",
       "    </tr>\n",
       "    <tr>\n",
       "      <th>11</th>\n",
       "      <td>2021-06-21 08:00:00</td>\n",
       "      <td>fliege</td>\n",
       "      <td>1</td>\n",
       "    </tr>\n",
       "    <tr>\n",
       "      <th>12</th>\n",
       "      <td>2021-06-21 08:00:00</td>\n",
       "      <td>fliege</td>\n",
       "      <td>1</td>\n",
       "    </tr>\n",
       "    <tr>\n",
       "      <th>13</th>\n",
       "      <td>2021-06-21 08:00:00</td>\n",
       "      <td>wildbiene</td>\n",
       "      <td>1</td>\n",
       "    </tr>\n",
       "    <tr>\n",
       "      <th>14</th>\n",
       "      <td>2021-06-21 08:00:00</td>\n",
       "      <td>fliege</td>\n",
       "      <td>1</td>\n",
       "    </tr>\n",
       "    <tr>\n",
       "      <th>15</th>\n",
       "      <td>2021-06-21 08:00:00</td>\n",
       "      <td>fliege</td>\n",
       "      <td>1</td>\n",
       "    </tr>\n",
       "    <tr>\n",
       "      <th>16</th>\n",
       "      <td>2021-06-21 08:00:00</td>\n",
       "      <td>fliege</td>\n",
       "      <td>1</td>\n",
       "    </tr>\n",
       "    <tr>\n",
       "      <th>17</th>\n",
       "      <td>2021-06-21 08:00:00</td>\n",
       "      <td>fliege</td>\n",
       "      <td>1</td>\n",
       "    </tr>\n",
       "    <tr>\n",
       "      <th>18</th>\n",
       "      <td>2021-06-21 08:00:00</td>\n",
       "      <td>wildbiene</td>\n",
       "      <td>1</td>\n",
       "    </tr>\n",
       "    <tr>\n",
       "      <th>19</th>\n",
       "      <td>2021-06-21 08:00:00</td>\n",
       "      <td>fliege</td>\n",
       "      <td>1</td>\n",
       "    </tr>\n",
       "  </tbody>\n",
       "</table>\n",
       "</div>"
      ],
      "text/plain": [
       "                  time      class  count\n",
       "0  2021-06-21 08:00:00     fliege      1\n",
       "1  2021-06-21 08:00:00  wildbiene      1\n",
       "2  2021-06-21 08:00:00  wildbiene      1\n",
       "3  2021-06-21 08:00:00     fliege      1\n",
       "4  2021-06-21 08:00:00     fliege      1\n",
       "5  2021-06-21 08:00:00  wildbiene      1\n",
       "6  2021-06-21 08:00:00  wildbiene      1\n",
       "7  2021-06-21 08:00:00     fliege      1\n",
       "8  2021-06-21 08:00:00  wildbiene      1\n",
       "9  2021-06-21 08:00:00  wildbiene      1\n",
       "10 2021-06-21 08:00:00  wildbiene      1\n",
       "11 2021-06-21 08:00:00     fliege      1\n",
       "12 2021-06-21 08:00:00     fliege      1\n",
       "13 2021-06-21 08:00:00  wildbiene      1\n",
       "14 2021-06-21 08:00:00     fliege      1\n",
       "15 2021-06-21 08:00:00     fliege      1\n",
       "16 2021-06-21 08:00:00     fliege      1\n",
       "17 2021-06-21 08:00:00     fliege      1\n",
       "18 2021-06-21 08:00:00  wildbiene      1\n",
       "19 2021-06-21 08:00:00     fliege      1"
      ]
     },
     "execution_count": 48,
     "metadata": {},
     "output_type": "execute_result"
    }
   ],
   "source": [
    "res = res.sort_values(by='time').reset_index(drop=True)\n",
    "res = res.dropna(axis=0)\n",
    "res.head(20)"
   ]
  },
  {
   "cell_type": "code",
   "execution_count": 47,
   "id": "020ce8f6-e5ba-4c41-a901-374ee6edc691",
   "metadata": {},
   "outputs": [
    {
     "ename": "ValueError",
     "evalue": "Value of 'x' is not the name of a column in 'data_frame'. Expected one of ['time', 'class', 'count'] but received: hour",
     "output_type": "error",
     "traceback": [
      "\u001b[1;31m---------------------------------------------------------------------------\u001b[0m",
      "\u001b[1;31mValueError\u001b[0m                                Traceback (most recent call last)",
      "Cell \u001b[1;32mIn [47], line 1\u001b[0m\n\u001b[1;32m----> 1\u001b[0m fig \u001b[38;5;241m=\u001b[39m \u001b[43mpx\u001b[49m\u001b[38;5;241;43m.\u001b[39;49m\u001b[43mline\u001b[49m\u001b[43m(\u001b[49m\u001b[43mdata_frame\u001b[49m\u001b[38;5;241;43m=\u001b[39;49m\u001b[43mres\u001b[49m\u001b[43m,\u001b[49m\u001b[43m \u001b[49m\u001b[43mx\u001b[49m\u001b[38;5;241;43m=\u001b[39;49m\u001b[38;5;124;43m'\u001b[39;49m\u001b[38;5;124;43mhour\u001b[39;49m\u001b[38;5;124;43m'\u001b[39;49m\u001b[43m,\u001b[49m\u001b[43m \u001b[49m\u001b[43my\u001b[49m\u001b[38;5;241;43m=\u001b[39;49m\u001b[38;5;124;43m'\u001b[39;49m\u001b[38;5;124;43mcount\u001b[39;49m\u001b[38;5;124;43m'\u001b[39;49m\u001b[43m,\u001b[49m\u001b[43m \u001b[49m\u001b[43mcolor\u001b[49m\u001b[38;5;241;43m=\u001b[39;49m\u001b[38;5;124;43m'\u001b[39;49m\u001b[38;5;124;43mclass\u001b[39;49m\u001b[38;5;124;43m'\u001b[39;49m\u001b[43m,\u001b[49m\u001b[43m \u001b[49m\u001b[43mline_shape\u001b[49m\u001b[38;5;241;43m=\u001b[39;49m\u001b[38;5;124;43m'\u001b[39;49m\u001b[38;5;124;43mhv\u001b[39;49m\u001b[38;5;124;43m'\u001b[39;49m\u001b[43m,\u001b[49m\u001b[43m \u001b[49m\u001b[43mtemplate\u001b[49m\u001b[38;5;241;43m=\u001b[39;49m\u001b[38;5;124;43m'\u001b[39;49m\u001b[38;5;124;43msimple_white\u001b[39;49m\u001b[38;5;124;43m'\u001b[39;49m\u001b[43m,\u001b[49m\u001b[43m \u001b[49m\u001b[43m)\u001b[49m\n\u001b[0;32m      2\u001b[0m fig\u001b[38;5;241m.\u001b[39mupdate_layout(title\u001b[38;5;241m=\u001b[39m\u001b[38;5;124m'\u001b[39m\u001b[38;5;124mPollinators per Hour\u001b[39m\u001b[38;5;124m'\u001b[39m)\n\u001b[0;32m      3\u001b[0m fig\u001b[38;5;241m.\u001b[39mshow()\n",
      "File \u001b[1;32m~\\Desktop\\repo\\pollinator-ml-backend\\env\\lib\\site-packages\\plotly\\express\\_chart_types.py:264\u001b[0m, in \u001b[0;36mline\u001b[1;34m(data_frame, x, y, line_group, color, line_dash, symbol, hover_name, hover_data, custom_data, text, facet_row, facet_col, facet_col_wrap, facet_row_spacing, facet_col_spacing, error_x, error_x_minus, error_y, error_y_minus, animation_frame, animation_group, category_orders, labels, orientation, color_discrete_sequence, color_discrete_map, line_dash_sequence, line_dash_map, symbol_sequence, symbol_map, markers, log_x, log_y, range_x, range_y, line_shape, render_mode, title, template, width, height)\u001b[0m\n\u001b[0;32m    216\u001b[0m \u001b[38;5;28;01mdef\u001b[39;00m \u001b[38;5;21mline\u001b[39m(\n\u001b[0;32m    217\u001b[0m     data_frame\u001b[38;5;241m=\u001b[39m\u001b[38;5;28;01mNone\u001b[39;00m,\n\u001b[0;32m    218\u001b[0m     x\u001b[38;5;241m=\u001b[39m\u001b[38;5;28;01mNone\u001b[39;00m,\n\u001b[1;32m   (...)\u001b[0m\n\u001b[0;32m    258\u001b[0m     height\u001b[38;5;241m=\u001b[39m\u001b[38;5;28;01mNone\u001b[39;00m,\n\u001b[0;32m    259\u001b[0m ) \u001b[38;5;241m-\u001b[39m\u001b[38;5;241m>\u001b[39m go\u001b[38;5;241m.\u001b[39mFigure:\n\u001b[0;32m    260\u001b[0m     \u001b[38;5;124;03m\"\"\"\u001b[39;00m\n\u001b[0;32m    261\u001b[0m \u001b[38;5;124;03m    In a 2D line plot, each row of `data_frame` is represented as vertex of\u001b[39;00m\n\u001b[0;32m    262\u001b[0m \u001b[38;5;124;03m    a polyline mark in 2D space.\u001b[39;00m\n\u001b[0;32m    263\u001b[0m \u001b[38;5;124;03m    \"\"\"\u001b[39;00m\n\u001b[1;32m--> 264\u001b[0m     \u001b[38;5;28;01mreturn\u001b[39;00m \u001b[43mmake_figure\u001b[49m\u001b[43m(\u001b[49m\u001b[43margs\u001b[49m\u001b[38;5;241;43m=\u001b[39;49m\u001b[38;5;28;43mlocals\u001b[39;49m\u001b[43m(\u001b[49m\u001b[43m)\u001b[49m\u001b[43m,\u001b[49m\u001b[43m \u001b[49m\u001b[43mconstructor\u001b[49m\u001b[38;5;241;43m=\u001b[39;49m\u001b[43mgo\u001b[49m\u001b[38;5;241;43m.\u001b[39;49m\u001b[43mScatter\u001b[49m\u001b[43m)\u001b[49m\n",
      "File \u001b[1;32m~\\Desktop\\repo\\pollinator-ml-backend\\env\\lib\\site-packages\\plotly\\express\\_core.py:1990\u001b[0m, in \u001b[0;36mmake_figure\u001b[1;34m(args, constructor, trace_patch, layout_patch)\u001b[0m\n\u001b[0;32m   1987\u001b[0m layout_patch \u001b[38;5;241m=\u001b[39m layout_patch \u001b[38;5;129;01mor\u001b[39;00m {}\n\u001b[0;32m   1988\u001b[0m apply_default_cascade(args)\n\u001b[1;32m-> 1990\u001b[0m args \u001b[38;5;241m=\u001b[39m \u001b[43mbuild_dataframe\u001b[49m\u001b[43m(\u001b[49m\u001b[43margs\u001b[49m\u001b[43m,\u001b[49m\u001b[43m \u001b[49m\u001b[43mconstructor\u001b[49m\u001b[43m)\u001b[49m\n\u001b[0;32m   1991\u001b[0m \u001b[38;5;28;01mif\u001b[39;00m constructor \u001b[38;5;129;01min\u001b[39;00m [go\u001b[38;5;241m.\u001b[39mTreemap, go\u001b[38;5;241m.\u001b[39mSunburst, go\u001b[38;5;241m.\u001b[39mIcicle] \u001b[38;5;129;01mand\u001b[39;00m args[\u001b[38;5;124m\"\u001b[39m\u001b[38;5;124mpath\u001b[39m\u001b[38;5;124m\"\u001b[39m] \u001b[38;5;129;01mis\u001b[39;00m \u001b[38;5;129;01mnot\u001b[39;00m \u001b[38;5;28;01mNone\u001b[39;00m:\n\u001b[0;32m   1992\u001b[0m     args \u001b[38;5;241m=\u001b[39m process_dataframe_hierarchy(args)\n",
      "File \u001b[1;32m~\\Desktop\\repo\\pollinator-ml-backend\\env\\lib\\site-packages\\plotly\\express\\_core.py:1405\u001b[0m, in \u001b[0;36mbuild_dataframe\u001b[1;34m(args, constructor)\u001b[0m\n\u001b[0;32m   1402\u001b[0m     args[\u001b[38;5;124m\"\u001b[39m\u001b[38;5;124mcolor\u001b[39m\u001b[38;5;124m\"\u001b[39m] \u001b[38;5;241m=\u001b[39m \u001b[38;5;28;01mNone\u001b[39;00m\n\u001b[0;32m   1403\u001b[0m \u001b[38;5;66;03m# now that things have been prepped, we do the systematic rewriting of `args`\u001b[39;00m\n\u001b[1;32m-> 1405\u001b[0m df_output, wide_id_vars \u001b[38;5;241m=\u001b[39m \u001b[43mprocess_args_into_dataframe\u001b[49m\u001b[43m(\u001b[49m\n\u001b[0;32m   1406\u001b[0m \u001b[43m    \u001b[49m\u001b[43margs\u001b[49m\u001b[43m,\u001b[49m\u001b[43m \u001b[49m\u001b[43mwide_mode\u001b[49m\u001b[43m,\u001b[49m\u001b[43m \u001b[49m\u001b[43mvar_name\u001b[49m\u001b[43m,\u001b[49m\u001b[43m \u001b[49m\u001b[43mvalue_name\u001b[49m\n\u001b[0;32m   1407\u001b[0m \u001b[43m\u001b[49m\u001b[43m)\u001b[49m\n\u001b[0;32m   1409\u001b[0m \u001b[38;5;66;03m# now that `df_output` exists and `args` contains only references, we complete\u001b[39;00m\n\u001b[0;32m   1410\u001b[0m \u001b[38;5;66;03m# the special-case and wide-mode handling by further rewriting args and/or mutating\u001b[39;00m\n\u001b[0;32m   1411\u001b[0m \u001b[38;5;66;03m# df_output\u001b[39;00m\n\u001b[0;32m   1413\u001b[0m count_name \u001b[38;5;241m=\u001b[39m _escape_col_name(df_output, \u001b[38;5;124m\"\u001b[39m\u001b[38;5;124mcount\u001b[39m\u001b[38;5;124m\"\u001b[39m, [var_name, value_name])\n",
      "File \u001b[1;32m~\\Desktop\\repo\\pollinator-ml-backend\\env\\lib\\site-packages\\plotly\\express\\_core.py:1207\u001b[0m, in \u001b[0;36mprocess_args_into_dataframe\u001b[1;34m(args, wide_mode, var_name, value_name)\u001b[0m\n\u001b[0;32m   1205\u001b[0m         \u001b[38;5;28;01mif\u001b[39;00m argument \u001b[38;5;241m==\u001b[39m \u001b[38;5;124m\"\u001b[39m\u001b[38;5;124mindex\u001b[39m\u001b[38;5;124m\"\u001b[39m:\n\u001b[0;32m   1206\u001b[0m             err_msg \u001b[38;5;241m+\u001b[39m\u001b[38;5;241m=\u001b[39m \u001b[38;5;124m\"\u001b[39m\u001b[38;5;130;01m\\n\u001b[39;00m\u001b[38;5;124m To use the index, pass it in directly as `df.index`.\u001b[39m\u001b[38;5;124m\"\u001b[39m\n\u001b[1;32m-> 1207\u001b[0m         \u001b[38;5;28;01mraise\u001b[39;00m \u001b[38;5;167;01mValueError\u001b[39;00m(err_msg)\n\u001b[0;32m   1208\u001b[0m \u001b[38;5;28;01melif\u001b[39;00m length \u001b[38;5;129;01mand\u001b[39;00m \u001b[38;5;28mlen\u001b[39m(df_input[argument]) \u001b[38;5;241m!=\u001b[39m length:\n\u001b[0;32m   1209\u001b[0m     \u001b[38;5;28;01mraise\u001b[39;00m \u001b[38;5;167;01mValueError\u001b[39;00m(\n\u001b[0;32m   1210\u001b[0m         \u001b[38;5;124m\"\u001b[39m\u001b[38;5;124mAll arguments should have the same length. \u001b[39m\u001b[38;5;124m\"\u001b[39m\n\u001b[0;32m   1211\u001b[0m         \u001b[38;5;124m\"\u001b[39m\u001b[38;5;124mThe length of column argument `df[\u001b[39m\u001b[38;5;132;01m%s\u001b[39;00m\u001b[38;5;124m]` is \u001b[39m\u001b[38;5;132;01m%d\u001b[39;00m\u001b[38;5;124m, whereas the \u001b[39m\u001b[38;5;124m\"\u001b[39m\n\u001b[1;32m   (...)\u001b[0m\n\u001b[0;32m   1218\u001b[0m         )\n\u001b[0;32m   1219\u001b[0m     )\n",
      "\u001b[1;31mValueError\u001b[0m: Value of 'x' is not the name of a column in 'data_frame'. Expected one of ['time', 'class', 'count'] but received: hour"
     ]
    }
   ],
   "source": [
    "fig = px.line(data_frame=res, x='hour', y='count', color='class', line_shape='hv', template='simple_white', )\n",
    "fig.update_layout(title='Pollinators per Hour')\n",
    "fig.show()"
   ]
  },
  {
   "cell_type": "code",
   "execution_count": null,
   "id": "592113e9-b8ea-47f9-8c56-e4b705353e60",
   "metadata": {},
   "outputs": [],
   "source": []
  }
 ],
 "metadata": {
  "kernelspec": {
   "display_name": "Python 3 (ipykernel)",
   "language": "python",
   "name": "python3"
  },
  "language_info": {
   "codemirror_mode": {
    "name": "ipython",
    "version": 3
   },
   "file_extension": ".py",
   "mimetype": "text/x-python",
   "name": "python",
   "nbconvert_exporter": "python",
   "pygments_lexer": "ipython3",
   "version": "3.10.7"
  }
 },
 "nbformat": 4,
 "nbformat_minor": 5
}
